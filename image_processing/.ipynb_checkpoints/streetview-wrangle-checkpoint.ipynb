{
 "cells": [
  {
   "cell_type": "code",
   "execution_count": 3,
   "metadata": {
    "collapsed": false
   },
   "outputs": [],
   "source": [
    "import glob\n",
    "import os\n",
    "from skimage.io import imread\n",
    "from skimage import color\n",
    "import numpy as np"
   ]
  },
  {
   "cell_type": "code",
   "execution_count": 4,
   "metadata": {
    "collapsed": true
   },
   "outputs": [],
   "source": [
    "filename = []\n",
    "hue = []\n",
    "sat = []\n",
    "val = []\n",
    "counter = -1\n",
    "\n",
    "for file in glob.glob(os.path.join('/data/damoncrockett/streetview/','*.jpg')):\n",
    "    counter +=1\n",
    "    \n",
    "    try:\n",
    "        img = color.rgb2hsv(imread(file))\n",
    "        \n",
    "        m_hue = np.mean(img[:,:,0])\n",
    "        hue.append(m_hue)\n",
    "    \n",
    "        m_sat = np.mean(img[:,:,1])\n",
    "        sat.append(m_sat)\n",
    "    \n",
    "        m_val = np.mean(img[:,:,2])\n",
    "        val.append(m_val)\n",
    "    \n",
    "        filename.append(file)\n",
    "        \n",
    "        #print counter, file\n",
    "    \n",
    "    except:\n",
    "        print counter,file,'error'\n",
    "        \n",
    "import pandas as pd\n",
    "df = pd.DataFrame({'filename':filename,\n",
    "                   'hue':hue,\n",
    "                   'sat':sat,\n",
    "                   'val':val})"
   ]
  },
  {
   "cell_type": "code",
   "execution_count": 5,
   "metadata": {
    "collapsed": false
   },
   "outputs": [
    {
     "data": {
      "text/html": [
       "<div>\n",
       "<table border=\"1\" class=\"dataframe\">\n",
       "  <thead>\n",
       "    <tr style=\"text-align: right;\">\n",
       "      <th></th>\n",
       "      <th>filename</th>\n",
       "      <th>hue</th>\n",
       "      <th>sat</th>\n",
       "      <th>val</th>\n",
       "    </tr>\n",
       "  </thead>\n",
       "  <tbody>\n",
       "    <tr>\n",
       "      <th>0</th>\n",
       "      <td>/data/damoncrockett/streetview/327252577325_11...</td>\n",
       "      <td>0.360096</td>\n",
       "      <td>0.210740</td>\n",
       "      <td>0.577114</td>\n",
       "    </tr>\n",
       "    <tr>\n",
       "      <th>1</th>\n",
       "      <td>/data/damoncrockett/streetview/327559821658_11...</td>\n",
       "      <td>0.133303</td>\n",
       "      <td>0.022227</td>\n",
       "      <td>0.893477</td>\n",
       "    </tr>\n",
       "    <tr>\n",
       "      <th>2</th>\n",
       "      <td>/data/damoncrockett/streetview/3271716973_1172...</td>\n",
       "      <td>0.133303</td>\n",
       "      <td>0.022227</td>\n",
       "      <td>0.893477</td>\n",
       "    </tr>\n",
       "    <tr>\n",
       "      <th>3</th>\n",
       "      <td>/data/damoncrockett/streetview/327559167127_11...</td>\n",
       "      <td>0.291651</td>\n",
       "      <td>0.247157</td>\n",
       "      <td>0.511955</td>\n",
       "    </tr>\n",
       "    <tr>\n",
       "      <th>4</th>\n",
       "      <td>/data/damoncrockett/streetview/327157113787_11...</td>\n",
       "      <td>0.133303</td>\n",
       "      <td>0.022227</td>\n",
       "      <td>0.893477</td>\n",
       "    </tr>\n",
       "  </tbody>\n",
       "</table>\n",
       "</div>"
      ],
      "text/plain": [
       "                                            filename       hue       sat  \\\n",
       "0  /data/damoncrockett/streetview/327252577325_11...  0.360096  0.210740   \n",
       "1  /data/damoncrockett/streetview/327559821658_11...  0.133303  0.022227   \n",
       "2  /data/damoncrockett/streetview/3271716973_1172...  0.133303  0.022227   \n",
       "3  /data/damoncrockett/streetview/327559167127_11...  0.291651  0.247157   \n",
       "4  /data/damoncrockett/streetview/327157113787_11...  0.133303  0.022227   \n",
       "\n",
       "        val  \n",
       "0  0.577114  \n",
       "1  0.893477  \n",
       "2  0.893477  \n",
       "3  0.511955  \n",
       "4  0.893477  "
      ]
     },
     "execution_count": 5,
     "metadata": {},
     "output_type": "execute_result"
    }
   ],
   "source": [
    "df.head()"
   ]
  },
  {
   "cell_type": "code",
   "execution_count": 6,
   "metadata": {
    "collapsed": false
   },
   "outputs": [
    {
     "name": "stdout",
     "output_type": "stream",
     "text": [
      "<class 'pandas.core.frame.DataFrame'>\n",
      "Int64Index: 25000 entries, 0 to 24999\n",
      "Data columns (total 4 columns):\n",
      "filename    25000 non-null object\n",
      "hue         25000 non-null float64\n",
      "sat         25000 non-null float64\n",
      "val         25000 non-null float64\n",
      "dtypes: float64(3), object(1)\n",
      "memory usage: 976.6+ KB\n"
     ]
    }
   ],
   "source": [
    "df.info()"
   ]
  },
  {
   "cell_type": "code",
   "execution_count": 7,
   "metadata": {
    "collapsed": true
   },
   "outputs": [],
   "source": [
    "df.to_csv('/data/damoncrockett/streetview/streetview_downtown_25K_metadata.csv',index=False)"
   ]
  },
  {
   "cell_type": "code",
   "execution_count": 14,
   "metadata": {
    "collapsed": false
   },
   "outputs": [],
   "source": [
    "clue = df.hue.loc[1]"
   ]
  },
  {
   "cell_type": "code",
   "execution_count": 16,
   "metadata": {
    "collapsed": false
   },
   "outputs": [
    {
     "data": {
      "text/plain": [
       "13773"
      ]
     },
     "execution_count": 16,
     "metadata": {},
     "output_type": "execute_result"
    }
   ],
   "source": [
    "len(df.index[df.hue!=clue])"
   ]
  },
  {
   "cell_type": "code",
   "execution_count": 17,
   "metadata": {
    "collapsed": true
   },
   "outputs": [],
   "source": [
    "d = df[df.hue!=clue]"
   ]
  },
  {
   "cell_type": "code",
   "execution_count": 18,
   "metadata": {
    "collapsed": true
   },
   "outputs": [],
   "source": [
    "d.to_csv('/data/damoncrockett/streetview/streetview_downtown_25K_metadata_clean.csv',index=False)"
   ]
  },
  {
   "cell_type": "code",
   "execution_count": null,
   "metadata": {
    "collapsed": true
   },
   "outputs": [],
   "source": []
  }
 ],
 "metadata": {
  "kernelspec": {
   "display_name": "Python 2",
   "language": "python",
   "name": "python2"
  },
  "language_info": {
   "codemirror_mode": {
    "name": "ipython",
    "version": 2
   },
   "file_extension": ".py",
   "mimetype": "text/x-python",
   "name": "python",
   "nbconvert_exporter": "python",
   "pygments_lexer": "ipython2",
   "version": "2.7.6"
  }
 },
 "nbformat": 4,
 "nbformat_minor": 0
}
