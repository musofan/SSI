{
 "cells": [
  {
   "cell_type": "markdown",
   "metadata": {},
   "source": [
    "#GROWING CENTROID-POSSE PLOT"
   ]
  },
  {
   "cell_type": "markdown",
   "metadata": {},
   "source": [
    "Damon Crockett, Software Studies Initiative, Qualcomm Institute, UCSD"
   ]
  },
  {
   "cell_type": "markdown",
   "metadata": {},
   "source": [
    "##CENTROID DATA"
   ]
  },
  {
   "cell_type": "code",
   "execution_count": 1,
   "metadata": {
    "collapsed": true
   },
   "outputs": [],
   "source": [
    "DIR = \"/Users/damoncrockett/Desktop/Rothko_images/\""
   ]
  },
  {
   "cell_type": "code",
   "execution_count": 2,
   "metadata": {
    "collapsed": true
   },
   "outputs": [],
   "source": [
    "DATA = DIR+\"kmeans_centroids.csv\""
   ]
  },
  {
   "cell_type": "code",
   "execution_count": 3,
   "metadata": {
    "collapsed": false
   },
   "outputs": [],
   "source": [
    "import pandas as pd\n",
    "df = pd.read_csv(DATA)"
   ]
  },
  {
   "cell_type": "markdown",
   "metadata": {},
   "source": [
    "##PCA or t-SNE"
   ]
  },
  {
   "cell_type": "code",
   "execution_count": 4,
   "metadata": {
    "collapsed": false
   },
   "outputs": [],
   "source": [
    "from sklearn.decomposition import RandomizedPCA as pca\n",
    "from sklearn.manifold import TSNE as tsne\n",
    "\n",
    "pca = pca(n_components=2)\n",
    "tsne = tsne(n_components=2)\n",
    "\n",
    "X = df.as_matrix()\n",
    "\n",
    "pca.fit(X)\n",
    "tsne.fit(X)\n",
    "\n",
    "#subspace = pd.DataFrame(pca.transform(X),columns=[\"x\",\"y\"])\n",
    "subspace = pd.DataFrame(tsne.fit_transform(X),columns=[\"x\",\"y\"])"
   ]
  },
  {
   "cell_type": "code",
   "execution_count": 5,
   "metadata": {
    "collapsed": true
   },
   "outputs": [],
   "source": [
    "%matplotlib inline\n",
    "import matplotlib.pyplot as plt"
   ]
  },
  {
   "cell_type": "code",
   "execution_count": 6,
   "metadata": {
    "collapsed": false
   },
   "outputs": [
    {
     "data": {
      "text/plain": [
       "<matplotlib.collections.PathCollection at 0x108cadc10>"
      ]
     },
     "execution_count": 6,
     "metadata": {},
     "output_type": "execute_result"
    },
    {
     "data": {
      "image/png": "[encoded data removed]",
      "text/plain": [
       "<matplotlib.figure.Figure at 0x108c8a990>"
      ]
     },
     "metadata": {},
     "output_type": "display_data"
    }
   ],
   "source": [
    "x = subspace.x\n",
    "y = subspace.y\n",
    "fig, ax = plt.subplots(figsize=(4,4))\n",
    "ax.scatter(x, y)"
   ]
  },
  {
   "cell_type": "markdown",
   "metadata": {},
   "source": [
    "##IMAGE DATA"
   ]
  },
  {
   "cell_type": "code",
   "execution_count": 69,
   "metadata": {
    "collapsed": true
   },
   "outputs": [],
   "source": [
    "BASE = \"/Users/damoncrockett/Desktop/Rothko_images/\"\n",
    "DATA = BASE+\"hogs_clusters.csv\""
   ]
  },
  {
   "cell_type": "code",
   "execution_count": 100,
   "metadata": {
    "collapsed": true
   },
   "outputs": [],
   "source": [
    "import os\n",
    "import glob"
   ]
  },
  {
   "cell_type": "markdown",
   "metadata": {},
   "source": [
    "####ADD LOCAL PATHS"
   ]
  },
  {
   "cell_type": "code",
   "execution_count": 101,
   "metadata": {
    "collapsed": false
   },
   "outputs": [],
   "source": [
    "collection = pd.read_csv(DATA)\n",
    "n = len(collection.index)\n",
    "local_path = []\n",
    "for i in range(n):\n",
    "    local_path.append(BASE+os.path.basename(collection.file_names.loc[i]))\n",
    "collection['local_path'] = local_path\n",
    "collection.to_csv(DATA,index=False)"
   ]
  },
  {
   "cell_type": "markdown",
   "metadata": {},
   "source": [
    "##GRID"
   ]
  },
  {
   "cell_type": "code",
   "execution_count": 102,
   "metadata": {
    "collapsed": true
   },
   "outputs": [],
   "source": [
    "num_bins = 25"
   ]
  },
  {
   "cell_type": "code",
   "execution_count": 103,
   "metadata": {
    "collapsed": false
   },
   "outputs": [
    {
     "name": "stdout",
     "output_type": "stream",
     "text": [
      "-478.127092074 354.280288672 -185.641340835 181.537757376\n"
     ]
    }
   ],
   "source": [
    "# adding in some extremes to push the edges out\n",
    "\n",
    "print subspace.x.min(), subspace.x.max(), subspace.y.min(), subspace.y.max()"
   ]
  },
  {
   "cell_type": "code",
   "execution_count": 104,
   "metadata": {
    "collapsed": false
   },
   "outputs": [],
   "source": [
    "x = [-500,500]\n",
    "y = [-500,500]\n",
    "\n",
    "tmp = pd.DataFrame(x,columns=[\"x\"])\n",
    "tmp[\"y\"] = y\n",
    "subspace = subspace.append(tmp)"
   ]
  },
  {
   "cell_type": "code",
   "execution_count": 105,
   "metadata": {
    "collapsed": false
   },
   "outputs": [],
   "source": [
    "subspace['x_bin'] = pd.cut(subspace['x'],num_bins,labels=False)\n",
    "subspace['y_bin'] = pd.cut(subspace['y'],num_bins,labels=False)"
   ]
  },
  {
   "cell_type": "code",
   "execution_count": 106,
   "metadata": {
    "collapsed": false
   },
   "outputs": [
    {
     "data": {
      "text/plain": [
       "<matplotlib.collections.PathCollection at 0x109122510>"
      ]
     },
     "execution_count": 106,
     "metadata": {},
     "output_type": "execute_result"
    },
    {
     "data": {
      "image/png": "[encoded data removed]",
      "text/plain": [
       "<matplotlib.figure.Figure at 0x108da5490>"
      ]
     },
     "metadata": {},
     "output_type": "display_data"
    }
   ],
   "source": [
    "x = subspace.x_bin\n",
    "y = subspace.y_bin\n",
    "fig, ax = plt.subplots(figsize=(4,4))\n",
    "ax.scatter(x, y)"
   ]
  },
  {
   "cell_type": "code",
   "execution_count": 107,
   "metadata": {
    "collapsed": false
   },
   "outputs": [],
   "source": [
    "# now we can remove the extreme points we used as grid expanders\n",
    "\n",
    "subspace = subspace[:10]"
   ]
  },
  {
   "cell_type": "code",
   "execution_count": 108,
   "metadata": {
    "collapsed": false
   },
   "outputs": [],
   "source": [
    "# now to expand the grid by simple multiplication\n",
    "\n",
    "factor = 1\n",
    "\n",
    "subspace[\"x_grid\"] = subspace.x_bin * factor\n",
    "subspace[\"y_grid\"] = subspace.y_bin * factor"
   ]
  },
  {
   "cell_type": "code",
   "execution_count": 109,
   "metadata": {
    "collapsed": false
   },
   "outputs": [],
   "source": [
    "from shapely.geometry import Point\n",
    "\n",
    "centroid_point = []\n",
    "n = len(subspace.index)\n",
    "for i in range(n):\n",
    "    centroid_point.append(Point(subspace.x_grid.loc[i],subspace.y_grid.loc[i]))\n",
    "    \n",
    "subspace['centroid_point'] = centroid_point"
   ]
  },
  {
   "cell_type": "markdown",
   "metadata": {},
   "source": [
    "####GRID LIST"
   ]
  },
  {
   "cell_type": "code",
   "execution_count": 110,
   "metadata": {
    "collapsed": false
   },
   "outputs": [],
   "source": [
    "grid_side = num_bins * factor"
   ]
  },
  {
   "cell_type": "code",
   "execution_count": 111,
   "metadata": {
    "collapsed": true
   },
   "outputs": [],
   "source": [
    "import numpy as np"
   ]
  },
  {
   "cell_type": "code",
   "execution_count": 112,
   "metadata": {
    "collapsed": false
   },
   "outputs": [],
   "source": [
    "x,y = range(grid_side) * grid_side, np.repeat(range(grid_side),grid_side)\n",
    "grid_list = pd.DataFrame(x,columns=['x'])\n",
    "grid_list['y'] = y"
   ]
  },
  {
   "cell_type": "code",
   "execution_count": 113,
   "metadata": {
    "collapsed": false
   },
   "outputs": [],
   "source": [
    "point = []\n",
    "n = len(grid_list.index)\n",
    "for i in range(n):\n",
    "    point.append(Point(grid_list.x.loc[i],grid_list.y.loc[i]))\n",
    "\n",
    "grid_list['point'] = point"
   ]
  },
  {
   "cell_type": "code",
   "execution_count": 114,
   "metadata": {
    "collapsed": true
   },
   "outputs": [],
   "source": [
    "open_grid = list(grid_list.point)"
   ]
  },
  {
   "cell_type": "code",
   "execution_count": 115,
   "metadata": {
    "collapsed": false
   },
   "outputs": [],
   "source": [
    "centroids = list(subspace.centroid_point)"
   ]
  },
  {
   "cell_type": "markdown",
   "metadata": {},
   "source": [
    "####REMOVAL OF CENTROIDS FROM OPEN_GRID LIST"
   ]
  },
  {
   "cell_type": "code",
   "execution_count": 116,
   "metadata": {
    "collapsed": false
   },
   "outputs": [
    {
     "data": {
      "text/plain": [
       "625"
      ]
     },
     "execution_count": 116,
     "metadata": {},
     "output_type": "execute_result"
    }
   ],
   "source": [
    "len(open_grid)"
   ]
  },
  {
   "cell_type": "code",
   "execution_count": 117,
   "metadata": {
    "collapsed": false
   },
   "outputs": [
    {
     "data": {
      "text/plain": [
       "10"
      ]
     },
     "execution_count": 117,
     "metadata": {},
     "output_type": "execute_result"
    }
   ],
   "source": [
    "len(centroids)"
   ]
  },
  {
   "cell_type": "code",
   "execution_count": 118,
   "metadata": {
    "collapsed": true
   },
   "outputs": [],
   "source": [
    "# note that this will have the effect that, in the plot, the centroid locations will be empty"
   ]
  },
  {
   "cell_type": "code",
   "execution_count": 119,
   "metadata": {
    "collapsed": true
   },
   "outputs": [],
   "source": [
    "open_grid = [item for item in open_grid if item not in centroids]"
   ]
  },
  {
   "cell_type": "code",
   "execution_count": 120,
   "metadata": {
    "collapsed": false
   },
   "outputs": [
    {
     "data": {
      "text/plain": [
       "615"
      ]
     },
     "execution_count": 120,
     "metadata": {},
     "output_type": "execute_result"
    }
   ],
   "source": [
    "len(open_grid)"
   ]
  },
  {
   "cell_type": "markdown",
   "metadata": {},
   "source": [
    "##PLOT FUNCTION"
   ]
  },
  {
   "cell_type": "code",
   "execution_count": 121,
   "metadata": {
    "collapsed": true
   },
   "outputs": [],
   "source": [
    "from PIL import Image"
   ]
  },
  {
   "cell_type": "code",
   "execution_count": 122,
   "metadata": {
    "collapsed": true
   },
   "outputs": [],
   "source": [
    "thumb_side = 64"
   ]
  },
  {
   "cell_type": "code",
   "execution_count": 123,
   "metadata": {
    "collapsed": true
   },
   "outputs": [],
   "source": [
    "px_w = thumb_side * grid_side\n",
    "px_h = thumb_side * grid_side"
   ]
  },
  {
   "cell_type": "code",
   "execution_count": 124,
   "metadata": {
    "collapsed": true
   },
   "outputs": [],
   "source": [
    "canvas = Image.new('RGB',(px_w,px_h),(50,50,50))"
   ]
  },
  {
   "cell_type": "code",
   "execution_count": 125,
   "metadata": {
    "collapsed": true
   },
   "outputs": [],
   "source": [
    "def plot():\n",
    "    n = len(subspace.index)\n",
    "    for i in range(n):\n",
    "        centroid = subspace.centroid_point.loc[i]\n",
    "        try:\n",
    "            # again, a workaround for indexing difference\n",
    "            candidates = collection[collection.clusters==i]\n",
    "            candidates.sort(\"cluster_dist\",inplace=True)\n",
    "            best = candidates.iloc[0]\n",
    "            im = Image.open(best.local_path)\n",
    "            im.thumbnail((thumb_side,thumb_side),Image.ANTIALIAS)\n",
    "            closest_open = min(open_grid,key=lambda x: centroid.distance(x))\n",
    "            x = int(closest_open.x) * thumb_side\n",
    "            y = int(closest_open.y) * thumb_side\n",
    "            canvas.paste(im,(x,y))\n",
    "            idx = collection[collection.local_path==best.local_path].index\n",
    "            collection.drop(idx,inplace=True)\n",
    "            open_grid.remove(closest_open)\n",
    "            print i\n",
    "        except:\n",
    "            print \"cluster empty\""
   ]
  },
  {
   "cell_type": "code",
   "execution_count": 126,
   "metadata": {
    "collapsed": false
   },
   "outputs": [],
   "source": [
    "iterations = list(collection.clusters.value_counts())[0]"
   ]
  },
  {
   "cell_type": "code",
   "execution_count": 127,
   "metadata": {
    "collapsed": false
   },
   "outputs": [
    {
     "name": "stdout",
     "output_type": "stream",
     "text": [
      "plot_ 0\n",
      "0\n",
      "1\n",
      "2\n",
      "3\n",
      "4\n",
      "5\n",
      "6\n",
      "7\n",
      "8\n",
      "9\n",
      "plot_ 1\n",
      "0\n",
      "1\n",
      "2\n",
      "3\n",
      "4\n",
      "5\n",
      "6\n",
      "7\n",
      "8\n",
      "9\n",
      "plot_ 2\n",
      "0\n",
      "1\n",
      "2\n",
      "3\n",
      "4\n",
      "5\n",
      "6\n",
      "7\n",
      "8\n",
      "9\n",
      "plot_ 3\n",
      "0\n",
      "1\n",
      "2\n",
      "3\n",
      "4\n",
      "5\n",
      "6\n",
      "7\n",
      "cluster empty\n",
      "cluster empty\n",
      "plot_ 4\n",
      "0\n",
      "1\n",
      "2\n",
      "3\n",
      "4\n",
      "5\n",
      "6\n",
      "7\n",
      "cluster empty\n",
      "cluster empty\n",
      "plot_ 5\n",
      "0\n",
      "1\n",
      "2\n",
      "3\n",
      "4\n",
      "5\n",
      "6\n",
      "7\n",
      "cluster empty\n",
      "cluster empty\n",
      "plot_ 6\n",
      "0\n",
      "1\n",
      "2\n",
      "3\n",
      "4\n",
      "5\n",
      "6\n",
      "7\n",
      "cluster empty\n",
      "cluster empty\n",
      "plot_ 7\n",
      "0\n",
      "1\n",
      "2\n",
      "3\n",
      "4\n",
      "5\n",
      "6\n",
      "7\n",
      "cluster empty\n",
      "cluster empty\n",
      "plot_ 8\n",
      "0\n",
      "1\n",
      "2\n",
      "3\n",
      "4\n",
      "5\n",
      "6\n",
      "7\n",
      "cluster empty\n",
      "cluster empty\n",
      "plot_ 9\n",
      "0\n",
      "1\n",
      "2\n",
      "3\n",
      "4\n",
      "5\n",
      "6\n",
      "7\n",
      "cluster empty\n",
      "cluster empty\n",
      "plot_ 10\n",
      "0\n",
      "1\n",
      "2\n",
      "3\n",
      "4\n",
      "5\n",
      "6\n",
      "7\n",
      "cluster empty\n",
      "cluster empty\n",
      "plot_ 11\n",
      "0\n",
      "1\n",
      "2\n",
      "3\n",
      "4\n",
      "5\n",
      "6\n",
      "7\n",
      "cluster empty\n",
      "cluster empty\n",
      "plot_ 12\n",
      "0\n",
      "1\n",
      "2\n",
      "3\n",
      "4\n",
      "5\n",
      "6\n",
      "7\n",
      "cluster empty\n",
      "cluster empty\n",
      "plot_ 13\n",
      "0\n",
      "1\n",
      "2\n",
      "3\n",
      "4\n",
      "5\n",
      "6\n",
      "7\n",
      "cluster empty\n",
      "cluster empty\n",
      "plot_ 14\n",
      "0\n",
      "1\n",
      "2\n",
      "3\n",
      "4\n",
      "5\n",
      "6\n",
      "7\n",
      "cluster empty\n",
      "cluster empty\n",
      "plot_ 15\n",
      "0\n",
      "1\n",
      "2\n",
      "3\n",
      "4\n",
      "5\n",
      "6\n",
      "7\n",
      "cluster empty\n",
      "cluster empty\n",
      "plot_ 16\n",
      "0\n",
      "1\n",
      "2\n",
      "3\n",
      "4\n",
      "5\n",
      "6\n",
      "7\n",
      "cluster empty\n",
      "cluster empty\n",
      "plot_ 17\n",
      "0\n",
      "1\n",
      "2\n",
      "3\n",
      "4\n",
      "5\n",
      "6\n",
      "7\n",
      "cluster empty\n",
      "cluster empty\n",
      "plot_ 18\n",
      "0\n",
      "1\n",
      "2\n",
      "3\n",
      "4\n",
      "5\n",
      "6\n",
      "7\n",
      "cluster empty\n",
      "cluster empty\n",
      "plot_ 19\n",
      "0\n",
      "1\n",
      "2\n",
      "3\n",
      "4\n",
      "5\n",
      "6\n",
      "7\n",
      "cluster empty\n",
      "cluster empty\n",
      "plot_ 20\n",
      "0\n",
      "1\n",
      "2\n",
      "3\n",
      "4\n",
      "5\n",
      "6\n",
      "7\n",
      "cluster empty\n",
      "cluster empty\n",
      "plot_ 21\n",
      "0\n",
      "1\n",
      "2\n",
      "3\n",
      "4\n",
      "5\n",
      "6\n",
      "7\n",
      "cluster empty\n",
      "cluster empty\n",
      "plot_ 22\n",
      "0\n",
      "1\n",
      "2\n",
      "3\n",
      "4\n",
      "5\n",
      "6\n",
      "7\n",
      "cluster empty\n",
      "cluster empty\n",
      "plot_ 23\n",
      "0\n",
      "1\n",
      "2\n",
      "3\n",
      "4\n",
      "5\n",
      "6\n",
      "7\n",
      "cluster empty\n",
      "cluster empty\n",
      "plot_ 24\n",
      "0\n",
      "1\n",
      "2\n",
      "3\n",
      "4\n",
      "5\n",
      "6\n",
      "cluster empty\n",
      "cluster empty\n",
      "cluster empty\n",
      "plot_ 25\n",
      "0\n",
      "1\n",
      "2\n",
      "3\n",
      "4\n",
      "5\n",
      "6\n",
      "cluster empty\n",
      "cluster empty\n",
      "cluster empty\n",
      "plot_ 26\n",
      "0\n",
      "1\n",
      "2\n",
      "3\n",
      "4\n",
      "5\n",
      "6\n",
      "cluster empty\n",
      "cluster empty\n",
      "cluster empty\n",
      "plot_ 27\n",
      "0\n",
      "1\n",
      "2\n",
      "3\n",
      "4\n",
      "5\n",
      "6\n",
      "cluster empty\n",
      "cluster empty\n",
      "cluster empty\n",
      "plot_ 28\n",
      "0\n",
      "1\n",
      "2\n",
      "3\n",
      "4\n",
      "5\n",
      "6\n",
      "cluster empty\n",
      "cluster empty\n",
      "cluster empty\n",
      "plot_ 29\n",
      "0\n",
      "1\n",
      "2\n",
      "3\n",
      "4\n",
      "5\n",
      "6\n",
      "cluster empty\n",
      "cluster empty\n",
      "cluster empty\n",
      "plot_ 30\n",
      "0\n",
      "1\n",
      "2\n",
      "3\n",
      "4\n",
      "5\n",
      "6\n",
      "cluster empty\n",
      "cluster empty\n",
      "cluster empty\n",
      "plot_ 31\n",
      "0\n",
      "1\n",
      "2\n",
      "3\n",
      "4\n",
      "5\n",
      "6\n",
      "cluster empty\n",
      "cluster empty\n",
      "cluster empty\n",
      "plot_ 32\n",
      "0\n",
      "1\n",
      "2\n",
      "3\n",
      "4\n",
      "5\n",
      "6\n",
      "cluster empty\n",
      "cluster empty\n",
      "cluster empty\n",
      "plot_ 33\n",
      "0\n",
      "1\n",
      "2\n",
      "3\n",
      "4\n",
      "5\n",
      "6\n",
      "cluster empty\n",
      "cluster empty\n",
      "cluster empty\n",
      "plot_ 34\n",
      "0\n",
      "1\n",
      "2\n",
      "3\n",
      "4\n",
      "5\n",
      "6\n",
      "cluster empty\n",
      "cluster empty\n",
      "cluster empty\n",
      "plot_ 35\n",
      "0\n",
      "1\n",
      "2\n",
      "3\n",
      "4\n",
      "5\n",
      "6\n",
      "cluster empty\n",
      "cluster empty\n",
      "cluster empty\n",
      "plot_ 36\n",
      "0\n",
      "1\n",
      "cluster empty\n",
      "3\n",
      "4\n",
      "5\n",
      "6\n",
      "cluster empty\n",
      "cluster empty\n",
      "cluster empty\n",
      "plot_ 37\n",
      "0\n",
      "1\n",
      "cluster empty\n",
      "3\n",
      "4\n",
      "5\n",
      "6\n",
      "cluster empty\n",
      "cluster empty\n",
      "cluster empty\n",
      "plot_ 38\n",
      "0\n",
      "1\n",
      "cluster empty\n",
      "3\n",
      "4\n",
      "5\n",
      "6\n",
      "cluster empty\n",
      "cluster empty\n",
      "cluster empty\n",
      "plot_ 39\n",
      "0\n",
      "1\n",
      "cluster empty\n",
      "3\n",
      "4\n",
      "5\n",
      "6\n",
      "cluster empty\n",
      "cluster empty\n",
      "cluster empty\n",
      "plot_ 40\n",
      "0\n",
      "1\n",
      "cluster empty\n",
      "3\n",
      "4\n",
      "5\n",
      "6\n",
      "cluster empty\n",
      "cluster empty\n",
      "cluster empty\n",
      "plot_ 41\n",
      "0\n",
      "1\n",
      "cluster empty\n",
      "3\n",
      "4\n",
      "5\n",
      "6\n",
      "cluster empty\n",
      "cluster empty\n",
      "cluster empty\n",
      "plot_ 42\n",
      "0\n",
      "1\n",
      "cluster empty\n",
      "3\n",
      "4\n",
      "5\n",
      "6\n",
      "cluster empty\n",
      "cluster empty\n",
      "cluster empty\n",
      "plot_ 43\n",
      "0\n",
      "1\n",
      "cluster empty\n",
      "3\n",
      "4\n",
      "cluster empty\n",
      "6\n",
      "cluster empty\n",
      "cluster empty\n",
      "cluster empty\n",
      "plot_ 44\n",
      "0\n",
      "1\n",
      "cluster empty\n",
      "3\n",
      "4\n",
      "cluster empty\n",
      "6\n",
      "cluster empty\n",
      "cluster empty\n",
      "cluster empty\n",
      "plot_ 45\n",
      "0\n",
      "1\n",
      "cluster empty\n",
      "3\n",
      "4\n",
      "cluster empty\n",
      "6\n",
      "cluster empty\n",
      "cluster empty\n",
      "cluster empty\n",
      "plot_ 46\n",
      "0\n",
      "1\n",
      "cluster empty\n",
      "3\n",
      "4\n",
      "cluster empty\n",
      "6\n",
      "cluster empty\n",
      "cluster empty\n",
      "cluster empty\n",
      "plot_ 47\n",
      "cluster empty\n",
      "1\n",
      "cluster empty\n",
      "3\n",
      "4\n",
      "cluster empty\n",
      "6\n",
      "cluster empty\n",
      "cluster empty\n",
      "cluster empty\n",
      "plot_ 48\n",
      "cluster empty\n",
      "1\n",
      "cluster empty\n",
      "3\n",
      "4\n",
      "cluster empty\n",
      "6\n",
      "cluster empty\n",
      "cluster empty\n",
      "cluster empty\n",
      "plot_ 49\n",
      "cluster empty\n",
      "1\n",
      "cluster empty\n",
      "3\n",
      "4\n",
      "cluster empty\n",
      "6\n",
      "cluster empty\n",
      "cluster empty\n",
      "cluster empty\n",
      "plot_ 50\n",
      "cluster empty\n",
      "1\n",
      "cluster empty\n",
      "3\n",
      "4\n",
      "cluster empty\n",
      "6\n",
      "cluster empty\n",
      "cluster empty\n",
      "cluster empty\n",
      "plot_ 51\n",
      "cluster empty\n",
      "1\n",
      "cluster empty\n",
      "3\n",
      "4\n",
      "cluster empty\n",
      "6\n",
      "cluster empty\n",
      "cluster empty\n",
      "cluster empty\n",
      "plot_ 52\n",
      "cluster empty\n",
      "1\n",
      "cluster empty\n",
      "3\n",
      "4\n",
      "cluster empty\n",
      "6\n",
      "cluster empty\n",
      "cluster empty\n",
      "cluster empty\n",
      "plot_ 53\n",
      "cluster empty\n",
      "1\n",
      "cluster empty\n",
      "3\n",
      "cluster empty\n",
      "cluster empty\n",
      "6\n",
      "cluster empty\n",
      "cluster empty\n",
      "cluster empty\n",
      "plot_ 54\n",
      "cluster empty\n",
      "1\n",
      "cluster empty\n",
      "3\n",
      "cluster empty\n",
      "cluster empty\n",
      "6\n",
      "cluster empty\n",
      "cluster empty\n",
      "cluster empty\n",
      "plot_ 55\n",
      "cluster empty\n",
      "1\n",
      "cluster empty\n",
      "3\n",
      "cluster empty\n",
      "cluster empty\n",
      "6\n",
      "cluster empty\n",
      "cluster empty\n",
      "cluster empty\n",
      "plot_ 56\n",
      "cluster empty\n",
      "1\n",
      "cluster empty\n",
      "3\n",
      "cluster empty\n",
      "cluster empty\n",
      "6\n",
      "cluster empty\n",
      "cluster empty\n",
      "cluster empty\n",
      "plot_ 57\n",
      "cluster empty\n",
      "1\n",
      "cluster empty\n",
      "3\n",
      "cluster empty\n",
      "cluster empty\n",
      "cluster empty\n",
      "cluster empty\n",
      "cluster empty\n",
      "cluster empty\n",
      "plot_ 58\n",
      "cluster empty\n",
      "1\n",
      "cluster empty\n",
      "3\n",
      "cluster empty\n",
      "cluster empty\n",
      "cluster empty\n",
      "cluster empty\n",
      "cluster empty\n",
      "cluster empty\n",
      "plot_ 59\n",
      "cluster empty\n",
      "1\n",
      "cluster empty\n",
      "3\n",
      "cluster empty\n",
      "cluster empty\n",
      "cluster empty\n",
      "cluster empty\n",
      "cluster empty\n",
      "cluster empty\n",
      "plot_ 60\n",
      "cluster empty\n",
      "1\n",
      "cluster empty\n",
      "3\n",
      "cluster empty\n",
      "cluster empty\n",
      "cluster empty\n",
      "cluster empty\n",
      "cluster empty\n",
      "cluster empty\n",
      "plot_ 61\n",
      "cluster empty\n",
      "1\n",
      "cluster empty\n",
      "3\n",
      "cluster empty\n",
      "cluster empty\n",
      "cluster empty\n",
      "cluster empty\n",
      "cluster empty\n",
      "cluster empty\n",
      "plot_ 62\n",
      "cluster empty\n",
      "1\n",
      "cluster empty\n",
      "3\n",
      "cluster empty\n",
      "cluster empty\n",
      "cluster empty\n",
      "cluster empty\n",
      "cluster empty\n",
      "cluster empty\n",
      "plot_ 63\n",
      "cluster empty\n",
      "1\n",
      "cluster empty\n",
      "3\n",
      "cluster empty\n",
      "cluster empty\n",
      "cluster empty\n",
      "cluster empty\n",
      "cluster empty\n",
      "cluster empty\n",
      "plot_ 64\n",
      "cluster empty\n",
      "1\n",
      "cluster empty\n",
      "3\n",
      "cluster empty\n",
      "cluster empty\n",
      "cluster empty\n",
      "cluster empty\n",
      "cluster empty\n",
      "cluster empty\n",
      "plot_ 65\n",
      "cluster empty\n",
      "1\n",
      "cluster empty\n",
      "3\n",
      "cluster empty\n",
      "cluster empty\n",
      "cluster empty\n",
      "cluster empty\n",
      "cluster empty\n",
      "cluster empty\n",
      "plot_ 66\n",
      "cluster empty\n",
      "1\n",
      "cluster empty\n",
      "3\n",
      "cluster empty\n",
      "cluster empty\n",
      "cluster empty\n",
      "cluster empty\n",
      "cluster empty\n",
      "cluster empty\n",
      "plot_ 67\n",
      "cluster empty\n",
      "1\n",
      "cluster empty\n",
      "3\n",
      "cluster empty\n",
      "cluster empty\n",
      "cluster empty\n",
      "cluster empty\n",
      "cluster empty\n",
      "cluster empty\n",
      "plot_ 68\n",
      "cluster empty\n",
      "1\n",
      "cluster empty\n",
      "3\n",
      "cluster empty\n",
      "cluster empty\n",
      "cluster empty\n",
      "cluster empty\n",
      "cluster empty\n",
      "cluster empty\n",
      "plot_ 69\n",
      "cluster empty\n",
      "cluster empty\n",
      "cluster empty\n",
      "3\n",
      "cluster empty\n",
      "cluster empty\n",
      "cluster empty\n",
      "cluster empty\n",
      "cluster empty\n",
      "cluster empty\n",
      "plot_ 70\n",
      "cluster empty\n",
      "cluster empty\n",
      "cluster empty\n",
      "3\n",
      "cluster empty\n",
      "cluster empty\n",
      "cluster empty\n",
      "cluster empty\n",
      "cluster empty\n",
      "cluster empty\n",
      "plot_ 71\n",
      "cluster empty\n",
      "cluster empty\n",
      "cluster empty\n",
      "3\n",
      "cluster empty\n",
      "cluster empty\n",
      "cluster empty\n",
      "cluster empty\n",
      "cluster empty\n",
      "cluster empty\n",
      "plot_ 72\n",
      "cluster empty\n",
      "cluster empty\n",
      "cluster empty\n",
      "3\n",
      "cluster empty\n",
      "cluster empty\n",
      "cluster empty\n",
      "cluster empty\n",
      "cluster empty\n",
      "cluster empty\n",
      "plot_ 73\n",
      "cluster empty\n",
      "cluster empty\n",
      "cluster empty\n",
      "3\n",
      "cluster empty\n",
      "cluster empty\n",
      "cluster empty\n",
      "cluster empty\n",
      "cluster empty\n",
      "cluster empty\n",
      "plot_ 74\n",
      "cluster empty\n",
      "cluster empty\n",
      "cluster empty\n",
      "3\n",
      "cluster empty\n",
      "cluster empty\n",
      "cluster empty\n",
      "cluster empty\n",
      "cluster empty\n",
      "cluster empty\n",
      "plot_ 75\n",
      "cluster empty\n",
      "cluster empty\n",
      "cluster empty\n",
      "3\n",
      "cluster empty\n",
      "cluster empty\n",
      "cluster empty\n",
      "cluster empty\n",
      "cluster empty\n",
      "cluster empty\n",
      "plot_ 76\n",
      "cluster empty\n",
      "cluster empty\n",
      "cluster empty\n",
      "3\n",
      "cluster empty\n",
      "cluster empty\n",
      "cluster empty\n",
      "cluster empty\n",
      "cluster empty\n",
      "cluster empty\n",
      "plot_ 77\n",
      "cluster empty\n",
      "cluster empty\n",
      "cluster empty\n",
      "3\n",
      "cluster empty\n",
      "cluster empty\n",
      "cluster empty\n",
      "cluster empty\n",
      "cluster empty\n",
      "cluster empty\n",
      "plot_ 78\n",
      "cluster empty\n",
      "cluster empty\n",
      "cluster empty\n",
      "3\n",
      "cluster empty\n",
      "cluster empty\n",
      "cluster empty\n",
      "cluster empty\n",
      "cluster empty\n",
      "cluster empty\n",
      "plot_ 79\n",
      "cluster empty\n",
      "cluster empty\n",
      "cluster empty\n",
      "3\n",
      "cluster empty\n",
      "cluster empty\n",
      "cluster empty\n",
      "cluster empty\n",
      "cluster empty\n",
      "cluster empty\n"
     ]
    }
   ],
   "source": [
    "for i in range(iterations):\n",
    "    print \"plot_\",i\n",
    "    plot()"
   ]
  },
  {
   "cell_type": "code",
   "execution_count": 128,
   "metadata": {
    "collapsed": true
   },
   "outputs": [],
   "source": [
    "descriptor = \"rothko\""
   ]
  },
  {
   "cell_type": "code",
   "execution_count": 129,
   "metadata": {
    "collapsed": false
   },
   "outputs": [],
   "source": [
    "canvas.save(\"/Users/damoncrockett/Desktop/entourage_plots/\"+descriptor+\".png\")"
   ]
  },
  {
   "cell_type": "code",
   "execution_count": null,
   "metadata": {
    "collapsed": true
   },
   "outputs": [],
   "source": []
  }
 ],
 "metadata": {
  "kernelspec": {
   "display_name": "Python 2",
   "language": "python",
   "name": "python2"
  },
  "language_info": {
   "codemirror_mode": {
    "name": "ipython",
    "version": 2
   },
   "file_extension": ".py",
   "mimetype": "text/x-python",
   "name": "python",
   "nbconvert_exporter": "python",
   "pygments_lexer": "ipython2",
   "version": "2.7.6"
  }
 },
 "nbformat": 4,
 "nbformat_minor": 0
}
