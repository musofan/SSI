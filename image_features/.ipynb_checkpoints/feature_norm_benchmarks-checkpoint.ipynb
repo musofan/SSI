{
 "cells": [
  {
   "cell_type": "code",
   "execution_count": 1,
   "metadata": {
    "collapsed": true
   },
   "outputs": [],
   "source": [
    "import pandas as pd"
   ]
  },
  {
   "cell_type": "code",
   "execution_count": 2,
   "metadata": {
    "collapsed": false
   },
   "outputs": [],
   "source": [
    "d = pd.read_csv('/Users/damoncrockett/Dropbox/CALIT2DATA/Benchmark/data/sample30K.csv')"
   ]
  },
  {
   "cell_type": "code",
   "execution_count": 26,
   "metadata": {
    "collapsed": false
   },
   "outputs": [
    {
     "data": {
      "text/html": [
       "<div style=\"max-height:1000px;max-width:1500px;overflow:auto;\">\n",
       "<table border=\"1\" class=\"dataframe\">\n",
       "  <thead>\n",
       "    <tr style=\"text-align: right;\">\n",
       "      <th></th>\n",
       "      <th>filename.path</th>\n",
       "      <th>H1</th>\n",
       "      <th>H2</th>\n",
       "      <th>H3</th>\n",
       "      <th>H4</th>\n",
       "      <th>H5</th>\n",
       "      <th>H6</th>\n",
       "      <th>H7</th>\n",
       "      <th>H8</th>\n",
       "      <th>H9</th>\n",
       "      <th>...</th>\n",
       "      <th>V247</th>\n",
       "      <th>V248</th>\n",
       "      <th>V249</th>\n",
       "      <th>V250</th>\n",
       "      <th>V251</th>\n",
       "      <th>V252</th>\n",
       "      <th>V253</th>\n",
       "      <th>V254</th>\n",
       "      <th>V255</th>\n",
       "      <th>V256</th>\n",
       "    </tr>\n",
       "  </thead>\n",
       "  <tbody>\n",
       "    <tr>\n",
       "      <th>0</th>\n",
       "      <td>/data/myazdani/images/2013/2013-02-12/22/A72nv...</td>\n",
       "      <td>57123</td>\n",
       "      <td>3978</td>\n",
       "      <td>7516</td>\n",
       "      <td>6556</td>\n",
       "      <td>8128</td>\n",
       "      <td>5339</td>\n",
       "      <td>2323</td>\n",
       "      <td>760</td>\n",
       "      <td>544</td>\n",
       "      <td>...</td>\n",
       "      <td>0</td>\n",
       "      <td>0</td>\n",
       "      <td>2</td>\n",
       "      <td>1</td>\n",
       "      <td>0</td>\n",
       "      <td>0</td>\n",
       "      <td>1</td>\n",
       "      <td>0</td>\n",
       "      <td>2</td>\n",
       "      <td>19</td>\n",
       "    </tr>\n",
       "    <tr>\n",
       "      <th>1</th>\n",
       "      <td>/data/myazdani/images/2013/2013-01-06/00/A_3IZ...</td>\n",
       "      <td>7408</td>\n",
       "      <td>2327</td>\n",
       "      <td>3805</td>\n",
       "      <td>5989</td>\n",
       "      <td>4876</td>\n",
       "      <td>8468</td>\n",
       "      <td>6028</td>\n",
       "      <td>4613</td>\n",
       "      <td>11143</td>\n",
       "      <td>...</td>\n",
       "      <td>389</td>\n",
       "      <td>361</td>\n",
       "      <td>361</td>\n",
       "      <td>382</td>\n",
       "      <td>435</td>\n",
       "      <td>449</td>\n",
       "      <td>557</td>\n",
       "      <td>726</td>\n",
       "      <td>766</td>\n",
       "      <td>786</td>\n",
       "    </tr>\n",
       "    <tr>\n",
       "      <th>2</th>\n",
       "      <td>/data/myazdani/images/2013/2013-08-27/06/A_tOL...</td>\n",
       "      <td>199300</td>\n",
       "      <td>11024</td>\n",
       "      <td>7285</td>\n",
       "      <td>5649</td>\n",
       "      <td>6719</td>\n",
       "      <td>12180</td>\n",
       "      <td>13184</td>\n",
       "      <td>7593</td>\n",
       "      <td>15547</td>\n",
       "      <td>...</td>\n",
       "      <td>757</td>\n",
       "      <td>604</td>\n",
       "      <td>584</td>\n",
       "      <td>574</td>\n",
       "      <td>458</td>\n",
       "      <td>394</td>\n",
       "      <td>346</td>\n",
       "      <td>276</td>\n",
       "      <td>214</td>\n",
       "      <td>549</td>\n",
       "    </tr>\n",
       "    <tr>\n",
       "      <th>3</th>\n",
       "      <td>/data/myazdani/images/2013/2013-04-24/04/A_zqQ...</td>\n",
       "      <td>8240</td>\n",
       "      <td>2091</td>\n",
       "      <td>2459</td>\n",
       "      <td>3062</td>\n",
       "      <td>3833</td>\n",
       "      <td>6646</td>\n",
       "      <td>6835</td>\n",
       "      <td>3655</td>\n",
       "      <td>7564</td>\n",
       "      <td>...</td>\n",
       "      <td>278</td>\n",
       "      <td>277</td>\n",
       "      <td>303</td>\n",
       "      <td>266</td>\n",
       "      <td>267</td>\n",
       "      <td>278</td>\n",
       "      <td>303</td>\n",
       "      <td>280</td>\n",
       "      <td>295</td>\n",
       "      <td>911</td>\n",
       "    </tr>\n",
       "    <tr>\n",
       "      <th>4</th>\n",
       "      <td>/data/myazdani/images/2013/2013-01-24/00/A_zqQ...</td>\n",
       "      <td>8240</td>\n",
       "      <td>2091</td>\n",
       "      <td>2459</td>\n",
       "      <td>3062</td>\n",
       "      <td>3833</td>\n",
       "      <td>6646</td>\n",
       "      <td>6835</td>\n",
       "      <td>3655</td>\n",
       "      <td>7564</td>\n",
       "      <td>...</td>\n",
       "      <td>278</td>\n",
       "      <td>277</td>\n",
       "      <td>303</td>\n",
       "      <td>266</td>\n",
       "      <td>267</td>\n",
       "      <td>278</td>\n",
       "      <td>303</td>\n",
       "      <td>280</td>\n",
       "      <td>295</td>\n",
       "      <td>911</td>\n",
       "    </tr>\n",
       "  </tbody>\n",
       "</table>\n",
       "<p>5 rows × 693 columns</p>\n",
       "</div>"
      ],
      "text/plain": [
       "                                       filename.path      H1     H2    H3  \\\n",
       "0  /data/myazdani/images/2013/2013-02-12/22/A72nv...   57123   3978  7516   \n",
       "1  /data/myazdani/images/2013/2013-01-06/00/A_3IZ...    7408   2327  3805   \n",
       "2  /data/myazdani/images/2013/2013-08-27/06/A_tOL...  199300  11024  7285   \n",
       "3  /data/myazdani/images/2013/2013-04-24/04/A_zqQ...    8240   2091  2459   \n",
       "4  /data/myazdani/images/2013/2013-01-24/00/A_zqQ...    8240   2091  2459   \n",
       "\n",
       "     H4    H5     H6     H7    H8     H9  ...   V247  V248  V249  V250  V251  \\\n",
       "0  6556  8128   5339   2323   760    544  ...      0     0     2     1     0   \n",
       "1  5989  4876   8468   6028  4613  11143  ...    389   361   361   382   435   \n",
       "2  5649  6719  12180  13184  7593  15547  ...    757   604   584   574   458   \n",
       "3  3062  3833   6646   6835  3655   7564  ...    278   277   303   266   267   \n",
       "4  3062  3833   6646   6835  3655   7564  ...    278   277   303   266   267   \n",
       "\n",
       "   V252  V253  V254  V255  V256  \n",
       "0     0     1     0     2    19  \n",
       "1   449   557   726   766   786  \n",
       "2   394   346   276   214   549  \n",
       "3   278   303   280   295   911  \n",
       "4   278   303   280   295   911  \n",
       "\n",
       "[5 rows x 693 columns]"
      ]
     },
     "execution_count": 26,
     "metadata": {},
     "output_type": "execute_result"
    }
   ],
   "source": [
    "d.head()"
   ]
  },
  {
   "cell_type": "code",
   "execution_count": 12,
   "metadata": {
    "collapsed": false
   },
   "outputs": [],
   "source": [
    "#from IPython.display import HTML\n",
    "#HTML(pd.DataFrame(d.columns).to_html())"
   ]
  },
  {
   "cell_type": "code",
   "execution_count": 12,
   "metadata": {
    "collapsed": false
   },
   "outputs": [],
   "source": [
    "hue = d.iloc[:,1:181]"
   ]
  },
  {
   "cell_type": "code",
   "execution_count": 13,
   "metadata": {
    "collapsed": true
   },
   "outputs": [],
   "source": [
    "def infinity_norm(x):\n",
    "    return x/x.max()"
   ]
  },
  {
   "cell_type": "code",
   "execution_count": 14,
   "metadata": {
    "collapsed": true
   },
   "outputs": [],
   "source": [
    "def one_norm(x):\n",
    "    return x/sum(x)"
   ]
  },
  {
   "cell_type": "code",
   "execution_count": 15,
   "metadata": {
    "collapsed": false
   },
   "outputs": [
    {
     "name": "stdout",
     "output_type": "stream",
     "text": [
      "1 loops, best of 3: 7.98 s per loop\n"
     ]
    }
   ],
   "source": [
    "%timeit hue.apply(infinity_norm,axis=1)"
   ]
  },
  {
   "cell_type": "code",
   "execution_count": 16,
   "metadata": {
    "collapsed": false
   },
   "outputs": [
    {
     "name": "stdout",
     "output_type": "stream",
     "text": [
      "1 loops, best of 3: 6.36 s per loop\n"
     ]
    }
   ],
   "source": [
    "%timeit hue.apply(one_norm,axis=1)"
   ]
  },
  {
   "cell_type": "code",
   "execution_count": 6,
   "metadata": {
    "collapsed": false
   },
   "outputs": [
    {
     "name": "stdout",
     "output_type": "stream",
     "text": [
      " "
     ]
    }
   ],
   "source": [
    "%prun -l 4 hue.apply(one_norm,axis=1)"
   ]
  },
  {
   "cell_type": "code",
   "execution_count": null,
   "metadata": {
    "collapsed": true
   },
   "outputs": [],
   "source": []
  }
 ],
 "metadata": {
  "kernelspec": {
   "display_name": "Python 2",
   "language": "python",
   "name": "python2"
  },
  "language_info": {
   "codemirror_mode": {
    "name": "ipython",
    "version": 2
   },
   "file_extension": ".py",
   "mimetype": "text/x-python",
   "name": "python",
   "nbconvert_exporter": "python",
   "pygments_lexer": "ipython2",
   "version": "2.7.6"
  }
 },
 "nbformat": 4,
 "nbformat_minor": 0
}
