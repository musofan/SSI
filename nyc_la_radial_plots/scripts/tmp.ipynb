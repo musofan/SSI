{
 "cells": [
  {
   "cell_type": "code",
   "execution_count": 2,
   "metadata": {
    "collapsed": true
   },
   "outputs": [],
   "source": [
    "import pandas as pd"
   ]
  },
  {
   "cell_type": "code",
   "execution_count": 3,
   "metadata": {
    "collapsed": false
   },
   "outputs": [],
   "source": [
    "d = pd.read_csv('/Users/damoncrockett/tweets_urban_areas.csv')"
   ]
  },
  {
   "cell_type": "code",
   "execution_count": 4,
   "metadata": {
    "collapsed": false
   },
   "outputs": [
    {
     "data": {
      "text/html": [
       "<div style=\"max-height:1000px;max-width:1500px;overflow:auto;\">\n",
       "<table border=\"1\" class=\"dataframe\">\n",
       "  <thead>\n",
       "    <tr style=\"text-align: right;\">\n",
       "      <th></th>\n",
       "      <th>Unnamed: 0</th>\n",
       "      <th>img_url</th>\n",
       "      <th>size_h</th>\n",
       "      <th>size_w</th>\n",
       "      <th>lat</th>\n",
       "      <th>lon</th>\n",
       "      <th>postedTime</th>\n",
       "      <th>date</th>\n",
       "      <th>dir</th>\n",
       "      <th>urban_areas</th>\n",
       "    </tr>\n",
       "  </thead>\n",
       "  <tbody>\n",
       "    <tr>\n",
       "      <th>0</th>\n",
       "      <td>0</td>\n",
       "      <td>http://pbs.twimg.com/media/BcQ_nuPCEAAUweu.png</td>\n",
       "      <td>300</td>\n",
       "      <td>600</td>\n",
       "      <td>24.581734</td>\n",
       "      <td>-82.107296</td>\n",
       "      <td>2013-12-24T16:58:55.000Z</td>\n",
       "      <td>2013-12-24</td>\n",
       "      <td>2013-12-24/16/</td>\n",
       "      <td>NaN</td>\n",
       "    </tr>\n",
       "    <tr>\n",
       "      <th>1</th>\n",
       "      <td>1</td>\n",
       "      <td>http://pbs.twimg.com/media/BcQ_oVeCUAAz0dZ.png</td>\n",
       "      <td>300</td>\n",
       "      <td>600</td>\n",
       "      <td>24.581734</td>\n",
       "      <td>-82.107296</td>\n",
       "      <td>2013-12-24T16:58:58.000Z</td>\n",
       "      <td>2013-12-24</td>\n",
       "      <td>2013-12-24/16/</td>\n",
       "      <td>NaN</td>\n",
       "    </tr>\n",
       "    <tr>\n",
       "      <th>2</th>\n",
       "      <td>2</td>\n",
       "      <td>http://pbs.twimg.com/media/BcQJArXCMAA-hsb.png</td>\n",
       "      <td>300</td>\n",
       "      <td>600</td>\n",
       "      <td>24.627600</td>\n",
       "      <td>-82.872800</td>\n",
       "      <td>2013-12-24T13:00:20.000Z</td>\n",
       "      <td>2013-12-24</td>\n",
       "      <td>2013-12-24/13/</td>\n",
       "      <td>NaN</td>\n",
       "    </tr>\n",
       "    <tr>\n",
       "      <th>3</th>\n",
       "      <td>3</td>\n",
       "      <td>http://pbs.twimg.com/media/BcQJAZyCUAAS-Lu.png</td>\n",
       "      <td>300</td>\n",
       "      <td>600</td>\n",
       "      <td>24.627600</td>\n",
       "      <td>-82.872800</td>\n",
       "      <td>2013-12-24T13:00:18.000Z</td>\n",
       "      <td>2013-12-24</td>\n",
       "      <td>2013-12-24/13/</td>\n",
       "      <td>NaN</td>\n",
       "    </tr>\n",
       "    <tr>\n",
       "      <th>4</th>\n",
       "      <td>4</td>\n",
       "      <td>http://pbs.twimg.com/media/BcBZBO4CUAE5oOr.png</td>\n",
       "      <td>300</td>\n",
       "      <td>600</td>\n",
       "      <td>24.627600</td>\n",
       "      <td>-82.872800</td>\n",
       "      <td>2013-12-21T16:15:58.000Z</td>\n",
       "      <td>2013-12-21</td>\n",
       "      <td>2013-12-21/16/</td>\n",
       "      <td>NaN</td>\n",
       "    </tr>\n",
       "  </tbody>\n",
       "</table>\n",
       "</div>"
      ],
      "text/plain": [
       "   Unnamed: 0                                         img_url  size_h  size_w  \\\n",
       "0           0  http://pbs.twimg.com/media/BcQ_nuPCEAAUweu.png     300     600   \n",
       "1           1  http://pbs.twimg.com/media/BcQ_oVeCUAAz0dZ.png     300     600   \n",
       "2           2  http://pbs.twimg.com/media/BcQJArXCMAA-hsb.png     300     600   \n",
       "3           3  http://pbs.twimg.com/media/BcQJAZyCUAAS-Lu.png     300     600   \n",
       "4           4  http://pbs.twimg.com/media/BcBZBO4CUAE5oOr.png     300     600   \n",
       "\n",
       "         lat        lon                postedTime        date             dir  \\\n",
       "0  24.581734 -82.107296  2013-12-24T16:58:55.000Z  2013-12-24  2013-12-24/16/   \n",
       "1  24.581734 -82.107296  2013-12-24T16:58:58.000Z  2013-12-24  2013-12-24/16/   \n",
       "2  24.627600 -82.872800  2013-12-24T13:00:20.000Z  2013-12-24  2013-12-24/13/   \n",
       "3  24.627600 -82.872800  2013-12-24T13:00:18.000Z  2013-12-24  2013-12-24/13/   \n",
       "4  24.627600 -82.872800  2013-12-21T16:15:58.000Z  2013-12-21  2013-12-21/16/   \n",
       "\n",
       "  urban_areas  \n",
       "0         NaN  \n",
       "1         NaN  \n",
       "2         NaN  \n",
       "3         NaN  \n",
       "4         NaN  "
      ]
     },
     "execution_count": 4,
     "metadata": {},
     "output_type": "execute_result"
    }
   ],
   "source": [
    "d.head()"
   ]
  },
  {
   "cell_type": "code",
   "execution_count": 5,
   "metadata": {
    "collapsed": false
   },
   "outputs": [
    {
     "name": "stdout",
     "output_type": "stream",
     "text": [
      "<class 'pandas.core.frame.DataFrame'>\n",
      "Int64Index: 8955877 entries, 0 to 8955876\n",
      "Data columns (total 10 columns):\n",
      "Unnamed: 0     int64\n",
      "img_url        object\n",
      "size_h         int64\n",
      "size_w         int64\n",
      "lat            float64\n",
      "lon            float64\n",
      "postedTime     object\n",
      "date           object\n",
      "dir            object\n",
      "urban_areas    object\n",
      "dtypes: float64(2), int64(3), object(5)\n",
      "memory usage: 751.6+ MB\n"
     ]
    }
   ],
   "source": [
    "d.info()"
   ]
  },
  {
   "cell_type": "code",
   "execution_count": 3,
   "metadata": {
    "collapsed": false
   },
   "outputs": [
    {
     "data": {
      "text/plain": [
       "5108939"
      ]
     },
     "execution_count": 3,
     "metadata": {},
     "output_type": "execute_result"
    }
   ],
   "source": [
    "len(d.index[d.urban_areas.notnull()])"
   ]
  },
  {
   "cell_type": "code",
   "execution_count": 3,
   "metadata": {
    "collapsed": false
   },
   "outputs": [],
   "source": [
    "nn = d[d.urban_areas.notnull()]"
   ]
  },
  {
   "cell_type": "code",
   "execution_count": 19,
   "metadata": {
    "collapsed": false
   },
   "outputs": [],
   "source": [
    "nn.urban_areas.value_counts().to_csv('/Users/damoncrockett/tweets_urban_areas_nn_table.csv')"
   ]
  },
  {
   "cell_type": "code",
   "execution_count": null,
   "metadata": {
    "collapsed": true
   },
   "outputs": [],
   "source": []
  },
  {
   "cell_type": "code",
   "execution_count": 5,
   "metadata": {
    "collapsed": true
   },
   "outputs": [],
   "source": [
    "ddd = pd.read_csv('/Users/damoncrockett/Dropbox/twitter_data/meata_data/world/lat_lon_2013.csv')"
   ]
  },
  {
   "cell_type": "code",
   "execution_count": 6,
   "metadata": {
    "collapsed": false
   },
   "outputs": [
    {
     "data": {
      "text/html": [
       "<div style=\"max-height:1000px;max-width:1500px;overflow:auto;\">\n",
       "<table border=\"1\" class=\"dataframe\">\n",
       "  <thead>\n",
       "    <tr style=\"text-align: right;\">\n",
       "      <th></th>\n",
       "      <th>lat</th>\n",
       "      <th>lon</th>\n",
       "      <th>postedTime</th>\n",
       "    </tr>\n",
       "  </thead>\n",
       "  <tbody>\n",
       "    <tr>\n",
       "      <th>0</th>\n",
       "      <td>45.047162</td>\n",
       "      <td>-93.067782</td>\n",
       "      <td>2013-08-07T15:40:00.000Z</td>\n",
       "    </tr>\n",
       "    <tr>\n",
       "      <th>1</th>\n",
       "      <td>41.168083</td>\n",
       "      <td>-87.662692</td>\n",
       "      <td>2013-08-07T15:40:00.000Z</td>\n",
       "    </tr>\n",
       "    <tr>\n",
       "      <th>2</th>\n",
       "      <td>52.588344</td>\n",
       "      <td>13.223725</td>\n",
       "      <td>2013-08-07T15:40:16.000Z</td>\n",
       "    </tr>\n",
       "    <tr>\n",
       "      <th>3</th>\n",
       "      <td>34.577805</td>\n",
       "      <td>-94.249611</td>\n",
       "      <td>2013-08-07T15:40:32.000Z</td>\n",
       "    </tr>\n",
       "    <tr>\n",
       "      <th>4</th>\n",
       "      <td>48.838616</td>\n",
       "      <td>2.282396</td>\n",
       "      <td>2013-08-07T15:40:32.000Z</td>\n",
       "    </tr>\n",
       "  </tbody>\n",
       "</table>\n",
       "</div>"
      ],
      "text/plain": [
       "         lat        lon                postedTime\n",
       "0  45.047162 -93.067782  2013-08-07T15:40:00.000Z\n",
       "1  41.168083 -87.662692  2013-08-07T15:40:00.000Z\n",
       "2  52.588344  13.223725  2013-08-07T15:40:16.000Z\n",
       "3  34.577805 -94.249611  2013-08-07T15:40:32.000Z\n",
       "4  48.838616   2.282396  2013-08-07T15:40:32.000Z"
      ]
     },
     "execution_count": 6,
     "metadata": {},
     "output_type": "execute_result"
    }
   ],
   "source": [
    "ddd.head()"
   ]
  },
  {
   "cell_type": "code",
   "execution_count": null,
   "metadata": {
    "collapsed": true
   },
   "outputs": [],
   "source": []
  },
  {
   "cell_type": "code",
   "execution_count": null,
   "metadata": {
    "collapsed": true
   },
   "outputs": [],
   "source": []
  },
  {
   "cell_type": "code",
   "execution_count": null,
   "metadata": {
    "collapsed": true
   },
   "outputs": [],
   "source": []
  },
  {
   "cell_type": "code",
   "execution_count": null,
   "metadata": {
    "collapsed": true
   },
   "outputs": [],
   "source": []
  },
  {
   "cell_type": "code",
   "execution_count": 16,
   "metadata": {
    "collapsed": true
   },
   "outputs": [],
   "source": [
    "rg = pd.read_csv('/Users/damoncrockett/Dropbox/CALIT2DATA/housing_and_ACS/data/random_geo_USA_urban_areas.csv')"
   ]
  },
  {
   "cell_type": "code",
   "execution_count": 17,
   "metadata": {
    "collapsed": false
   },
   "outputs": [
    {
     "name": "stdout",
     "output_type": "stream",
     "text": [
      "<class 'pandas.core.frame.DataFrame'>\n",
      "Int64Index: 1000000 entries, 0 to 999999\n",
      "Data columns (total 5 columns):\n",
      "Unnamed: 0      1000000 non-null int64\n",
      "Unnamed: 0.1    1000000 non-null int64\n",
      "lat             1000000 non-null float64\n",
      "lon             1000000 non-null float64\n",
      "urban_areas     17926 non-null object\n",
      "dtypes: float64(2), int64(2), object(1)\n",
      "memory usage: 45.8+ MB\n"
     ]
    }
   ],
   "source": [
    "rg.info()"
   ]
  },
  {
   "cell_type": "code",
   "execution_count": 18,
   "metadata": {
    "collapsed": false
   },
   "outputs": [
    {
     "data": {
      "text/plain": [
       "New York--Newark, NY--NJ--CT            571\n",
       "Chicago, IL--IN                         387\n",
       "Atlanta, GA                             328\n",
       "Philadelphia, PA--NJ--DE--MD            322\n",
       "Boston, MA--NH--RI                      297\n",
       "Los Angeles--Long Beach--Anaheim, CA    248\n",
       "Dallas--Fort Worth--Arlington, TX       240\n",
       "Houston, TX                             226\n",
       "Washington, DC--VA--MD                  195\n",
       "Minneapolis--St. Paul, MN--WI           190\n",
       "Pittsburgh, PA                          178\n",
       "Tampa--St. Petersburg, FL               174\n",
       "Miami, FL                               172\n",
       "Detroit, MI                             150\n",
       "Seattle, WA                             147\n",
       "St. Louis, MO--IL                       145\n",
       "Cincinnati, OH--KY--IN                  133\n",
       "Providence, RI--MA                      131\n",
       "Baltimore, MD                           130\n",
       "San Diego, CA                           127\n",
       "Cleveland, OH                           125\n",
       "Phoenix--Mesa, AZ                       124\n",
       "San Francisco--Oakland, CA              112\n",
       "Milwaukee, WI                           111\n",
       "Virginia Beach, VA                      104\n",
       "Indianapolis, IN                        103\n",
       "Kansas City, MO--KS                      99\n",
       "Austin, TX                               98\n",
       "Nashville-Davidson, TN                   94\n",
       "Knoxville, TN                            94\n",
       "                                       ... \n",
       "Vienna, GA                                1\n",
       "Dunkirk, IN                               1\n",
       "Lake View, AL                             1\n",
       "Taneytown, MD                             1\n",
       "Ulysses, KS                               1\n",
       "Crozet, VA                                1\n",
       "Sweetwater, TN                            1\n",
       "Frankenmuth, MI                           1\n",
       "Ionia, MI                                 1\n",
       "Winnemucca, NV                            1\n",
       "Virginia, MN                              1\n",
       "Richfield, UT                             1\n",
       "Pecan Plantation, TX                      1\n",
       "Girard, KS                                1\n",
       "Pittsboro, NC                             1\n",
       "Cochran, GA                               1\n",
       "Littlestown, PA                           1\n",
       "Culpeper, VA                              1\n",
       "Spearfish, SD                             1\n",
       "Wytheville, VA                            1\n",
       "Alma, GA                                  1\n",
       "Rogersville, TN                           1\n",
       "Portola, CA                               1\n",
       "Chetek, WI                                1\n",
       "Grangeville, ID                           1\n",
       "Prescott, WI                              1\n",
       "Staunton, IL                              1\n",
       "Winnsboro, SC                             1\n",
       "Ozona, TX                                 1\n",
       "Sullivan, MO                              1\n",
       "dtype: int64"
      ]
     },
     "execution_count": 18,
     "metadata": {},
     "output_type": "execute_result"
    }
   ],
   "source": [
    "rg.urban_areas.value_counts()"
   ]
  },
  {
   "cell_type": "code",
   "execution_count": null,
   "metadata": {
    "collapsed": true
   },
   "outputs": [],
   "source": []
  },
  {
   "cell_type": "code",
   "execution_count": null,
   "metadata": {
    "collapsed": true
   },
   "outputs": [],
   "source": []
  },
  {
   "cell_type": "code",
   "execution_count": null,
   "metadata": {
    "collapsed": true
   },
   "outputs": [],
   "source": []
  },
  {
   "cell_type": "code",
   "execution_count": 7,
   "metadata": {
    "collapsed": false
   },
   "outputs": [
    {
     "data": {
      "text/plain": [
       "Chicago, IL--IN                             602084\n",
       "Atlanta, GA                                 287253\n",
       "Detroit, MI                                 231371\n",
       "Minneapolis--St. Paul, MN--WI               185920\n",
       "Tampa--St. Petersburg, FL                   178614\n",
       "Cincinnati, OH--KY--IN                      136016\n",
       "Milwaukee, WI                               132732\n",
       "St. Louis, MO--IL                           108676\n",
       "New Orleans, LA                             103389\n",
       "Columbus, OH                                 83964\n",
       "Louisville/Jefferson County, KY--IN          83485\n",
       "Kansas City, MO--KS                          82197\n",
       "Nashville-Davidson, TN                       63641\n",
       "Indianapolis, IN                             54543\n",
       "Knoxville, TN                                51189\n",
       "Des Moines, IA                               48650\n",
       "Lexington-Fayette, KY                        44836\n",
       "Baton Rouge, LA                              44281\n",
       "Houston, TX                                  42140\n",
       "Tallahassee, FL                              36303\n",
       "Dayton, OH                                   35951\n",
       "Birmingham, AL                               34674\n",
       "Sarasota--Bradenton, FL                      34652\n",
       "Memphis, TN--MS--AR                          32978\n",
       "Flint, MI                                    31411\n",
       "Lansing, MI                                  28981\n",
       "Grand Rapids, MI                             26837\n",
       "Greenville, SC                               26400\n",
       "Fayetteville--Springdale--Rogers, AR--MO     26385\n",
       "Panama City, FL                              25111\n",
       "                                             ...  \n",
       "Wautoma, WI                                     33\n",
       "Owensville, MO                                  33\n",
       "Iron River, MI                                  33\n",
       "Lucedale, MS                                    32\n",
       "Mount Pleasant, TN                              32\n",
       "Buffalo, MO                                     32\n",
       "Coeburn, VA                                     31\n",
       "Vivian, LA                                      31\n",
       "Havana, FL                                      31\n",
       "Newaygo, MI                                     31\n",
       "Haleyville, AL                                  31\n",
       "Carrollton, MO                                  30\n",
       "Elmwood, IL                                     29\n",
       "Trenton, FL                                     28\n",
       "El Dorado Springs, MO                           28\n",
       "Sparta, GA                                      27\n",
       "Ladysmith, WI                                   26\n",
       "Mazomanie, WI                                   24\n",
       "Woodville, FL                                   22\n",
       "Moorhead, MS                                    21\n",
       "Delphi, IN                                      21\n",
       "Durant, MS                                      20\n",
       "Steeleville, IL                                 20\n",
       "Ridge Manor, FL                                 18\n",
       "Leesburg--Eustis--Tavares, FL                   15\n",
       "Chattahoochee, FL                               13\n",
       "Glennville, GA                                   9\n",
       "Stanley, WI                                      8\n",
       "Jacksonville, FL                                 3\n",
       "Charleston, WV                                   1\n",
       "dtype: int64"
      ]
     },
     "execution_count": 7,
     "metadata": {},
     "output_type": "execute_result"
    }
   ],
   "source": [
    "nn.urban_areas.value_counts()"
   ]
  },
  {
   "cell_type": "code",
   "execution_count": 4,
   "metadata": {
    "collapsed": true
   },
   "outputs": [],
   "source": [
    "chi = nn[nn.urban_areas=='Chicago, IL--IN']"
   ]
  },
  {
   "cell_type": "code",
   "execution_count": 5,
   "metadata": {
    "collapsed": false
   },
   "outputs": [],
   "source": [
    "atl = nn[nn.urban_areas=='Atlanta, GA']"
   ]
  },
  {
   "cell_type": "code",
   "execution_count": 12,
   "metadata": {
    "collapsed": false
   },
   "outputs": [
    {
     "name": "stdout",
     "output_type": "stream",
     "text": [
      "<class 'pandas.core.frame.DataFrame'>\n",
      "Int64Index: 5108939 entries, 46 to 8955679\n",
      "Data columns (total 10 columns):\n",
      "Unnamed: 0     int64\n",
      "img_url        object\n",
      "size_h         int64\n",
      "size_w         int64\n",
      "lat            float64\n",
      "lon            float64\n",
      "postedTime     object\n",
      "date           object\n",
      "dir            object\n",
      "urban_areas    object\n",
      "dtypes: float64(2), int64(3), object(5)\n",
      "memory usage: 428.8+ MB\n"
     ]
    }
   ],
   "source": [
    "nn.info()"
   ]
  },
  {
   "cell_type": "code",
   "execution_count": 6,
   "metadata": {
    "collapsed": false
   },
   "outputs": [],
   "source": [
    "chi = chi[['img_url','dir','urban_areas','date']]\n",
    "atl = atl[['img_url','dir','urban_areas','date']]"
   ]
  },
  {
   "cell_type": "code",
   "execution_count": 7,
   "metadata": {
    "collapsed": false
   },
   "outputs": [],
   "source": [
    "chi.reset_index(drop=True,inplace=True)\n",
    "atl.reset_index(drop=True,inplace=True)"
   ]
  },
  {
   "cell_type": "code",
   "execution_count": 8,
   "metadata": {
    "collapsed": true
   },
   "outputs": [],
   "source": [
    "from dateutil import parser"
   ]
  },
  {
   "cell_type": "code",
   "execution_count": 9,
   "metadata": {
    "collapsed": true
   },
   "outputs": [],
   "source": [
    "chi.date = chi.date.apply(parser.parse)"
   ]
  },
  {
   "cell_type": "code",
   "execution_count": 10,
   "metadata": {
    "collapsed": true
   },
   "outputs": [],
   "source": [
    "atl.date = atl.date.apply(parser.parse)"
   ]
  },
  {
   "cell_type": "code",
   "execution_count": 11,
   "metadata": {
    "collapsed": true
   },
   "outputs": [],
   "source": [
    "import datetime"
   ]
  },
  {
   "cell_type": "code",
   "execution_count": 12,
   "metadata": {
    "collapsed": false
   },
   "outputs": [],
   "source": [
    "DATE_INIT = datetime.date(2013,6,1)"
   ]
  },
  {
   "cell_type": "code",
   "execution_count": 13,
   "metadata": {
    "collapsed": false
   },
   "outputs": [],
   "source": [
    "chi.sort('date',inplace=True)\n",
    "atl.sort('date',inplace=True)"
   ]
  },
  {
   "cell_type": "code",
   "execution_count": 15,
   "metadata": {
    "collapsed": false
   },
   "outputs": [],
   "source": [
    "CHI = chi[chi.date >= DATE_INIT][:100000]"
   ]
  },
  {
   "cell_type": "code",
   "execution_count": 16,
   "metadata": {
    "collapsed": false
   },
   "outputs": [],
   "source": [
    "ATL = atl[atl.date >= DATE_INIT][:100000]"
   ]
  },
  {
   "cell_type": "code",
   "execution_count": 17,
   "metadata": {
    "collapsed": true
   },
   "outputs": [],
   "source": [
    "CHI.reset_index(drop=True,inplace=True)\n",
    "ATL.reset_index(drop=True,inplace=True)"
   ]
  },
  {
   "cell_type": "code",
   "execution_count": 18,
   "metadata": {
    "collapsed": true
   },
   "outputs": [],
   "source": [
    "l = pd.DataFrame(chi.img_url.str.split('/',4).tolist(),\n",
    "                columns = ['a','b','c','d','e'])"
   ]
  },
  {
   "cell_type": "code",
   "execution_count": 19,
   "metadata": {
    "collapsed": true
   },
   "outputs": [],
   "source": [
    "PREFIX = \"/data/myazdani/images/2013/\""
   ]
  },
  {
   "cell_type": "code",
   "execution_count": 21,
   "metadata": {
    "collapsed": false
   },
   "outputs": [],
   "source": [
    "n = len(CHI.index)\n",
    "image_path = []\n",
    "\n",
    "for i in range(n):\n",
    "    image_path_i = PREFIX + CHI['dir'].loc[i] + l['e'].loc[i]\n",
    "    image_path.append(image_path_i)"
   ]
  },
  {
   "cell_type": "code",
   "execution_count": 23,
   "metadata": {
    "collapsed": false
   },
   "outputs": [],
   "source": [
    "CHI['image_path'] = image_path"
   ]
  },
  {
   "cell_type": "code",
   "execution_count": 25,
   "metadata": {
    "collapsed": true
   },
   "outputs": [],
   "source": [
    "l = pd.DataFrame(atl.img_url.str.split('/',4).tolist(),\n",
    "                columns = ['a','b','c','d','e'])"
   ]
  },
  {
   "cell_type": "code",
   "execution_count": 26,
   "metadata": {
    "collapsed": true
   },
   "outputs": [],
   "source": [
    "n = len(ATL.index)\n",
    "image_path = []\n",
    "\n",
    "for i in range(n):\n",
    "    image_path_i = PREFIX + ATL['dir'].loc[i] + l['e'].loc[i]\n",
    "    image_path.append(image_path_i)"
   ]
  },
  {
   "cell_type": "code",
   "execution_count": 27,
   "metadata": {
    "collapsed": true
   },
   "outputs": [],
   "source": [
    "ATL['image_path'] = image_path"
   ]
  },
  {
   "cell_type": "code",
   "execution_count": 28,
   "metadata": {
    "collapsed": false
   },
   "outputs": [
    {
     "name": "stdout",
     "output_type": "stream",
     "text": [
      "<class 'pandas.core.frame.DataFrame'>\n",
      "Int64Index: 100000 entries, 0 to 99999\n",
      "Data columns (total 5 columns):\n",
      "img_url        100000 non-null object\n",
      "dir            100000 non-null object\n",
      "urban_areas    100000 non-null object\n",
      "date           100000 non-null datetime64[ns]\n",
      "image_path     100000 non-null object\n",
      "dtypes: datetime64[ns](1), object(4)\n",
      "memory usage: 4.6+ MB\n"
     ]
    }
   ],
   "source": [
    "ATL.info()"
   ]
  },
  {
   "cell_type": "code",
   "execution_count": 29,
   "metadata": {
    "collapsed": true
   },
   "outputs": [],
   "source": [
    "CHI = CHI[['urban_areas','image_path','date']]\n",
    "ATL = ATL[['urban_areas','image_path','date']]"
   ]
  },
  {
   "cell_type": "code",
   "execution_count": 30,
   "metadata": {
    "collapsed": false
   },
   "outputs": [],
   "source": [
    "CHI.to_csv('/Users/damoncrockett/tweets_chi.csv',index=False)\n",
    "ATL.to_csv('/Users/damoncrockett/tweets_atl.csv',index=False)"
   ]
  },
  {
   "cell_type": "code",
   "execution_count": null,
   "metadata": {
    "collapsed": true
   },
   "outputs": [],
   "source": []
  }
 ],
 "metadata": {
  "kernelspec": {
   "display_name": "Python 2",
   "language": "python",
   "name": "python2"
  },
  "language_info": {
   "codemirror_mode": {
    "name": "ipython",
    "version": 2
   },
   "file_extension": ".py",
   "mimetype": "text/x-python",
   "name": "python",
   "nbconvert_exporter": "python",
   "pygments_lexer": "ipython2",
   "version": "2.7.6"
  }
 },
 "nbformat": 4,
 "nbformat_minor": 0
}
