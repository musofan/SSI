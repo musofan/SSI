{
 "cells": [
  {
   "cell_type": "code",
   "execution_count": 57,
   "metadata": {
    "collapsed": true
   },
   "outputs": [],
   "source": [
    "from skimage.io import imread"
   ]
  },
  {
   "cell_type": "code",
   "execution_count": 58,
   "metadata": {
    "collapsed": false
   },
   "outputs": [],
   "source": [
    "img = imread(\"/Users/damoncrockett/Desktop/gujarat/slices_cropped_16/BXZXqwLCIAAsToC.jpg_17_22.png\")"
   ]
  },
  {
   "cell_type": "code",
   "execution_count": 59,
   "metadata": {
    "collapsed": true
   },
   "outputs": [],
   "source": [
    "from skimage import color"
   ]
  },
  {
   "cell_type": "code",
   "execution_count": 60,
   "metadata": {
    "collapsed": false
   },
   "outputs": [],
   "source": [
    "img = color.rgb2hsv(img)"
   ]
  },
  {
   "cell_type": "code",
   "execution_count": 61,
   "metadata": {
    "collapsed": false
   },
   "outputs": [
    {
     "data": {
      "text/plain": [
       "768"
      ]
     },
     "execution_count": 61,
     "metadata": {},
     "output_type": "execute_result"
    }
   ],
   "source": [
    "img.size"
   ]
  },
  {
   "cell_type": "code",
   "execution_count": 62,
   "metadata": {
    "collapsed": false
   },
   "outputs": [
    {
     "data": {
      "text/plain": [
       "(16, 16, 3)"
      ]
     },
     "execution_count": 62,
     "metadata": {},
     "output_type": "execute_result"
    }
   ],
   "source": [
    "img.shape"
   ]
  },
  {
   "cell_type": "code",
   "execution_count": 63,
   "metadata": {
    "collapsed": true
   },
   "outputs": [],
   "source": [
    "import matplotlib.pyplot as plt"
   ]
  },
  {
   "cell_type": "code",
   "execution_count": 64,
   "metadata": {
    "collapsed": true
   },
   "outputs": [],
   "source": [
    "%matplotlib inline"
   ]
  },
  {
   "cell_type": "code",
   "execution_count": 65,
   "metadata": {
    "collapsed": false
   },
   "outputs": [
    {
     "data": {
      "text/plain": [
       "<matplotlib.image.AxesImage at 0x1079eba10>"
      ]
     },
     "execution_count": 65,
     "metadata": {},
     "output_type": "execute_result"
    },
    {
     "data": {
      "image/png": "[encoded data removed]",
      "text/plain": [
       "<matplotlib.figure.Figure at 0x1079c3910>"
      ]
     },
     "metadata": {},
     "output_type": "display_data"
    }
   ],
   "source": [
    "plt.imshow(img)"
   ]
  },
  {
   "cell_type": "code",
   "execution_count": 66,
   "metadata": {
    "collapsed": true
   },
   "outputs": [],
   "source": [
    "import numpy as np"
   ]
  },
  {
   "cell_type": "code",
   "execution_count": 67,
   "metadata": {
    "collapsed": false
   },
   "outputs": [
    {
     "data": {
      "text/plain": [
       "0.91935483870967738"
      ]
     },
     "execution_count": 67,
     "metadata": {},
     "output_type": "execute_result"
    }
   ],
   "source": [
    "np.median(img[:,:,0])"
   ]
  },
  {
   "cell_type": "code",
   "execution_count": 68,
   "metadata": {
    "collapsed": false
   },
   "outputs": [
    {
     "data": {
      "text/plain": [
       "0.92443419544366601"
      ]
     },
     "execution_count": 68,
     "metadata": {},
     "output_type": "execute_result"
    }
   ],
   "source": [
    "np.mean(img[:,:,0])"
   ]
  },
  {
   "cell_type": "code",
   "execution_count": 88,
   "metadata": {
    "collapsed": false
   },
   "outputs": [],
   "source": [
    "from scipy.stats import mode"
   ]
  },
  {
   "cell_type": "code",
   "execution_count": 89,
   "metadata": {
    "collapsed": false
   },
   "outputs": [],
   "source": [
    "a = mode(img[:,:,0],axis=None)"
   ]
  },
  {
   "cell_type": "code",
   "execution_count": 93,
   "metadata": {
    "collapsed": false
   },
   "outputs": [
    {
     "data": {
      "text/plain": [
       "(array([ 0.91397849]), array([ 65.]))"
      ]
     },
     "execution_count": 93,
     "metadata": {},
     "output_type": "execute_result"
    }
   ],
   "source": [
    "a"
   ]
  },
  {
   "cell_type": "code",
   "execution_count": 90,
   "metadata": {
    "collapsed": false
   },
   "outputs": [
    {
     "data": {
      "text/plain": [
       "numpy.ndarray"
      ]
     },
     "execution_count": 90,
     "metadata": {},
     "output_type": "execute_result"
    }
   ],
   "source": [
    "type(a[0])"
   ]
  },
  {
   "cell_type": "code",
   "execution_count": 91,
   "metadata": {
    "collapsed": false
   },
   "outputs": [
    {
     "data": {
      "text/plain": [
       "0.9139784946236559"
      ]
     },
     "execution_count": 91,
     "metadata": {},
     "output_type": "execute_result"
    }
   ],
   "source": [
    "float(a[0])"
   ]
  },
  {
   "cell_type": "code",
   "execution_count": 92,
   "metadata": {
    "collapsed": false
   },
   "outputs": [
    {
     "data": {
      "text/plain": [
       "(array([[[ 0.91397849,  0.12863071,  0.94117647],\n",
       "         [ 0.91397849,  0.12448133,  0.94509804],\n",
       "         [ 0.9047619 ,  0.11618257,  0.94509804],\n",
       "         [ 0.89655172,  0.11983471,  0.94901961],\n",
       "         [ 0.89655172,  0.12033195,  0.9372549 ],\n",
       "         [ 0.91111111,  0.12345679,  0.94901961],\n",
       "         [ 0.91397849,  0.12704918,  0.94901961],\n",
       "         [ 0.91397849,  0.12970711,  0.9372549 ],\n",
       "         [ 0.91935484,  0.12863071,  0.94509804],\n",
       "         [ 0.91935484,  0.12916667,  0.94117647],\n",
       "         [ 0.91397849,  0.12916667,  0.94117647],\n",
       "         [ 0.91397849,  0.13080169,  0.92941176],\n",
       "         [ 0.91397849,  0.12931034,  0.92156863],\n",
       "         [ 0.91397849,  0.13080169,  0.92941176],\n",
       "         [ 0.91397849,  0.12931034,  0.90196078],\n",
       "         [ 0.94444444,  0.12875536,  0.91372549]]]),\n",
       " array([[[  8.,   3.,   3.],\n",
       "         [  5.,   2.,   3.],\n",
       "         [  5.,   4.,   4.],\n",
       "         [  4.,   2.,   3.],\n",
       "         [  3.,   2.,   3.],\n",
       "         [  3.,   2.,   3.],\n",
       "         [  5.,   2.,   2.],\n",
       "         [  8.,   3.,   3.],\n",
       "         [  9.,   3.,   4.],\n",
       "         [ 10.,   3.,   3.],\n",
       "         [  9.,   4.,   4.],\n",
       "         [  7.,   3.,   5.],\n",
       "         [  8.,   2.,   3.],\n",
       "         [  8.,   3.,   3.],\n",
       "         [  4.,   3.,   3.],\n",
       "         [  5.,   7.,   7.]]]))"
      ]
     },
     "execution_count": 92,
     "metadata": {},
     "output_type": "execute_result"
    }
   ],
   "source": [
    "mode(img,axis=0)"
   ]
  },
  {
   "cell_type": "code",
   "execution_count": 71,
   "metadata": {
    "collapsed": false
   },
   "outputs": [
    {
     "data": {
      "text/plain": [
       "array([[ 0.94927536,  0.96031746,  0.98333333,  0.975     ,  0.98148148,\n",
       "         0.98076923,  0.97701149,  0.96551724,  0.95555556,  0.94252874,\n",
       "         0.93010753,  0.91935484,  0.91397849,  0.91397849,  0.91397849,\n",
       "         0.91397849],\n",
       "       [ 0.94202899,  0.95652174,  0.95238095,  0.95652174,  0.95833333,\n",
       "         0.96794872,  0.96551724,  0.95      ,  0.94444444,  0.93333333,\n",
       "         0.91935484,  0.91397849,  0.91397849,  0.91397849,  0.91397849,\n",
       "         0.91935484],\n",
       "       [ 0.94230769,  0.9375    ,  0.94202899,  0.9469697 ,  0.93650794,\n",
       "         0.96153846,  0.95698925,  0.94444444,  0.94444444,  0.93333333,\n",
       "         0.91397849,  0.91397849,  0.91397849,  0.91397849,  0.91935484,\n",
       "         0.91935484],\n",
       "       [ 0.92592593,  0.92948718,  0.93333333,  0.94202899,  0.93055556,\n",
       "         0.95061728,  0.95698925,  0.94444444,  0.93888889,  0.92777778,\n",
       "         0.91397849,  0.91397849,  0.91397849,  0.91397849,  0.91397849,\n",
       "         0.92473118],\n",
       "       [ 0.93452381,  0.92592593,  0.91975309,  0.92261905,  0.91358025,\n",
       "         0.94047619,  0.95555556,  0.94444444,  0.92777778,  0.91397849,\n",
       "         0.91397849,  0.91397849,  0.91397849,  0.91397849,  0.91935484,\n",
       "         0.93333333],\n",
       "       [ 0.92261905,  0.91071429,  0.91666667,  0.91954023,  0.91071429,\n",
       "         0.93678161,  0.94444444,  0.93888889,  0.93888889,  0.91935484,\n",
       "         0.91935484,  0.91397849,  0.91397849,  0.91397849,  0.91397849,\n",
       "         0.93333333],\n",
       "       [ 0.91666667,  0.9137931 ,  0.91358025,  0.91071429,  0.9047619 ,\n",
       "         0.93678161,  0.95      ,  0.93333333,  0.92473118,  0.91935484,\n",
       "         0.91397849,  0.91397849,  0.91397849,  0.91397849,  0.91935484,\n",
       "         0.93333333],\n",
       "       [ 0.91935484,  0.91397849,  0.91111111,  0.91111111,  0.91111111,\n",
       "         0.93678161,  0.94827586,  0.93333333,  0.91935484,  0.91397849,\n",
       "         0.91397849,  0.91397849,  0.91397849,  0.91397849,  0.91935484,\n",
       "         0.93333333],\n",
       "       [ 0.91397849,  0.91397849,  0.9047619 ,  0.89655172,  0.89285714,\n",
       "         0.90860215,  0.91397849,  0.91397849,  0.91935484,  0.91935484,\n",
       "         0.91935484,  0.92473118,  0.93678161,  0.93333333,  0.93888889,\n",
       "         0.95      ],\n",
       "       [ 0.91397849,  0.91666667,  0.91071429,  0.89655172,  0.89655172,\n",
       "         0.90860215,  0.91145833,  0.91397849,  0.91935484,  0.91935484,\n",
       "         0.91397849,  0.92777778,  0.93888889,  0.93333333,  0.94444444,\n",
       "         0.94444444],\n",
       "       [ 0.91397849,  0.91397849,  0.9047619 ,  0.89655172,  0.89285714,\n",
       "         0.90860215,  0.91397849,  0.91397849,  0.91935484,  0.91935484,\n",
       "         0.91397849,  0.92473118,  0.93678161,  0.93010753,  0.94444444,\n",
       "         0.94444444],\n",
       "       [ 0.91397849,  0.91397849,  0.9047619 ,  0.89655172,  0.89655172,\n",
       "         0.9137931 ,  0.91397849,  0.91397849,  0.91935484,  0.91935484,\n",
       "         0.91397849,  0.93103448,  0.93333333,  0.93010753,  0.94444444,\n",
       "         0.94444444],\n",
       "       [ 0.91397849,  0.91666667,  0.9047619 ,  0.89444444,  0.89655172,\n",
       "         0.91111111,  0.91935484,  0.91397849,  0.91935484,  0.91935484,\n",
       "         0.90860215,  0.92777778,  0.93333333,  0.93333333,  0.93888889,\n",
       "         0.94444444],\n",
       "       [ 0.91397849,  0.91666667,  0.9047619 ,  0.89655172,  0.89655172,\n",
       "         0.91111111,  0.91935484,  0.91397849,  0.91935484,  0.91935484,\n",
       "         0.91397849,  0.92222222,  0.93333333,  0.93333333,  0.94444444,\n",
       "         0.94444444],\n",
       "       [ 0.91397849,  0.91397849,  0.9047619 ,  0.89655172,  0.8908046 ,\n",
       "         0.90555556,  0.91397849,  0.91397849,  0.91935484,  0.91935484,\n",
       "         0.91935484,  0.92777778,  0.93888889,  0.93333333,  0.94444444,\n",
       "         0.94444444],\n",
       "       [ 0.91397849,  0.91666667,  0.9047619 ,  0.89655172,  0.89285714,\n",
       "         0.91111111,  0.91397849,  0.91397849,  0.91935484,  0.91935484,\n",
       "         0.91935484,  0.92473118,  0.93333333,  0.93333333,  0.94444444,\n",
       "         0.94444444]])"
      ]
     },
     "execution_count": 71,
     "metadata": {},
     "output_type": "execute_result"
    }
   ],
   "source": [
    "img[:,:,0]"
   ]
  },
  {
   "cell_type": "code",
   "execution_count": null,
   "metadata": {
    "collapsed": true
   },
   "outputs": [],
   "source": []
  }
 ],
 "metadata": {
  "kernelspec": {
   "display_name": "Python 2",
   "language": "python",
   "name": "python2"
  },
  "language_info": {
   "codemirror_mode": {
    "name": "ipython",
    "version": 2
   },
   "file_extension": ".py",
   "mimetype": "text/x-python",
   "name": "python",
   "nbconvert_exporter": "python",
   "pygments_lexer": "ipython2",
   "version": "2.7.6"
  }
 },
 "nbformat": 4,
 "nbformat_minor": 0
}
