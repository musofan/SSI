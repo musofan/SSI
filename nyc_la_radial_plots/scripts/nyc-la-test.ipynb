{
 "cells": [
  {
   "cell_type": "code",
   "execution_count": 157,
   "metadata": {
    "collapsed": true
   },
   "outputs": [],
   "source": [
    "import pandas as pd"
   ]
  },
  {
   "cell_type": "code",
   "execution_count": 158,
   "metadata": {
    "collapsed": true
   },
   "outputs": [],
   "source": [
    "nyc = pd.read_csv('/Users/damoncrockett/images_nyc/nyc_metadata.csv')"
   ]
  },
  {
   "cell_type": "code",
   "execution_count": 159,
   "metadata": {
    "collapsed": true
   },
   "outputs": [],
   "source": [
    "la = pd.read_csv('/Users/damoncrockett/images_la/la_metadata.csv')"
   ]
  },
  {
   "cell_type": "code",
   "execution_count": 160,
   "metadata": {
    "collapsed": true
   },
   "outputs": [],
   "source": [
    "nyc.filename = \"/Users/damoncrockett/images_nyc/\"+nyc.filename"
   ]
  },
  {
   "cell_type": "code",
   "execution_count": 161,
   "metadata": {
    "collapsed": false
   },
   "outputs": [],
   "source": [
    "la.filename = \"/Users/damoncrockett/images_la/\"+la.filename"
   ]
  },
  {
   "cell_type": "code",
   "execution_count": 162,
   "metadata": {
    "collapsed": true
   },
   "outputs": [],
   "source": [
    "nyc_xtra = pd.read_csv('/Users/damoncrockett/images_nyc_xtra/nyc_xtra_metadata.csv')"
   ]
  },
  {
   "cell_type": "code",
   "execution_count": 163,
   "metadata": {
    "collapsed": true
   },
   "outputs": [],
   "source": [
    "la_xtra = pd.read_csv('/Users/damoncrockett/images_la_xtra/la_xtra_metadata.csv')"
   ]
  },
  {
   "cell_type": "code",
   "execution_count": 164,
   "metadata": {
    "collapsed": false
   },
   "outputs": [],
   "source": [
    "la_xxtra = pd.read_csv('/Users/damoncrockett/images_la_xxtra/la_xxtra_metadata.csv')"
   ]
  },
  {
   "cell_type": "code",
   "execution_count": 165,
   "metadata": {
    "collapsed": false
   },
   "outputs": [],
   "source": [
    "nyc = pd.concat([nyc,nyc_xtra])\n",
    "la = pd.concat([la,la_xtra,la_xxtra])"
   ]
  },
  {
   "cell_type": "code",
   "execution_count": 166,
   "metadata": {
    "collapsed": false
   },
   "outputs": [],
   "source": [
    "nyc.reset_index(drop=True,inplace=True)\n",
    "la.reset_index(drop=True,inplace=True)"
   ]
  },
  {
   "cell_type": "code",
   "execution_count": 167,
   "metadata": {
    "collapsed": true
   },
   "outputs": [],
   "source": [
    "l = pd.DataFrame(nyc.filename.str.split('/',4).tolist(),\n",
    "                columns = ['a','b','c','d','e'])"
   ]
  },
  {
   "cell_type": "code",
   "execution_count": 168,
   "metadata": {
    "collapsed": false
   },
   "outputs": [],
   "source": [
    "nyc.filename = l.e"
   ]
  },
  {
   "cell_type": "code",
   "execution_count": 169,
   "metadata": {
    "collapsed": true
   },
   "outputs": [],
   "source": [
    "l = pd.DataFrame(la.filename.str.split('/',4).tolist(),\n",
    "                columns = ['a','b','c','d','e'])"
   ]
  },
  {
   "cell_type": "code",
   "execution_count": 170,
   "metadata": {
    "collapsed": false
   },
   "outputs": [],
   "source": [
    "la.filename = l.e"
   ]
  },
  {
   "cell_type": "code",
   "execution_count": 171,
   "metadata": {
    "collapsed": false
   },
   "outputs": [],
   "source": [
    "nyc.drop_duplicates(inplace=True,cols='filename')\n",
    "la.drop_duplicates(inplace=True,cols='filename')"
   ]
  },
  {
   "cell_type": "code",
   "execution_count": 172,
   "metadata": {
    "collapsed": false
   },
   "outputs": [
    {
     "data": {
      "text/plain": [
       "100003"
      ]
     },
     "execution_count": 172,
     "metadata": {},
     "output_type": "execute_result"
    }
   ],
   "source": [
    "len(nyc.filename.value_counts())"
   ]
  },
  {
   "cell_type": "code",
   "execution_count": 173,
   "metadata": {
    "collapsed": false
   },
   "outputs": [
    {
     "data": {
      "text/plain": [
       "107775"
      ]
     },
     "execution_count": 173,
     "metadata": {},
     "output_type": "execute_result"
    }
   ],
   "source": [
    "len(la.filename.value_counts())"
   ]
  },
  {
   "cell_type": "code",
   "execution_count": 174,
   "metadata": {
    "collapsed": false
   },
   "outputs": [
    {
     "name": "stdout",
     "output_type": "stream",
     "text": [
      "<class 'pandas.core.frame.DataFrame'>\n",
      "Int64Index: 100003 entries, 0 to 109011\n",
      "Data columns (total 4 columns):\n",
      "filename    100003 non-null object\n",
      "hue         100003 non-null float64\n",
      "sat         100003 non-null float64\n",
      "val         100003 non-null float64\n",
      "dtypes: float64(3), object(1)\n",
      "memory usage: 3.8+ MB\n"
     ]
    }
   ],
   "source": [
    "nyc.info()"
   ]
  },
  {
   "cell_type": "code",
   "execution_count": 175,
   "metadata": {
    "collapsed": false
   },
   "outputs": [
    {
     "name": "stdout",
     "output_type": "stream",
     "text": [
      "<class 'pandas.core.frame.DataFrame'>\n",
      "Int64Index: 107775 entries, 0 to 121228\n",
      "Data columns (total 4 columns):\n",
      "filename    107775 non-null object\n",
      "hue         107775 non-null float64\n",
      "sat         107775 non-null float64\n",
      "val         107775 non-null float64\n",
      "dtypes: float64(3), object(1)\n",
      "memory usage: 4.1+ MB\n"
     ]
    }
   ],
   "source": [
    "la.info()"
   ]
  },
  {
   "cell_type": "code",
   "execution_count": 176,
   "metadata": {
    "collapsed": true
   },
   "outputs": [],
   "source": [
    "nyc.reset_index(drop=True,inplace=True)\n",
    "la.reset_index(drop=True,inplace=True)"
   ]
  },
  {
   "cell_type": "code",
   "execution_count": 177,
   "metadata": {
    "collapsed": true
   },
   "outputs": [],
   "source": [
    "nyc = nyc[:100000]\n",
    "la = la[:100000]"
   ]
  },
  {
   "cell_type": "code",
   "execution_count": 178,
   "metadata": {
    "collapsed": false
   },
   "outputs": [
    {
     "data": {
      "text/plain": [
       "100000"
      ]
     },
     "execution_count": 178,
     "metadata": {},
     "output_type": "execute_result"
    }
   ],
   "source": [
    "len(nyc.filename.value_counts())"
   ]
  },
  {
   "cell_type": "code",
   "execution_count": 179,
   "metadata": {
    "collapsed": false
   },
   "outputs": [
    {
     "data": {
      "text/plain": [
       "100000"
      ]
     },
     "execution_count": 179,
     "metadata": {},
     "output_type": "execute_result"
    }
   ],
   "source": [
    "len(la.filename.value_counts())"
   ]
  },
  {
   "cell_type": "code",
   "execution_count": 180,
   "metadata": {
    "collapsed": true
   },
   "outputs": [],
   "source": [
    "nyc.to_csv('/Users/damoncrockett/images_nyc/nyc_metadata_final.csv',index=False)"
   ]
  },
  {
   "cell_type": "code",
   "execution_count": 181,
   "metadata": {
    "collapsed": true
   },
   "outputs": [],
   "source": [
    "la.to_csv('/Users/damoncrockett/images_la/la_metadata_final.csv',index=False)"
   ]
  },
  {
   "cell_type": "code",
   "execution_count": 182,
   "metadata": {
    "collapsed": false
   },
   "outputs": [
    {
     "data": {
      "text/html": [
       "<div style=\"max-height:1000px;max-width:1500px;overflow:auto;\">\n",
       "<table border=\"1\" class=\"dataframe\">\n",
       "  <thead>\n",
       "    <tr style=\"text-align: right;\">\n",
       "      <th></th>\n",
       "      <th>filename</th>\n",
       "      <th>hue</th>\n",
       "      <th>sat</th>\n",
       "      <th>val</th>\n",
       "    </tr>\n",
       "  </thead>\n",
       "  <tbody>\n",
       "    <tr>\n",
       "      <th>0</th>\n",
       "      <td>A-apKAqCcAAGJ66.jpg</td>\n",
       "      <td>0.160359</td>\n",
       "      <td>0.351472</td>\n",
       "      <td>0.913912</td>\n",
       "    </tr>\n",
       "    <tr>\n",
       "      <th>1</th>\n",
       "      <td>A-iPK8TCUAAxvut.jpg</td>\n",
       "      <td>0.068535</td>\n",
       "      <td>0.061614</td>\n",
       "      <td>0.671032</td>\n",
       "    </tr>\n",
       "    <tr>\n",
       "      <th>2</th>\n",
       "      <td>A-jFBI7CUAEWLYw.jpg</td>\n",
       "      <td>0.189481</td>\n",
       "      <td>0.404010</td>\n",
       "      <td>0.458975</td>\n",
       "    </tr>\n",
       "    <tr>\n",
       "      <th>3</th>\n",
       "      <td>A-RR9pDCUAACIie.jpg</td>\n",
       "      <td>0.389928</td>\n",
       "      <td>0.381543</td>\n",
       "      <td>0.510541</td>\n",
       "    </tr>\n",
       "    <tr>\n",
       "      <th>4</th>\n",
       "      <td>A0bYSpSCEAAOrz3.jpg</td>\n",
       "      <td>0.278244</td>\n",
       "      <td>0.417752</td>\n",
       "      <td>0.527771</td>\n",
       "    </tr>\n",
       "  </tbody>\n",
       "</table>\n",
       "</div>"
      ],
      "text/plain": [
       "              filename       hue       sat       val\n",
       "0  A-apKAqCcAAGJ66.jpg  0.160359  0.351472  0.913912\n",
       "1  A-iPK8TCUAAxvut.jpg  0.068535  0.061614  0.671032\n",
       "2  A-jFBI7CUAEWLYw.jpg  0.189481  0.404010  0.458975\n",
       "3  A-RR9pDCUAACIie.jpg  0.389928  0.381543  0.510541\n",
       "4  A0bYSpSCEAAOrz3.jpg  0.278244  0.417752  0.527771"
      ]
     },
     "execution_count": 182,
     "metadata": {},
     "output_type": "execute_result"
    }
   ],
   "source": [
    "nyc.head()"
   ]
  },
  {
   "cell_type": "code",
   "execution_count": 183,
   "metadata": {
    "collapsed": false
   },
   "outputs": [
    {
     "data": {
      "text/html": [
       "<div style=\"max-height:1000px;max-width:1500px;overflow:auto;\">\n",
       "<table border=\"1\" class=\"dataframe\">\n",
       "  <thead>\n",
       "    <tr style=\"text-align: right;\">\n",
       "      <th></th>\n",
       "      <th>filename</th>\n",
       "      <th>hue</th>\n",
       "      <th>sat</th>\n",
       "      <th>val</th>\n",
       "    </tr>\n",
       "  </thead>\n",
       "  <tbody>\n",
       "    <tr>\n",
       "      <th>0</th>\n",
       "      <td>A--6gTPCcAAz6DN.jpg</td>\n",
       "      <td>0.075406</td>\n",
       "      <td>0.086761</td>\n",
       "      <td>0.275237</td>\n",
       "    </tr>\n",
       "    <tr>\n",
       "      <th>1</th>\n",
       "      <td>A-lDsD8CIAAKd-C.jpg</td>\n",
       "      <td>0.002870</td>\n",
       "      <td>0.000074</td>\n",
       "      <td>0.872968</td>\n",
       "    </tr>\n",
       "    <tr>\n",
       "      <th>2</th>\n",
       "      <td>A-Lm0PxCAAAigzO.jpg</td>\n",
       "      <td>0.627556</td>\n",
       "      <td>0.204625</td>\n",
       "      <td>0.817564</td>\n",
       "    </tr>\n",
       "    <tr>\n",
       "      <th>3</th>\n",
       "      <td>A04AqfOCMAAAbkP.jpg</td>\n",
       "      <td>0.432269</td>\n",
       "      <td>0.263279</td>\n",
       "      <td>0.148018</td>\n",
       "    </tr>\n",
       "    <tr>\n",
       "      <th>4</th>\n",
       "      <td>A12OolJCEAEI8HF.jpg</td>\n",
       "      <td>0.139178</td>\n",
       "      <td>0.902838</td>\n",
       "      <td>0.903293</td>\n",
       "    </tr>\n",
       "  </tbody>\n",
       "</table>\n",
       "</div>"
      ],
      "text/plain": [
       "              filename       hue       sat       val\n",
       "0  A--6gTPCcAAz6DN.jpg  0.075406  0.086761  0.275237\n",
       "1  A-lDsD8CIAAKd-C.jpg  0.002870  0.000074  0.872968\n",
       "2  A-Lm0PxCAAAigzO.jpg  0.627556  0.204625  0.817564\n",
       "3  A04AqfOCMAAAbkP.jpg  0.432269  0.263279  0.148018\n",
       "4  A12OolJCEAEI8HF.jpg  0.139178  0.902838  0.903293"
      ]
     },
     "execution_count": 183,
     "metadata": {},
     "output_type": "execute_result"
    }
   ],
   "source": [
    "la.head()"
   ]
  },
  {
   "cell_type": "code",
   "execution_count": null,
   "metadata": {
    "collapsed": true
   },
   "outputs": [],
   "source": []
  }
 ],
 "metadata": {
  "kernelspec": {
   "display_name": "Python 2",
   "language": "python",
   "name": "python2"
  },
  "language_info": {
   "codemirror_mode": {
    "name": "ipython",
    "version": 2
   },
   "file_extension": ".py",
   "mimetype": "text/x-python",
   "name": "python",
   "nbconvert_exporter": "python",
   "pygments_lexer": "ipython2",
   "version": "2.7.6"
  }
 },
 "nbformat": 4,
 "nbformat_minor": 0
}
