{
 "cells": [
  {
   "cell_type": "code",
   "execution_count": 366,
   "metadata": {
    "collapsed": true
   },
   "outputs": [],
   "source": [
    "import pandas as pd"
   ]
  },
  {
   "cell_type": "code",
   "execution_count": 367,
   "metadata": {
    "collapsed": true
   },
   "outputs": [],
   "source": [
    "h = pd.read_csv('/Users/damoncrockett/Dropbox/thinkpad_home/Software-Studies/housing.csv')"
   ]
  },
  {
   "cell_type": "code",
   "execution_count": 368,
   "metadata": {
    "collapsed": true
   },
   "outputs": [],
   "source": [
    "d = pd.read_csv('/Users/damoncrockett/Dropbox/thinkpad_home/Software-Studies/data/Disability - ACS_13_1YR_S1810_with_ann.csv')"
   ]
  },
  {
   "cell_type": "code",
   "execution_count": 369,
   "metadata": {
    "collapsed": true
   },
   "outputs": [],
   "source": [
    "e = pd.read_csv('/Users/damoncrockett/Dropbox/thinkpad_home/Software-Studies/data/Education - ACS_13_1YR_S1501_with_ann.csv')"
   ]
  },
  {
   "cell_type": "code",
   "execution_count": 370,
   "metadata": {
    "collapsed": true
   },
   "outputs": [],
   "source": [
    "i = pd.read_csv('/Users/damoncrockett/Dropbox/thinkpad_home/Software-Studies/data/Median Income (HH) - ACS_13_1YR_S1901_with_ann.csv')"
   ]
  },
  {
   "cell_type": "code",
   "execution_count": 371,
   "metadata": {
    "collapsed": true
   },
   "outputs": [],
   "source": [
    "u = pd.read_csv('/Users/damoncrockett/Dropbox/thinkpad_home/Software-Studies/data/Unemployment - ACS_13_1YR_S2301_with_ann.csv')"
   ]
  },
  {
   "cell_type": "code",
   "execution_count": 372,
   "metadata": {
    "collapsed": false
   },
   "outputs": [],
   "source": [
    "d = d[['GEO.display-label','HC01_EST_VC01','HC03_EST_VC01']]"
   ]
  },
  {
   "cell_type": "code",
   "execution_count": 373,
   "metadata": {
    "collapsed": true
   },
   "outputs": [],
   "source": [
    "e = e[['GEO.display-label','HC01_EST_VC17']]"
   ]
  },
  {
   "cell_type": "code",
   "execution_count": 374,
   "metadata": {
    "collapsed": true
   },
   "outputs": [],
   "source": [
    "i = i[['GEO.display-label','HC01_EST_VC13']]"
   ]
  },
  {
   "cell_type": "code",
   "execution_count": 375,
   "metadata": {
    "collapsed": true
   },
   "outputs": [],
   "source": [
    "u = u[['GEO.display-label','HC04_EST_VC01']]"
   ]
  },
  {
   "cell_type": "code",
   "execution_count": 376,
   "metadata": {
    "collapsed": true
   },
   "outputs": [],
   "source": [
    "e.set_index('GEO.display-label',inplace=True)\n",
    "i.set_index('GEO.display-label',inplace=True)\n",
    "u.set_index('GEO.display-label',inplace=True)"
   ]
  },
  {
   "cell_type": "code",
   "execution_count": 377,
   "metadata": {
    "collapsed": true
   },
   "outputs": [],
   "source": [
    "d = d.join(e,on='GEO.display-label')\n",
    "d = d.join(i,on='GEO.display-label')\n",
    "d = d.join(u,on='GEO.display-label')"
   ]
  },
  {
   "cell_type": "code",
   "execution_count": 378,
   "metadata": {
    "collapsed": false
   },
   "outputs": [],
   "source": [
    "n = len(d.index)\n",
    "frame = pd.DataFrame({'city': d['GEO.display-label'].iloc[1:],\n",
    "                      'pop': d['HC01_EST_VC01'].iloc[1:],\n",
    "                      'disabled': d['HC03_EST_VC01'].iloc[1:],\n",
    "                      'bachelors': d['HC01_EST_VC17'].iloc[1:],\n",
    "                      'income': d['HC01_EST_VC13'].iloc[1:],\n",
    "                      'unemployed': d['HC04_EST_VC01'].iloc[1:]})"
   ]
  },
  {
   "cell_type": "code",
   "execution_count": 379,
   "metadata": {
    "collapsed": true
   },
   "outputs": [],
   "source": [
    "frame.reset_index(drop=True,inplace=True)"
   ]
  },
  {
   "cell_type": "code",
   "execution_count": 380,
   "metadata": {
    "collapsed": false
   },
   "outputs": [],
   "source": [
    "l = pd.DataFrame(frame.city.str.split(' ',3).tolist(),\n",
    "                columns = ['a','b','c','d'])"
   ]
  },
  {
   "cell_type": "code",
   "execution_count": 381,
   "metadata": {
    "collapsed": false
   },
   "outputs": [],
   "source": [
    "n = len(l.index)\n",
    "\n",
    "for i in range(n):\n",
    "    if l.b.loc[i] == 'city,':\n",
    "        frame.city.loc[i] = l.a.loc[i]"
   ]
  },
  {
   "cell_type": "code",
   "execution_count": 382,
   "metadata": {
    "collapsed": true
   },
   "outputs": [],
   "source": [
    "for i in range(n):\n",
    "    if l.c.loc[i] == 'city,':\n",
    "        frame.city.loc[i] = l.a.loc[i] + ' ' + l.b.loc[i]"
   ]
  },
  {
   "cell_type": "code",
   "execution_count": 383,
   "metadata": {
    "collapsed": false,
    "scrolled": false
   },
   "outputs": [],
   "source": [
    "frame.rename(columns = {'city':'RegionName'}, inplace=True)"
   ]
  },
  {
   "cell_type": "code",
   "execution_count": 384,
   "metadata": {
    "collapsed": false
   },
   "outputs": [],
   "source": [
    "h.reset_index(inplace=True)"
   ]
  },
  {
   "cell_type": "code",
   "execution_count": 385,
   "metadata": {
    "collapsed": false
   },
   "outputs": [],
   "source": [
    "new_cols = list(h.columns[1:])\n",
    "new_cols.append('state')\n",
    "h.columns = new_cols"
   ]
  },
  {
   "cell_type": "code",
   "execution_count": 386,
   "metadata": {
    "collapsed": false
   },
   "outputs": [],
   "source": [
    "del h['city.state']\n",
    "del h['state']"
   ]
  },
  {
   "cell_type": "code",
   "execution_count": 387,
   "metadata": {
    "collapsed": true
   },
   "outputs": [],
   "source": [
    "h = h[:100]"
   ]
  },
  {
   "cell_type": "code",
   "execution_count": 388,
   "metadata": {
    "collapsed": false
   },
   "outputs": [],
   "source": [
    "frame.RegionName.loc[24] = 'Indianapolis'\n",
    "frame.RegionName.loc[26] = 'Lexington'\n",
    "frame.RegionName.loc[27] = 'Louisville'\n",
    "frame.RegionName.loc[48] = 'Nashville'\n",
    "frame.RegionName.loc[34] = 'Saint Louis'"
   ]
  },
  {
   "cell_type": "code",
   "execution_count": 389,
   "metadata": {
    "collapsed": false
   },
   "outputs": [],
   "source": [
    "h.set_index('RegionName',inplace=True)"
   ]
  },
  {
   "cell_type": "code",
   "execution_count": 390,
   "metadata": {
    "collapsed": false
   },
   "outputs": [],
   "source": [
    "new_frame = frame.join(h, on='RegionName')"
   ]
  },
  {
   "cell_type": "code",
   "execution_count": 392,
   "metadata": {
    "collapsed": false
   },
   "outputs": [],
   "source": [
    "new_frame.to_csv('/Users/damoncrockett/Dropbox/thinkpad_home/Software-Studies/frame.csv')"
   ]
  }
 ],
 "metadata": {
  "kernelspec": {
   "display_name": "Python 2",
   "language": "python",
   "name": "python2"
  },
  "language_info": {
   "codemirror_mode": {
    "name": "ipython",
    "version": 2
   },
   "file_extension": ".py",
   "mimetype": "text/x-python",
   "name": "python",
   "nbconvert_exporter": "python",
   "pygments_lexer": "ipython2",
   "version": "2.7.6"
  }
 },
 "nbformat": 4,
 "nbformat_minor": 0
}
