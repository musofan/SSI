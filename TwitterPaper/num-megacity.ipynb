{
 "cells": [
  {
   "cell_type": "code",
   "execution_count": 1,
   "metadata": {
    "collapsed": true
   },
   "outputs": [],
   "source": [
    "import pandas as pd"
   ]
  },
  {
   "cell_type": "code",
   "execution_count": 2,
   "metadata": {
    "collapsed": true
   },
   "outputs": [],
   "source": [
    "df_2011 = pd.read_csv('/data/damoncrockett/2011/output_2011.csv')"
   ]
  },
  {
   "cell_type": "code",
   "execution_count": 3,
   "metadata": {
    "collapsed": true
   },
   "outputs": [],
   "source": [
    "megacities = pd.read_table('/data/damoncrockett/megacities.txt',header=False,sep='\\t')"
   ]
  },
  {
   "cell_type": "code",
   "execution_count": 4,
   "metadata": {
    "collapsed": true
   },
   "outputs": [],
   "source": [
    "df_2012 = pd.read_csv('/data/damoncrockett/twitter_metadata_2012.csv')"
   ]
  },
  {
   "cell_type": "code",
   "execution_count": 5,
   "metadata": {
    "collapsed": false
   },
   "outputs": [
    {
     "data": {
      "text/html": [
       "<div style=\"max-height:1000px;max-width:1500px;overflow:auto;\">\n",
       "<table border=\"1\" class=\"dataframe\">\n",
       "  <thead>\n",
       "    <tr style=\"text-align: right;\">\n",
       "      <th></th>\n",
       "      <th>Rank</th>\n",
       "      <th>Megacity</th>\n",
       "      <th>Country</th>\n",
       "      <th>Continent</th>\n",
       "      <th>Population</th>\n",
       "    </tr>\n",
       "  </thead>\n",
       "  <tbody>\n",
       "    <tr>\n",
       "      <th>0</th>\n",
       "      <td>1</td>\n",
       "      <td>Tokyo</td>\n",
       "      <td>Japan Japan</td>\n",
       "      <td>Asia</td>\n",
       "      <td>37,900,000</td>\n",
       "    </tr>\n",
       "    <tr>\n",
       "      <th>1</th>\n",
       "      <td>2</td>\n",
       "      <td>Jakarta</td>\n",
       "      <td>Indonesia Indonesia</td>\n",
       "      <td>Asia</td>\n",
       "      <td>30,326,103</td>\n",
       "    </tr>\n",
       "    <tr>\n",
       "      <th>2</th>\n",
       "      <td>3</td>\n",
       "      <td>Delhi</td>\n",
       "      <td>India India</td>\n",
       "      <td>Asia</td>\n",
       "      <td>26,400,000</td>\n",
       "    </tr>\n",
       "    <tr>\n",
       "      <th>3</th>\n",
       "      <td>4</td>\n",
       "      <td>Seoul</td>\n",
       "      <td>South Korea South Korea</td>\n",
       "      <td>Asia</td>\n",
       "      <td>26,100,000</td>\n",
       "    </tr>\n",
       "    <tr>\n",
       "      <th>4</th>\n",
       "      <td>5</td>\n",
       "      <td>Shanghai</td>\n",
       "      <td>China China</td>\n",
       "      <td>Asia</td>\n",
       "      <td>25,400,000</td>\n",
       "    </tr>\n",
       "  </tbody>\n",
       "</table>\n",
       "</div>"
      ],
      "text/plain": [
       "   Rank   Megacity                   Country  Continent   Population\n",
       "0      1     Tokyo               Japan Japan       Asia   37,900,000\n",
       "1      2   Jakarta       Indonesia Indonesia       Asia   30,326,103\n",
       "2      3     Delhi               India India       Asia   26,400,000\n",
       "3      4     Seoul   South Korea South Korea       Asia   26,100,000\n",
       "4      5  Shanghai               China China       Asia   25,400,000"
      ]
     },
     "execution_count": 5,
     "metadata": {},
     "output_type": "execute_result"
    }
   ],
   "source": [
    "megacities.head()"
   ]
  },
  {
   "cell_type": "code",
   "execution_count": 7,
   "metadata": {
    "collapsed": false
   },
   "outputs": [
    {
     "data": {
      "text/plain": [
       "Index([u'Rank ', u'Megacity ', u'Country ', u'Continent ', u'Population'], dtype='object')"
      ]
     },
     "execution_count": 7,
     "metadata": {},
     "output_type": "execute_result"
    }
   ],
   "source": [
    "megacities.columns"
   ]
  },
  {
   "cell_type": "code",
   "execution_count": 9,
   "metadata": {
    "collapsed": false
   },
   "outputs": [],
   "source": [
    "cities = list(megacities['Megacity '])"
   ]
  },
  {
   "cell_type": "code",
   "execution_count": 12,
   "metadata": {
    "collapsed": false
   },
   "outputs": [],
   "source": [
    "cities = [city.rstrip(\" \") for city in cities]"
   ]
  },
  {
   "cell_type": "code",
   "execution_count": 20,
   "metadata": {
    "collapsed": false
   },
   "outputs": [],
   "source": [
    "loc_2011 = df_2011[['location']]"
   ]
  },
  {
   "cell_type": "code",
   "execution_count": 21,
   "metadata": {
    "collapsed": true
   },
   "outputs": [],
   "source": [
    "loc_2012 = df_2012[['location']]"
   ]
  },
  {
   "cell_type": "code",
   "execution_count": 22,
   "metadata": {
    "collapsed": false
   },
   "outputs": [],
   "source": [
    "loc_2011 = loc_2011[loc_2011.location.notnull()]"
   ]
  },
  {
   "cell_type": "code",
   "execution_count": 23,
   "metadata": {
    "collapsed": true
   },
   "outputs": [],
   "source": [
    "loc_2012 = loc_2012[loc_2012.location.notnull()]"
   ]
  },
  {
   "cell_type": "code",
   "execution_count": 24,
   "metadata": {
    "collapsed": true
   },
   "outputs": [],
   "source": [
    "loc_2011_mega = loc_2011[loc_2011.location.isin(cities)]"
   ]
  },
  {
   "cell_type": "code",
   "execution_count": 25,
   "metadata": {
    "collapsed": true
   },
   "outputs": [],
   "source": [
    "loc_2012_mega = loc_2012[loc_2012.location.isin(cities)]"
   ]
  },
  {
   "cell_type": "code",
   "execution_count": 26,
   "metadata": {
    "collapsed": false
   },
   "outputs": [
    {
     "name": "stdout",
     "output_type": "stream",
     "text": [
      "<class 'pandas.core.frame.DataFrame'>\n",
      "Int64Index: 60529 entries, 40 to 2030781\n",
      "Data columns (total 1 columns):\n",
      "location    60529 non-null object\n",
      "dtypes: object(1)\n",
      "memory usage: 945.8+ KB\n"
     ]
    }
   ],
   "source": [
    "loc_2011_mega.info()"
   ]
  },
  {
   "cell_type": "code",
   "execution_count": 27,
   "metadata": {
    "collapsed": false
   },
   "outputs": [
    {
     "name": "stdout",
     "output_type": "stream",
     "text": [
      "<class 'pandas.core.frame.DataFrame'>\n",
      "Int64Index: 636259 entries, 74 to 30479914\n",
      "Data columns (total 1 columns):\n",
      "location    636259 non-null object\n",
      "dtypes: object(1)\n",
      "memory usage: 9.7+ MB\n"
     ]
    }
   ],
   "source": [
    "loc_2012_mega.info()"
   ]
  },
  {
   "cell_type": "code",
   "execution_count": 28,
   "metadata": {
    "collapsed": true
   },
   "outputs": [],
   "source": [
    "import numpy as np"
   ]
  },
  {
   "cell_type": "code",
   "execution_count": 32,
   "metadata": {
    "collapsed": false
   },
   "outputs": [],
   "source": [
    "eleven = loc_2011_mega.groupby('location').agg(min)"
   ]
  },
  {
   "cell_type": "code",
   "execution_count": 33,
   "metadata": {
    "collapsed": true
   },
   "outputs": [],
   "source": [
    "eleven['count'] = loc_2011_mega.groupby('location').size()"
   ]
  },
  {
   "cell_type": "code",
   "execution_count": 34,
   "metadata": {
    "collapsed": false
   },
   "outputs": [
    {
     "data": {
      "text/html": [
       "<div style=\"max-height:1000px;max-width:1500px;overflow:auto;\">\n",
       "<table border=\"1\" class=\"dataframe\">\n",
       "  <thead>\n",
       "    <tr style=\"text-align: right;\">\n",
       "      <th></th>\n",
       "      <th>count</th>\n",
       "    </tr>\n",
       "    <tr>\n",
       "      <th>location</th>\n",
       "      <th></th>\n",
       "    </tr>\n",
       "  </thead>\n",
       "  <tbody>\n",
       "    <tr>\n",
       "      <th>Buenos Aires</th>\n",
       "      <td>1</td>\n",
       "    </tr>\n",
       "    <tr>\n",
       "      <th>Cairo</th>\n",
       "      <td>2</td>\n",
       "    </tr>\n",
       "    <tr>\n",
       "      <th>Delhi</th>\n",
       "      <td>69</td>\n",
       "    </tr>\n",
       "    <tr>\n",
       "      <th>Lagos</th>\n",
       "      <td>23</td>\n",
       "    </tr>\n",
       "    <tr>\n",
       "      <th>London</th>\n",
       "      <td>160</td>\n",
       "    </tr>\n",
       "    <tr>\n",
       "      <th>Los Angeles</th>\n",
       "      <td>15818</td>\n",
       "    </tr>\n",
       "    <tr>\n",
       "      <th>Manila</th>\n",
       "      <td>1</td>\n",
       "    </tr>\n",
       "    <tr>\n",
       "      <th>Moscow</th>\n",
       "      <td>29927</td>\n",
       "    </tr>\n",
       "    <tr>\n",
       "      <th>Osaka</th>\n",
       "      <td>276</td>\n",
       "    </tr>\n",
       "    <tr>\n",
       "      <th>Paris</th>\n",
       "      <td>7871</td>\n",
       "    </tr>\n",
       "    <tr>\n",
       "      <th>Rio de Janeiro</th>\n",
       "      <td>6319</td>\n",
       "    </tr>\n",
       "    <tr>\n",
       "      <th>Shanghai</th>\n",
       "      <td>1</td>\n",
       "    </tr>\n",
       "    <tr>\n",
       "      <th>Tokyo</th>\n",
       "      <td>61</td>\n",
       "    </tr>\n",
       "  </tbody>\n",
       "</table>\n",
       "</div>"
      ],
      "text/plain": [
       "                count\n",
       "location             \n",
       "Buenos Aires        1\n",
       "Cairo               2\n",
       "Delhi              69\n",
       "Lagos              23\n",
       "London            160\n",
       "Los Angeles     15818\n",
       "Manila              1\n",
       "Moscow          29927\n",
       "Osaka             276\n",
       "Paris            7871\n",
       "Rio de Janeiro   6319\n",
       "Shanghai            1\n",
       "Tokyo              61"
      ]
     },
     "execution_count": 34,
     "metadata": {},
     "output_type": "execute_result"
    }
   ],
   "source": [
    "eleven"
   ]
  },
  {
   "cell_type": "code",
   "execution_count": 35,
   "metadata": {
    "collapsed": true
   },
   "outputs": [],
   "source": [
    "twelve = loc_2012_mega.groupby('location').agg(min)"
   ]
  },
  {
   "cell_type": "code",
   "execution_count": 36,
   "metadata": {
    "collapsed": true
   },
   "outputs": [],
   "source": [
    "twelve['count'] = loc_2012_mega.groupby('location').size()"
   ]
  },
  {
   "cell_type": "code",
   "execution_count": 37,
   "metadata": {
    "collapsed": false
   },
   "outputs": [
    {
     "data": {
      "text/html": [
       "<div style=\"max-height:1000px;max-width:1500px;overflow:auto;\">\n",
       "<table border=\"1\" class=\"dataframe\">\n",
       "  <thead>\n",
       "    <tr style=\"text-align: right;\">\n",
       "      <th></th>\n",
       "      <th>count</th>\n",
       "    </tr>\n",
       "    <tr>\n",
       "      <th>location</th>\n",
       "      <th></th>\n",
       "    </tr>\n",
       "  </thead>\n",
       "  <tbody>\n",
       "    <tr>\n",
       "      <th>Buenos Aires</th>\n",
       "      <td>10</td>\n",
       "    </tr>\n",
       "    <tr>\n",
       "      <th>Cairo</th>\n",
       "      <td>253</td>\n",
       "    </tr>\n",
       "    <tr>\n",
       "      <th>Delhi</th>\n",
       "      <td>1077</td>\n",
       "    </tr>\n",
       "    <tr>\n",
       "      <th>Lagos</th>\n",
       "      <td>652</td>\n",
       "    </tr>\n",
       "    <tr>\n",
       "      <th>London</th>\n",
       "      <td>2267</td>\n",
       "    </tr>\n",
       "    <tr>\n",
       "      <th>Los Angeles</th>\n",
       "      <td>169725</td>\n",
       "    </tr>\n",
       "    <tr>\n",
       "      <th>Manila</th>\n",
       "      <td>48</td>\n",
       "    </tr>\n",
       "    <tr>\n",
       "      <th>Moscow</th>\n",
       "      <td>297851</td>\n",
       "    </tr>\n",
       "    <tr>\n",
       "      <th>Osaka</th>\n",
       "      <td>1447</td>\n",
       "    </tr>\n",
       "    <tr>\n",
       "      <th>Paris</th>\n",
       "      <td>96577</td>\n",
       "    </tr>\n",
       "    <tr>\n",
       "      <th>Rio de Janeiro</th>\n",
       "      <td>65429</td>\n",
       "    </tr>\n",
       "    <tr>\n",
       "      <th>Shanghai</th>\n",
       "      <td>33</td>\n",
       "    </tr>\n",
       "    <tr>\n",
       "      <th>Tokyo</th>\n",
       "      <td>890</td>\n",
       "    </tr>\n",
       "  </tbody>\n",
       "</table>\n",
       "</div>"
      ],
      "text/plain": [
       "                 count\n",
       "location              \n",
       "Buenos Aires        10\n",
       "Cairo              253\n",
       "Delhi             1077\n",
       "Lagos              652\n",
       "London            2267\n",
       "Los Angeles     169725\n",
       "Manila              48\n",
       "Moscow          297851\n",
       "Osaka             1447\n",
       "Paris            96577\n",
       "Rio de Janeiro   65429\n",
       "Shanghai            33\n",
       "Tokyo              890"
      ]
     },
     "execution_count": 37,
     "metadata": {},
     "output_type": "execute_result"
    }
   ],
   "source": [
    "twelve"
   ]
  },
  {
   "cell_type": "code",
   "execution_count": 38,
   "metadata": {
    "collapsed": false
   },
   "outputs": [
    {
     "data": {
      "text/html": [
       "<div style=\"max-height:1000px;max-width:1500px;overflow:auto;\">\n",
       "<table border=\"1\" class=\"dataframe\">\n",
       "  <thead>\n",
       "    <tr style=\"text-align: right;\">\n",
       "      <th></th>\n",
       "      <th>count</th>\n",
       "    </tr>\n",
       "    <tr>\n",
       "      <th>location</th>\n",
       "      <th></th>\n",
       "    </tr>\n",
       "  </thead>\n",
       "  <tbody>\n",
       "    <tr>\n",
       "      <th>Buenos Aires</th>\n",
       "      <td>1</td>\n",
       "    </tr>\n",
       "    <tr>\n",
       "      <th>Cairo</th>\n",
       "      <td>2</td>\n",
       "    </tr>\n",
       "    <tr>\n",
       "      <th>Delhi</th>\n",
       "      <td>69</td>\n",
       "    </tr>\n",
       "    <tr>\n",
       "      <th>Lagos</th>\n",
       "      <td>23</td>\n",
       "    </tr>\n",
       "    <tr>\n",
       "      <th>London</th>\n",
       "      <td>160</td>\n",
       "    </tr>\n",
       "    <tr>\n",
       "      <th>Los Angeles</th>\n",
       "      <td>15818</td>\n",
       "    </tr>\n",
       "    <tr>\n",
       "      <th>Manila</th>\n",
       "      <td>1</td>\n",
       "    </tr>\n",
       "    <tr>\n",
       "      <th>Moscow</th>\n",
       "      <td>29927</td>\n",
       "    </tr>\n",
       "    <tr>\n",
       "      <th>Osaka</th>\n",
       "      <td>276</td>\n",
       "    </tr>\n",
       "    <tr>\n",
       "      <th>Paris</th>\n",
       "      <td>7871</td>\n",
       "    </tr>\n",
       "    <tr>\n",
       "      <th>Rio de Janeiro</th>\n",
       "      <td>6319</td>\n",
       "    </tr>\n",
       "    <tr>\n",
       "      <th>Shanghai</th>\n",
       "      <td>1</td>\n",
       "    </tr>\n",
       "    <tr>\n",
       "      <th>Tokyo</th>\n",
       "      <td>61</td>\n",
       "    </tr>\n",
       "  </tbody>\n",
       "</table>\n",
       "</div>"
      ],
      "text/plain": [
       "                count\n",
       "location             \n",
       "Buenos Aires        1\n",
       "Cairo               2\n",
       "Delhi              69\n",
       "Lagos              23\n",
       "London            160\n",
       "Los Angeles     15818\n",
       "Manila              1\n",
       "Moscow          29927\n",
       "Osaka             276\n",
       "Paris            7871\n",
       "Rio de Janeiro   6319\n",
       "Shanghai            1\n",
       "Tokyo              61"
      ]
     },
     "execution_count": 38,
     "metadata": {},
     "output_type": "execute_result"
    }
   ],
   "source": [
    "eleven"
   ]
  },
  {
   "cell_type": "code",
   "execution_count": 39,
   "metadata": {
    "collapsed": false
   },
   "outputs": [
    {
     "data": {
      "text/html": [
       "<div style=\"max-height:1000px;max-width:1500px;overflow:auto;\">\n",
       "<table border=\"1\" class=\"dataframe\">\n",
       "  <thead>\n",
       "    <tr style=\"text-align: right;\">\n",
       "      <th></th>\n",
       "      <th>count</th>\n",
       "    </tr>\n",
       "    <tr>\n",
       "      <th>location</th>\n",
       "      <th></th>\n",
       "    </tr>\n",
       "  </thead>\n",
       "  <tbody>\n",
       "    <tr>\n",
       "      <th>Buenos Aires</th>\n",
       "      <td>10</td>\n",
       "    </tr>\n",
       "    <tr>\n",
       "      <th>Cairo</th>\n",
       "      <td>253</td>\n",
       "    </tr>\n",
       "    <tr>\n",
       "      <th>Delhi</th>\n",
       "      <td>1077</td>\n",
       "    </tr>\n",
       "    <tr>\n",
       "      <th>Lagos</th>\n",
       "      <td>652</td>\n",
       "    </tr>\n",
       "    <tr>\n",
       "      <th>London</th>\n",
       "      <td>2267</td>\n",
       "    </tr>\n",
       "    <tr>\n",
       "      <th>Los Angeles</th>\n",
       "      <td>169725</td>\n",
       "    </tr>\n",
       "    <tr>\n",
       "      <th>Manila</th>\n",
       "      <td>48</td>\n",
       "    </tr>\n",
       "    <tr>\n",
       "      <th>Moscow</th>\n",
       "      <td>297851</td>\n",
       "    </tr>\n",
       "    <tr>\n",
       "      <th>Osaka</th>\n",
       "      <td>1447</td>\n",
       "    </tr>\n",
       "    <tr>\n",
       "      <th>Paris</th>\n",
       "      <td>96577</td>\n",
       "    </tr>\n",
       "    <tr>\n",
       "      <th>Rio de Janeiro</th>\n",
       "      <td>65429</td>\n",
       "    </tr>\n",
       "    <tr>\n",
       "      <th>Shanghai</th>\n",
       "      <td>33</td>\n",
       "    </tr>\n",
       "    <tr>\n",
       "      <th>Tokyo</th>\n",
       "      <td>890</td>\n",
       "    </tr>\n",
       "  </tbody>\n",
       "</table>\n",
       "</div>"
      ],
      "text/plain": [
       "                 count\n",
       "location              \n",
       "Buenos Aires        10\n",
       "Cairo              253\n",
       "Delhi             1077\n",
       "Lagos              652\n",
       "London            2267\n",
       "Los Angeles     169725\n",
       "Manila              48\n",
       "Moscow          297851\n",
       "Osaka             1447\n",
       "Paris            96577\n",
       "Rio de Janeiro   65429\n",
       "Shanghai            33\n",
       "Tokyo              890"
      ]
     },
     "execution_count": 39,
     "metadata": {},
     "output_type": "execute_result"
    }
   ],
   "source": [
    "twelve"
   ]
  },
  {
   "cell_type": "code",
   "execution_count": 40,
   "metadata": {
    "collapsed": false
   },
   "outputs": [
    {
     "data": {
      "text/plain": [
       "Moscow                  29927\n",
       "Turkey                  29482\n",
       "Manhattan               25166\n",
       "Brasil                  18336\n",
       "Los Angeles             15818\n",
       "Madrid                  14203\n",
       "Chicago                 11299\n",
       "São Paulo               10300\n",
       "New York                 9980\n",
       "Russia                   9609\n",
       "Toronto                  8912\n",
       "Westminster              8115\n",
       "Paris                    7871\n",
       "Georgia                  7664\n",
       "Greater Vancouver        7310\n",
       "Washington               7236\n",
       "Johore                   7211\n",
       "Saint Petersburg         6948\n",
       "Philadelphia             6948\n",
       "Barcelona                6798\n",
       "Johor Bahru              6546\n",
       "Rio de Janeiro           6319\n",
       "Stockholm                6165\n",
       "Florida                  6063\n",
       "Texas                    5800\n",
       "Rome                     5548\n",
       "Boston                   5504\n",
       "Manchester               5374\n",
       "Houston                  5366\n",
       "Greece                   5232\n",
       "                        ...  \n",
       "Longobucco                  1\n",
       "Fourth                      1\n",
       "Itaobim                     1\n",
       "Sales de Llierca            1\n",
       "Barat Daya                  1\n",
       "Arlewatt                    1\n",
       "Baunatal                    1\n",
       "Cardè                       1\n",
       "Osoppo                      1\n",
       "Nordstemmen                 1\n",
       "Authevernes                 1\n",
       "Higuera de la Sierra        1\n",
       "Parangloe                   1\n",
       "Strawberry Plains           1\n",
       "Big Horn Central            1\n",
       "Porschdorf                  1\n",
       "Corral de Calatrava         1\n",
       "San Vincenzo                1\n",
       "Mardor                      1\n",
       "Gata de Gorgos              1\n",
       "Ruda Śląska                 1\n",
       "Glen Rose                   1\n",
       "Mendexa                     1\n",
       "Rockaway Beach              1\n",
       "Weiz                        1\n",
       "Cavriglia                   1\n",
       "Valmeinier                  1\n",
       "Teja                        1\n",
       "Alaminos                    1\n",
       "Sanchonuño                  1\n",
       "dtype: int64"
      ]
     },
     "execution_count": 40,
     "metadata": {},
     "output_type": "execute_result"
    }
   ],
   "source": [
    "df_2011.location.value_counts()"
   ]
  },
  {
   "cell_type": "code",
   "execution_count": 41,
   "metadata": {
    "collapsed": false
   },
   "outputs": [
    {
     "data": {
      "text/plain": [
       "Turkey                        741908\n",
       "Chile                         317019\n",
       "Moscow                        297851\n",
       "Manhattan                     202711\n",
       "Madrid                        200263\n",
       "Los Angeles                   169725\n",
       "Chicago                       122881\n",
       "Ukraine                       113358\n",
       "New York                      109995\n",
       "Georgia                       102344\n",
       "Paris                          96577\n",
       "São Paulo                      93941\n",
       "Türkiye                        89403\n",
       "Brasil                         87837\n",
       "Texas                          86829\n",
       "Toronto                        85256\n",
       "Saint Petersburg               81204\n",
       "Florida                        79998\n",
       "Washington                     78769\n",
       "Westminster                    78725\n",
       "Barcelona                      77942\n",
       "Johor Bahru                    73286\n",
       "Houston                        73112\n",
       "Ohio                           68549\n",
       "Greece                         67621\n",
       "Philadelphia                   66559\n",
       "Rio de Janeiro                 65429\n",
       "Boston                         63246\n",
       "South Carolina                 59378\n",
       "Seville                        58541\n",
       "                               ...  \n",
       "Saint-Vincent-des-Bois             1\n",
       "Saron-sur-Aube                     1\n",
       "Darling Springs                    1\n",
       "Causse-de-la-Selle                 1\n",
       "Héhalom                            1\n",
       "Dar Bni Karrich                    1\n",
       "Poullaouen                         1\n",
       "Mound Valley                       1\n",
       "Rohrbach in Oberösterreich         1\n",
       "Airon-Notre-Dame                   1\n",
       "Gryficki                           1\n",
       "日南町（日野郡）                           1\n",
       "Vézeronce-Curtin                   1\n",
       "Saint-Barnabé                      1\n",
       "Kinmundy                           1\n",
       "Villemareuil                       1\n",
       "Central de Minas                   1\n",
       "Jedlicze                           1\n",
       "Chequilla                          1\n",
       "Calès                              1\n",
       "Szamosszeg                         1\n",
       "Ljudinovskij Rajon                 1\n",
       "Uptown Espresso & Bakery           1\n",
       "Sonntagberg                        1\n",
       "Schmiedrued                        1\n",
       "Bannost-Villegagnon                1\n",
       "Parzac                             1\n",
       "GB5, Universität Dortmund          1\n",
       "Villanova Canavese                 1\n",
       "Mas-de-Londres                     1\n",
       "dtype: int64"
      ]
     },
     "execution_count": 41,
     "metadata": {},
     "output_type": "execute_result"
    }
   ],
   "source": [
    "df_2012.location.value_counts()"
   ]
  },
  {
   "cell_type": "code",
   "execution_count": null,
   "metadata": {
    "collapsed": true
   },
   "outputs": [],
   "source": []
  }
 ],
 "metadata": {
  "kernelspec": {
   "display_name": "Python 2",
   "language": "python",
   "name": "python2"
  },
  "language_info": {
   "codemirror_mode": {
    "name": "ipython",
    "version": 2
   },
   "file_extension": ".py",
   "mimetype": "text/x-python",
   "name": "python",
   "nbconvert_exporter": "python",
   "pygments_lexer": "ipython2",
   "version": "2.7.6"
  }
 },
 "nbformat": 4,
 "nbformat_minor": 0
}
