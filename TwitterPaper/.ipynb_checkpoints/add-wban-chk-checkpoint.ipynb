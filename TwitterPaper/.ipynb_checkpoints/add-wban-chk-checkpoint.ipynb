{
 "cells": [
  {
   "cell_type": "code",
   "execution_count": 1,
   "metadata": {
    "collapsed": true
   },
   "outputs": [],
   "source": [
    "import pandas as pd"
   ]
  },
  {
   "cell_type": "code",
   "execution_count": 2,
   "metadata": {
    "collapsed": true
   },
   "outputs": [],
   "source": [
    "d = pd.read_csv('/Users/damoncrockett/Dropbox/TwitterPaper/data/twitter/US_HSV_modes_top60_cities_wban.csv')"
   ]
  },
  {
   "cell_type": "code",
   "execution_count": 3,
   "metadata": {
    "collapsed": false
   },
   "outputs": [
    {
     "data": {
      "text/plain": [
       "7971556"
      ]
     },
     "execution_count": 3,
     "metadata": {},
     "output_type": "execute_result"
    }
   ],
   "source": [
    "len(d.index[d.WBAN.notnull()])"
   ]
  },
  {
   "cell_type": "code",
   "execution_count": 4,
   "metadata": {
    "collapsed": false
   },
   "outputs": [
    {
     "data": {
      "text/plain": [
       "7971556"
      ]
     },
     "execution_count": 4,
     "metadata": {},
     "output_type": "execute_result"
    }
   ],
   "source": [
    "len(d.index)"
   ]
  },
  {
   "cell_type": "code",
   "execution_count": 6,
   "metadata": {
    "collapsed": false
   },
   "outputs": [
    {
     "data": {
      "text/html": [
       "<div style=\"max-height:1000px;max-width:1500px;overflow:auto;\">\n",
       "<table border=\"1\" class=\"dataframe\">\n",
       "  <thead>\n",
       "    <tr style=\"text-align: right;\">\n",
       "      <th></th>\n",
       "      <th>image.path</th>\n",
       "      <th>filename</th>\n",
       "      <th>img_url</th>\n",
       "      <th>size_h</th>\n",
       "      <th>size_w</th>\n",
       "      <th>lat</th>\n",
       "      <th>lon</th>\n",
       "      <th>postedTime</th>\n",
       "      <th>mongo_id</th>\n",
       "      <th>location</th>\n",
       "      <th>...</th>\n",
       "      <th>B.mode</th>\n",
       "      <th>R.entropy</th>\n",
       "      <th>G.entropy</th>\n",
       "      <th>B.entropy</th>\n",
       "      <th>city</th>\n",
       "      <th>H.mode</th>\n",
       "      <th>S.mode</th>\n",
       "      <th>V.mode</th>\n",
       "      <th>hour</th>\n",
       "      <th>WBAN</th>\n",
       "    </tr>\n",
       "  </thead>\n",
       "  <tbody>\n",
       "    <tr>\n",
       "      <th>0</th>\n",
       "      <td>/data/myazdani/images/2013/2013-01-01/00/A-6iy...</td>\n",
       "      <td>A-6iyQmCYAE9w8B.jpg</td>\n",
       "      <td>http://pbs.twimg.com/media/A-6iyQmCYAE9w8B.jpg</td>\n",
       "      <td>684</td>\n",
       "      <td>500</td>\n",
       "      <td>39.938049</td>\n",
       "      <td>-82.886912</td>\n",
       "      <td>2013-01-01T00:40:38.000Z</td>\n",
       "      <td>53dc81ddad12874a4a2c188f</td>\n",
       "      <td>Columbus</td>\n",
       "      <td>...</td>\n",
       "      <td>255</td>\n",
       "      <td>5.089188</td>\n",
       "      <td>5.034659</td>\n",
       "      <td>4.806793</td>\n",
       "      <td>columbus</td>\n",
       "      <td>20</td>\n",
       "      <td>51</td>\n",
       "      <td>255</td>\n",
       "      <td>19</td>\n",
       "      <td>14821</td>\n",
       "    </tr>\n",
       "    <tr>\n",
       "      <th>1</th>\n",
       "      <td>/data/myazdani/images/2013/2013-01-01/00/A_e-7...</td>\n",
       "      <td>A_e-7RzCIAAQWFF.jpg</td>\n",
       "      <td>http://pbs.twimg.com/media/A_e-7RzCIAAQWFF.jpg</td>\n",
       "      <td>1024</td>\n",
       "      <td>768</td>\n",
       "      <td>33.805219</td>\n",
       "      <td>-84.300265</td>\n",
       "      <td>2013-01-01T00:35:22.000Z</td>\n",
       "      <td>53dc81dfad12874a4a2c2e3e</td>\n",
       "      <td>North Decatur</td>\n",
       "      <td>...</td>\n",
       "      <td>151</td>\n",
       "      <td>4.734248</td>\n",
       "      <td>5.024152</td>\n",
       "      <td>5.300740</td>\n",
       "      <td>atlanta</td>\n",
       "      <td>8</td>\n",
       "      <td>124</td>\n",
       "      <td>149</td>\n",
       "      <td>19</td>\n",
       "      <td>53863</td>\n",
       "    </tr>\n",
       "    <tr>\n",
       "      <th>2</th>\n",
       "      <td>/data/myazdani/images/2013/2013-01-01/00/A_e-C...</td>\n",
       "      <td>A_e-CPHCAAES9Vc.jpg</td>\n",
       "      <td>http://pbs.twimg.com/media/A_e-CPHCAAES9Vc.jpg</td>\n",
       "      <td>640</td>\n",
       "      <td>480</td>\n",
       "      <td>43.044368</td>\n",
       "      <td>-87.932791</td>\n",
       "      <td>2013-01-01T00:31:28.000Z</td>\n",
       "      <td>53dc81dfad12874a4a2c2add</td>\n",
       "      <td>Milwaukee</td>\n",
       "      <td>...</td>\n",
       "      <td>255</td>\n",
       "      <td>4.844191</td>\n",
       "      <td>5.060838</td>\n",
       "      <td>5.198493</td>\n",
       "      <td>milwaukee</td>\n",
       "      <td>12</td>\n",
       "      <td>161</td>\n",
       "      <td>255</td>\n",
       "      <td>18</td>\n",
       "      <td>14839</td>\n",
       "    </tr>\n",
       "    <tr>\n",
       "      <th>3</th>\n",
       "      <td>/data/myazdani/images/2013/2013-01-01/00/A_e-C...</td>\n",
       "      <td>A_e-Cq-CAAAoL2K.jpg</td>\n",
       "      <td>http://pbs.twimg.com/media/A_e-Cq-CAAAoL2K.jpg</td>\n",
       "      <td>1712</td>\n",
       "      <td>1024</td>\n",
       "      <td>39.235123</td>\n",
       "      <td>-94.567517</td>\n",
       "      <td>2013-01-01T00:31:32.000Z</td>\n",
       "      <td>53dc81dfad12874a4a2c2af3</td>\n",
       "      <td>Chouteau</td>\n",
       "      <td>...</td>\n",
       "      <td>9</td>\n",
       "      <td>5.092156</td>\n",
       "      <td>5.169272</td>\n",
       "      <td>5.325943</td>\n",
       "      <td>kansas city</td>\n",
       "      <td>20</td>\n",
       "      <td>85</td>\n",
       "      <td>13</td>\n",
       "      <td>18</td>\n",
       "      <td>13988</td>\n",
       "    </tr>\n",
       "    <tr>\n",
       "      <th>4</th>\n",
       "      <td>/data/myazdani/images/2013/2013-01-01/00/A_e-E...</td>\n",
       "      <td>A_e-EF1CcAAWPR-.jpg</td>\n",
       "      <td>http://pbs.twimg.com/media/A_e-EF1CcAAWPR-.jpg</td>\n",
       "      <td>576</td>\n",
       "      <td>1024</td>\n",
       "      <td>35.123170</td>\n",
       "      <td>-89.980648</td>\n",
       "      <td>2013-01-01T00:31:37.000Z</td>\n",
       "      <td>53dc81dfad12874a4a2c2af1</td>\n",
       "      <td>Memphis</td>\n",
       "      <td>...</td>\n",
       "      <td>86</td>\n",
       "      <td>4.859657</td>\n",
       "      <td>5.076914</td>\n",
       "      <td>5.309013</td>\n",
       "      <td>memphis</td>\n",
       "      <td>172</td>\n",
       "      <td>255</td>\n",
       "      <td>255</td>\n",
       "      <td>18</td>\n",
       "      <td>13893</td>\n",
       "    </tr>\n",
       "  </tbody>\n",
       "</table>\n",
       "<p>5 rows × 22 columns</p>\n",
       "</div>"
      ],
      "text/plain": [
       "                                          image.path             filename  \\\n",
       "0  /data/myazdani/images/2013/2013-01-01/00/A-6iy...  A-6iyQmCYAE9w8B.jpg   \n",
       "1  /data/myazdani/images/2013/2013-01-01/00/A_e-7...  A_e-7RzCIAAQWFF.jpg   \n",
       "2  /data/myazdani/images/2013/2013-01-01/00/A_e-C...  A_e-CPHCAAES9Vc.jpg   \n",
       "3  /data/myazdani/images/2013/2013-01-01/00/A_e-C...  A_e-Cq-CAAAoL2K.jpg   \n",
       "4  /data/myazdani/images/2013/2013-01-01/00/A_e-E...  A_e-EF1CcAAWPR-.jpg   \n",
       "\n",
       "                                          img_url  size_h  size_w        lat  \\\n",
       "0  http://pbs.twimg.com/media/A-6iyQmCYAE9w8B.jpg     684     500  39.938049   \n",
       "1  http://pbs.twimg.com/media/A_e-7RzCIAAQWFF.jpg    1024     768  33.805219   \n",
       "2  http://pbs.twimg.com/media/A_e-CPHCAAES9Vc.jpg     640     480  43.044368   \n",
       "3  http://pbs.twimg.com/media/A_e-Cq-CAAAoL2K.jpg    1712    1024  39.235123   \n",
       "4  http://pbs.twimg.com/media/A_e-EF1CcAAWPR-.jpg     576    1024  35.123170   \n",
       "\n",
       "         lon                postedTime                  mongo_id  \\\n",
       "0 -82.886912  2013-01-01T00:40:38.000Z  53dc81ddad12874a4a2c188f   \n",
       "1 -84.300265  2013-01-01T00:35:22.000Z  53dc81dfad12874a4a2c2e3e   \n",
       "2 -87.932791  2013-01-01T00:31:28.000Z  53dc81dfad12874a4a2c2add   \n",
       "3 -94.567517  2013-01-01T00:31:32.000Z  53dc81dfad12874a4a2c2af3   \n",
       "4 -89.980648  2013-01-01T00:31:37.000Z  53dc81dfad12874a4a2c2af1   \n",
       "\n",
       "        location  ...    B.mode  R.entropy  G.entropy  B.entropy         city  \\\n",
       "0       Columbus  ...       255   5.089188   5.034659   4.806793     columbus   \n",
       "1  North Decatur  ...       151   4.734248   5.024152   5.300740      atlanta   \n",
       "2      Milwaukee  ...       255   4.844191   5.060838   5.198493    milwaukee   \n",
       "3       Chouteau  ...         9   5.092156   5.169272   5.325943  kansas city   \n",
       "4        Memphis  ...        86   4.859657   5.076914   5.309013      memphis   \n",
       "\n",
       "   H.mode S.mode  V.mode  hour   WBAN  \n",
       "0      20     51     255    19  14821  \n",
       "1       8    124     149    19  53863  \n",
       "2      12    161     255    18  14839  \n",
       "3      20     85      13    18  13988  \n",
       "4     172    255     255    18  13893  \n",
       "\n",
       "[5 rows x 22 columns]"
      ]
     },
     "execution_count": 6,
     "metadata": {},
     "output_type": "execute_result"
    }
   ],
   "source": [
    "d.head()"
   ]
  },
  {
   "cell_type": "code",
   "execution_count": null,
   "metadata": {
    "collapsed": true
   },
   "outputs": [],
   "source": []
  }
 ],
 "metadata": {
  "kernelspec": {
   "display_name": "Python 2",
   "language": "python",
   "name": "python2"
  },
  "language_info": {
   "codemirror_mode": {
    "name": "ipython",
    "version": 2
   },
   "file_extension": ".py",
   "mimetype": "text/x-python",
   "name": "python",
   "nbconvert_exporter": "python",
   "pygments_lexer": "ipython2",
   "version": "2.7.6"
  }
 },
 "nbformat": 4,
 "nbformat_minor": 0
}
