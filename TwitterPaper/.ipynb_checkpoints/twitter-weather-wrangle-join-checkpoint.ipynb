{
 "cells": [
  {
   "cell_type": "code",
   "execution_count": 292,
   "metadata": {
    "collapsed": false
   },
   "outputs": [],
   "source": [
    "import pandas as pd\n",
    "import dateutil.parser\n",
    "import datetime"
   ]
  },
  {
   "cell_type": "markdown",
   "metadata": {},
   "source": [
    "###NOAA weather data"
   ]
  },
  {
   "cell_type": "code",
   "execution_count": 293,
   "metadata": {
    "collapsed": false
   },
   "outputs": [],
   "source": [
    "weather = pd.read_csv('/Users/damoncrockett/Dropbox/TwitterPaper/data/twitter/weather_2013.csv')"
   ]
  },
  {
   "cell_type": "code",
   "execution_count": 294,
   "metadata": {
    "collapsed": false
   },
   "outputs": [
    {
     "name": "stdout",
     "output_type": "stream",
     "text": [
      "<class 'pandas.core.frame.DataFrame'>\n",
      "Int64Index: 49429072 entries, 0 to 49429071\n",
      "Data columns (total 8 columns):\n",
      "WBAN                int64\n",
      "Date                int64\n",
      "Time                int64\n",
      "SkyCondition        object\n",
      "DryBulbFarenheit    object\n",
      "RelativeHumidity    object\n",
      "WindSpeed           object\n",
      "HourlyPrecip        object\n",
      "dtypes: int64(3), object(5)\n",
      "memory usage: 3.3+ GB\n"
     ]
    }
   ],
   "source": [
    "weather.info()"
   ]
  },
  {
   "cell_type": "code",
   "execution_count": 295,
   "metadata": {
    "collapsed": false
   },
   "outputs": [
    {
     "data": {
      "text/plain": [
       "21823032"
      ]
     },
     "execution_count": 295,
     "metadata": {},
     "output_type": "execute_result"
    }
   ],
   "source": [
    "len(weather.index[weather.RelativeHumidity=='M'])"
   ]
  },
  {
   "cell_type": "code",
   "execution_count": 296,
   "metadata": {
    "collapsed": false
   },
   "outputs": [
    {
     "data": {
      "text/html": [
       "<div style=\"max-height:1000px;max-width:1500px;overflow:auto;\">\n",
       "<table border=\"1\" class=\"dataframe\">\n",
       "  <thead>\n",
       "    <tr style=\"text-align: right;\">\n",
       "      <th></th>\n",
       "      <th>WBAN</th>\n",
       "      <th>Date</th>\n",
       "      <th>Time</th>\n",
       "      <th>SkyCondition</th>\n",
       "      <th>DryBulbFarenheit</th>\n",
       "      <th>RelativeHumidity</th>\n",
       "      <th>WindSpeed</th>\n",
       "      <th>HourlyPrecip</th>\n",
       "    </tr>\n",
       "  </thead>\n",
       "  <tbody>\n",
       "    <tr>\n",
       "      <th>0</th>\n",
       "      <td>3011</td>\n",
       "      <td>20130101</td>\n",
       "      <td>0</td>\n",
       "      <td>OVC</td>\n",
       "      <td>M</td>\n",
       "      <td>M</td>\n",
       "      <td>5</td>\n",
       "      <td></td>\n",
       "    </tr>\n",
       "    <tr>\n",
       "      <th>1</th>\n",
       "      <td>3011</td>\n",
       "      <td>20130101</td>\n",
       "      <td>15</td>\n",
       "      <td>SCT011 SCT020</td>\n",
       "      <td>M</td>\n",
       "      <td>M</td>\n",
       "      <td>6</td>\n",
       "      <td></td>\n",
       "    </tr>\n",
       "    <tr>\n",
       "      <th>2</th>\n",
       "      <td>3011</td>\n",
       "      <td>20130101</td>\n",
       "      <td>35</td>\n",
       "      <td>CLR</td>\n",
       "      <td>M</td>\n",
       "      <td>M</td>\n",
       "      <td>6</td>\n",
       "      <td></td>\n",
       "    </tr>\n",
       "    <tr>\n",
       "      <th>3</th>\n",
       "      <td>3011</td>\n",
       "      <td>20130101</td>\n",
       "      <td>55</td>\n",
       "      <td>CLR</td>\n",
       "      <td>M</td>\n",
       "      <td>M</td>\n",
       "      <td>5</td>\n",
       "      <td></td>\n",
       "    </tr>\n",
       "    <tr>\n",
       "      <th>4</th>\n",
       "      <td>3011</td>\n",
       "      <td>20130101</td>\n",
       "      <td>115</td>\n",
       "      <td>CLR</td>\n",
       "      <td>M</td>\n",
       "      <td>M</td>\n",
       "      <td>0</td>\n",
       "      <td></td>\n",
       "    </tr>\n",
       "  </tbody>\n",
       "</table>\n",
       "</div>"
      ],
      "text/plain": [
       "   WBAN      Date  Time   SkyCondition DryBulbFarenheit RelativeHumidity  \\\n",
       "0  3011  20130101     0            OVC                M                M   \n",
       "1  3011  20130101    15  SCT011 SCT020                M                M   \n",
       "2  3011  20130101    35            CLR                M                M   \n",
       "3  3011  20130101    55            CLR                M                M   \n",
       "4  3011  20130101   115            CLR                M                M   \n",
       "\n",
       "  WindSpeed HourlyPrecip  \n",
       "0         5               \n",
       "1         6               \n",
       "2         6               \n",
       "3         5               \n",
       "4         0               "
      ]
     },
     "execution_count": 296,
     "metadata": {},
     "output_type": "execute_result"
    }
   ],
   "source": [
    "weather.head()"
   ]
  },
  {
   "cell_type": "code",
   "execution_count": 297,
   "metadata": {
    "collapsed": true
   },
   "outputs": [],
   "source": [
    "tweets = pd.read_csv('/Users/damoncrockett/Dropbox/TwitterPaper/data/twitter/US_HSV_modes_top60_cities_wban.csv')"
   ]
  },
  {
   "cell_type": "code",
   "execution_count": 298,
   "metadata": {
    "collapsed": false
   },
   "outputs": [
    {
     "name": "stdout",
     "output_type": "stream",
     "text": [
      "<class 'pandas.core.frame.DataFrame'>\n",
      "Int64Index: 7971556 entries, 0 to 7971555\n",
      "Data columns (total 22 columns):\n",
      "image.path    object\n",
      "filename      object\n",
      "img_url       object\n",
      "size_h        int64\n",
      "size_w        int64\n",
      "lat           float64\n",
      "lon           float64\n",
      "postedTime    object\n",
      "mongo_id      object\n",
      "location      object\n",
      "R.mode        int64\n",
      "G.mode        int64\n",
      "B.mode        int64\n",
      "R.entropy     float64\n",
      "G.entropy     float64\n",
      "B.entropy     float64\n",
      "city          object\n",
      "H.mode        int64\n",
      "S.mode        int64\n",
      "V.mode        int64\n",
      "hour          int64\n",
      "WBAN          int64\n",
      "dtypes: float64(5), int64(10), object(7)\n",
      "memory usage: 1.4+ GB\n"
     ]
    }
   ],
   "source": [
    "tweets.info()"
   ]
  },
  {
   "cell_type": "code",
   "execution_count": 299,
   "metadata": {
    "collapsed": false
   },
   "outputs": [
    {
     "data": {
      "text/plain": [
       "7588558"
      ]
     },
     "execution_count": 299,
     "metadata": {},
     "output_type": "execute_result"
    }
   ],
   "source": [
    "len(tweets.img_url.value_counts())"
   ]
  },
  {
   "cell_type": "code",
   "execution_count": 300,
   "metadata": {
    "collapsed": true
   },
   "outputs": [],
   "source": [
    "tweets.drop_duplicates(subset ='img_url', inplace=True)"
   ]
  },
  {
   "cell_type": "code",
   "execution_count": 301,
   "metadata": {
    "collapsed": false
   },
   "outputs": [
    {
     "name": "stdout",
     "output_type": "stream",
     "text": [
      "<class 'pandas.core.frame.DataFrame'>\n",
      "Int64Index: 7588558 entries, 0 to 7971555\n",
      "Data columns (total 22 columns):\n",
      "image.path    object\n",
      "filename      object\n",
      "img_url       object\n",
      "size_h        int64\n",
      "size_w        int64\n",
      "lat           float64\n",
      "lon           float64\n",
      "postedTime    object\n",
      "mongo_id      object\n",
      "location      object\n",
      "R.mode        int64\n",
      "G.mode        int64\n",
      "B.mode        int64\n",
      "R.entropy     float64\n",
      "G.entropy     float64\n",
      "B.entropy     float64\n",
      "city          object\n",
      "H.mode        int64\n",
      "S.mode        int64\n",
      "V.mode        int64\n",
      "hour          int64\n",
      "WBAN          int64\n",
      "dtypes: float64(5), int64(10), object(7)\n",
      "memory usage: 1.3+ GB\n"
     ]
    }
   ],
   "source": [
    "tweets.info()"
   ]
  },
  {
   "cell_type": "code",
   "execution_count": 302,
   "metadata": {
    "collapsed": true
   },
   "outputs": [],
   "source": [
    "tweets.reset_index(drop=True,inplace=True)"
   ]
  },
  {
   "cell_type": "code",
   "execution_count": 303,
   "metadata": {
    "collapsed": false
   },
   "outputs": [],
   "source": [
    "tweet_wbans = list(set(list(tweets.WBAN)))"
   ]
  },
  {
   "cell_type": "code",
   "execution_count": 304,
   "metadata": {
    "collapsed": false
   },
   "outputs": [
    {
     "data": {
      "text/plain": [
       "140"
      ]
     },
     "execution_count": 304,
     "metadata": {},
     "output_type": "execute_result"
    }
   ],
   "source": [
    "len(tweet_wbans)"
   ]
  },
  {
   "cell_type": "code",
   "execution_count": 305,
   "metadata": {
    "collapsed": false
   },
   "outputs": [
    {
     "data": {
      "text/plain": [
       "140"
      ]
     },
     "execution_count": 305,
     "metadata": {},
     "output_type": "execute_result"
    }
   ],
   "source": [
    "len(tweets.WBAN.value_counts())"
   ]
  },
  {
   "cell_type": "code",
   "execution_count": 306,
   "metadata": {
    "collapsed": false
   },
   "outputs": [],
   "source": [
    "weather_subset = weather[weather.WBAN.isin(tweet_wbans)]"
   ]
  },
  {
   "cell_type": "code",
   "execution_count": 307,
   "metadata": {
    "collapsed": false
   },
   "outputs": [
    {
     "data": {
      "text/plain": [
       "133"
      ]
     },
     "execution_count": 307,
     "metadata": {},
     "output_type": "execute_result"
    }
   ],
   "source": [
    "len(weather_subset.WBAN.value_counts())"
   ]
  },
  {
   "cell_type": "code",
   "execution_count": 308,
   "metadata": {
    "collapsed": true
   },
   "outputs": [],
   "source": [
    "weather_subset_wbans = list(set(list(weather_subset.WBAN)))"
   ]
  },
  {
   "cell_type": "code",
   "execution_count": 309,
   "metadata": {
    "collapsed": false
   },
   "outputs": [
    {
     "data": {
      "text/plain": [
       "133"
      ]
     },
     "execution_count": 309,
     "metadata": {},
     "output_type": "execute_result"
    }
   ],
   "source": [
    "len(weather_subset_wbans)"
   ]
  },
  {
   "cell_type": "code",
   "execution_count": 310,
   "metadata": {
    "collapsed": false
   },
   "outputs": [],
   "source": [
    "missing_wbans = list(set(tweet_wbans) - set(weather_subset_wbans))"
   ]
  },
  {
   "cell_type": "code",
   "execution_count": 311,
   "metadata": {
    "collapsed": false
   },
   "outputs": [
    {
     "data": {
      "text/plain": [
       "[53894, 23271, 13777, 93901, 12945, 12946, 3929]"
      ]
     },
     "execution_count": 311,
     "metadata": {},
     "output_type": "execute_result"
    }
   ],
   "source": [
    "missing_wbans"
   ]
  },
  {
   "cell_type": "code",
   "execution_count": 312,
   "metadata": {
    "collapsed": false
   },
   "outputs": [],
   "source": [
    "tweets_without_weather = tweets[['city','lat','lon','filename']][tweets.WBAN.isin(missing_wbans)]"
   ]
  },
  {
   "cell_type": "code",
   "execution_count": 313,
   "metadata": {
    "collapsed": false
   },
   "outputs": [
    {
     "data": {
      "text/plain": [
       "238381"
      ]
     },
     "execution_count": 313,
     "metadata": {},
     "output_type": "execute_result"
    }
   ],
   "source": [
    "len(tweets_without_weather.index)"
   ]
  },
  {
   "cell_type": "code",
   "execution_count": 314,
   "metadata": {
    "collapsed": false
   },
   "outputs": [
    {
     "data": {
      "text/plain": [
       "houston           105534\n",
       "baltimore          31843\n",
       "sacramento         27387\n",
       "kansas city        26918\n",
       "dallas             23470\n",
       "corpus christi     16223\n",
       "jacksonville        7006\n",
       "dtype: int64"
      ]
     },
     "execution_count": 314,
     "metadata": {},
     "output_type": "execute_result"
    }
   ],
   "source": [
    "tweets_without_weather.city.value_counts()"
   ]
  },
  {
   "cell_type": "code",
   "execution_count": 315,
   "metadata": {
    "collapsed": true
   },
   "outputs": [],
   "source": [
    "wban_table = pd.read_table('/Users/damoncrockett/Dropbox/CALIT2DATA/weather/rawData/QCLCD201301/201301station.txt',\n",
    "                          sep='|')"
   ]
  },
  {
   "cell_type": "code",
   "execution_count": 316,
   "metadata": {
    "collapsed": false
   },
   "outputs": [],
   "source": [
    "houston = wban_table[wban_table.Name.str.contains('HOUSTON')]\n",
    "baltimore = wban_table[wban_table.Name.str.contains('BALTIMORE')]\n",
    "sacramento = wban_table[wban_table.Name.str.contains('SACRAMENTO')]\n",
    "kansas_city = wban_table[wban_table.Name.str.contains('KANSAS CITY')]\n",
    "dallas = wban_table[wban_table.Name.str.contains('DALLAS')]\n",
    "corpus_christi = wban_table[wban_table.Name.str.contains('CORPUS CHRISTI')]\n",
    "jacksonville = wban_table[wban_table.Name.str.contains('JACKSONVILLE')]"
   ]
  },
  {
   "cell_type": "code",
   "execution_count": 317,
   "metadata": {
    "collapsed": true
   },
   "outputs": [],
   "source": [
    "weather_wbans = list(set(list(weather.WBAN)))"
   ]
  },
  {
   "cell_type": "code",
   "execution_count": 318,
   "metadata": {
    "collapsed": true
   },
   "outputs": [],
   "source": [
    "houston = houston[houston.WBAN.isin(weather_wbans)]\n",
    "baltimore = baltimore[baltimore.WBAN.isin(weather_wbans)]\n",
    "sacramento = sacramento[sacramento.WBAN.isin(weather_wbans)]\n",
    "kansas_city = kansas_city[kansas_city.WBAN.isin(weather_wbans)]\n",
    "dallas = dallas[dallas.WBAN.isin(weather_wbans)]\n",
    "corpus_christi = corpus_christi[corpus_christi.WBAN.isin(weather_wbans)]\n",
    "jacksonville = jacksonville[jacksonville.WBAN.isin(weather_wbans)]"
   ]
  },
  {
   "cell_type": "code",
   "execution_count": 319,
   "metadata": {
    "collapsed": true
   },
   "outputs": [],
   "source": [
    "houston = houston[['WBAN','Latitude','Longitude']]\n",
    "baltimore = baltimore[['WBAN','Latitude','Longitude']]\n",
    "sacramento = sacramento[['WBAN','Latitude','Longitude']]\n",
    "kansas_city = kansas_city[['WBAN','Latitude','Longitude']]\n",
    "dallas = dallas[['WBAN','Latitude','Longitude']]\n",
    "corpus_christi = corpus_christi[['WBAN','Latitude','Longitude']]\n",
    "jacksonville = jacksonville[['WBAN','Latitude','Longitude']]"
   ]
  },
  {
   "cell_type": "code",
   "execution_count": 320,
   "metadata": {
    "collapsed": false
   },
   "outputs": [],
   "source": [
    "frames = [houston,baltimore,sacramento,kansas_city,dallas,corpus_christi,jacksonville]\n",
    "alternate_weather_stations = pd.concat(frames)"
   ]
  },
  {
   "cell_type": "code",
   "execution_count": 321,
   "metadata": {
    "collapsed": true
   },
   "outputs": [],
   "source": [
    "from shapely.geometry import Point\n",
    "import shapely"
   ]
  },
  {
   "cell_type": "code",
   "execution_count": 322,
   "metadata": {
    "collapsed": false
   },
   "outputs": [],
   "source": [
    "alternate_weather_station_wbans = list(alternate_weather_stations.WBAN)\n",
    "alternate_weather_station_points = []\n",
    "m = len(alternate_weather_stations.index)\n",
    "alternate_weather_stations.reset_index(drop=True,inplace=True)\n",
    "for j in range(m):\n",
    "    station_point = Point(alternate_weather_stations.Longitude.loc[j],\n",
    "                          alternate_weather_stations.Latitude.loc[j])\n",
    "    alternate_weather_station_points.append(station_point)"
   ]
  },
  {
   "cell_type": "code",
   "execution_count": 323,
   "metadata": {
    "collapsed": false
   },
   "outputs": [],
   "source": [
    "alt_wban = []\n",
    "n = len(tweets_without_weather.index)\n",
    "tweets_without_weather.reset_index(drop=True,inplace=True)\n",
    "for i in range(n):\n",
    "    tweet_point = Point(tweets_without_weather.lon.loc[i],tweets_without_weather.lat.loc[i])\n",
    "    closest_station_point = min(alternate_weather_station_points,key=lambda x:x.distance(tweet_point))\n",
    "    closest_station_point_idx = alternate_weather_station_points.index(closest_station_point)\n",
    "    closest_station_wban = alternate_weather_station_wbans[closest_station_point_idx]\n",
    "    alt_wban.append(closest_station_wban)\n",
    "tweets_without_weather['alt_wban'] = alt_wban"
   ]
  },
  {
   "cell_type": "code",
   "execution_count": 324,
   "metadata": {
    "collapsed": false
   },
   "outputs": [],
   "source": [
    "tweets_without_weather = tweets_without_weather[['filename','alt_wban']]"
   ]
  },
  {
   "cell_type": "code",
   "execution_count": 325,
   "metadata": {
    "collapsed": true
   },
   "outputs": [],
   "source": [
    "tweets_without_weather.set_index('filename',inplace=True)"
   ]
  },
  {
   "cell_type": "code",
   "execution_count": 326,
   "metadata": {
    "collapsed": true
   },
   "outputs": [],
   "source": [
    "tweets = tweets.join(tweets_without_weather,on='filename')"
   ]
  },
  {
   "cell_type": "code",
   "execution_count": 327,
   "metadata": {
    "collapsed": false
   },
   "outputs": [
    {
     "data": {
      "text/plain": [
       "7588558"
      ]
     },
     "execution_count": 327,
     "metadata": {},
     "output_type": "execute_result"
    }
   ],
   "source": [
    "len(tweets.index)"
   ]
  },
  {
   "cell_type": "code",
   "execution_count": 328,
   "metadata": {
    "collapsed": false
   },
   "outputs": [
    {
     "data": {
      "text/plain": [
       "7588558"
      ]
     },
     "execution_count": 328,
     "metadata": {},
     "output_type": "execute_result"
    }
   ],
   "source": [
    "len(tweets.filename.value_counts())"
   ]
  },
  {
   "cell_type": "markdown",
   "metadata": {
    "collapsed": true
   },
   "source": [
    "####Okay now we can re-subset our weather data"
   ]
  },
  {
   "cell_type": "code",
   "execution_count": 329,
   "metadata": {
    "collapsed": true
   },
   "outputs": [],
   "source": [
    "tweet_wbans = list(tweets.WBAN)"
   ]
  },
  {
   "cell_type": "code",
   "execution_count": 330,
   "metadata": {
    "collapsed": false
   },
   "outputs": [],
   "source": [
    "tweet_alt_wbans = list(tweets.alt_wban[tweets.alt_wban.notnull()])"
   ]
  },
  {
   "cell_type": "code",
   "execution_count": 331,
   "metadata": {
    "collapsed": true
   },
   "outputs": [],
   "source": [
    "tweet_wbans = list(set(tweet_wbans + tweet_alt_wbans))"
   ]
  },
  {
   "cell_type": "code",
   "execution_count": 332,
   "metadata": {
    "collapsed": false
   },
   "outputs": [
    {
     "data": {
      "text/plain": [
       "141"
      ]
     },
     "execution_count": 332,
     "metadata": {},
     "output_type": "execute_result"
    }
   ],
   "source": [
    "len(tweet_wbans)"
   ]
  },
  {
   "cell_type": "code",
   "execution_count": 333,
   "metadata": {
    "collapsed": true
   },
   "outputs": [],
   "source": [
    "weather_subset = weather[weather.WBAN.isin(tweet_wbans)]"
   ]
  },
  {
   "cell_type": "code",
   "execution_count": 334,
   "metadata": {
    "collapsed": false
   },
   "outputs": [
    {
     "data": {
      "text/plain": [
       "134"
      ]
     },
     "execution_count": 334,
     "metadata": {},
     "output_type": "execute_result"
    }
   ],
   "source": [
    "len(weather_subset.WBAN.value_counts())"
   ]
  },
  {
   "cell_type": "markdown",
   "metadata": {},
   "source": [
    "Okay this looks wrong, but it's actually what we should expect: there are 141 total WBANs in the tweet data, and only 134 in the weather. That's because we still have the 7 WBANs in the tweet data that are missing from the weather data. But that's okay. We'll join weather on WBAN and then on alt_wban (which we'll have to rename for the purposes of the join), and every row should have weather."
   ]
  },
  {
   "cell_type": "markdown",
   "metadata": {},
   "source": [
    "####Back to the weather data"
   ]
  },
  {
   "cell_type": "markdown",
   "metadata": {},
   "source": [
    "Okay we need to make date and time into strings, zero fill the times to 4 digits, combine the strings, and then run a datetime operation on them. Easy peasy in python:"
   ]
  },
  {
   "cell_type": "code",
   "execution_count": 335,
   "metadata": {
    "collapsed": true
   },
   "outputs": [],
   "source": [
    "# first we'll reassign 'weather' to our subset\n",
    "\n",
    "weather = weather_subset"
   ]
  },
  {
   "cell_type": "code",
   "execution_count": 336,
   "metadata": {
    "collapsed": false
   },
   "outputs": [],
   "source": [
    "# make datetime objects\n",
    "\n",
    "weather['Date'] = weather.Date.apply(str)\n",
    "weather['Time'] = weather.Time.apply(str)\n",
    "weather['Time'] = weather.Time.map(lambda x: x.zfill(4))\n",
    "\n",
    "# we call these 'resolution' because we will resolve to these datetime values\n",
    "weather['resolution'] = weather.Date + weather.Time\n",
    "weather['resolution'] = weather.resolution.map(lambda x: datetime.datetime.strptime(x, '%Y%m%d%H%M'))"
   ]
  },
  {
   "cell_type": "code",
   "execution_count": 337,
   "metadata": {
    "collapsed": false
   },
   "outputs": [
    {
     "data": {
      "text/html": [
       "<div style=\"max-height:1000px;max-width:1500px;overflow:auto;\">\n",
       "<table border=\"1\" class=\"dataframe\">\n",
       "  <thead>\n",
       "    <tr style=\"text-align: right;\">\n",
       "      <th></th>\n",
       "      <th>WBAN</th>\n",
       "      <th>Date</th>\n",
       "      <th>Time</th>\n",
       "      <th>SkyCondition</th>\n",
       "      <th>DryBulbFarenheit</th>\n",
       "      <th>RelativeHumidity</th>\n",
       "      <th>WindSpeed</th>\n",
       "      <th>HourlyPrecip</th>\n",
       "      <th>resolution</th>\n",
       "    </tr>\n",
       "  </thead>\n",
       "  <tbody>\n",
       "    <tr>\n",
       "      <th>6304</th>\n",
       "      <td>3017</td>\n",
       "      <td>20130101</td>\n",
       "      <td>0053</td>\n",
       "      <td>FEW036 SCT140</td>\n",
       "      <td>11</td>\n",
       "      <td>77</td>\n",
       "      <td>8</td>\n",
       "      <td></td>\n",
       "      <td>2013-01-01 00:53:00</td>\n",
       "    </tr>\n",
       "    <tr>\n",
       "      <th>6305</th>\n",
       "      <td>3017</td>\n",
       "      <td>20130101</td>\n",
       "      <td>0153</td>\n",
       "      <td>FEW036 SCT140</td>\n",
       "      <td>11</td>\n",
       "      <td>77</td>\n",
       "      <td>5</td>\n",
       "      <td></td>\n",
       "      <td>2013-01-01 01:53:00</td>\n",
       "    </tr>\n",
       "    <tr>\n",
       "      <th>6306</th>\n",
       "      <td>3017</td>\n",
       "      <td>20130101</td>\n",
       "      <td>0253</td>\n",
       "      <td>SCT140</td>\n",
       "      <td>7</td>\n",
       "      <td>76</td>\n",
       "      <td>0</td>\n",
       "      <td></td>\n",
       "      <td>2013-01-01 02:53:00</td>\n",
       "    </tr>\n",
       "    <tr>\n",
       "      <th>6307</th>\n",
       "      <td>3017</td>\n",
       "      <td>20130101</td>\n",
       "      <td>0353</td>\n",
       "      <td>BKN065</td>\n",
       "      <td>12</td>\n",
       "      <td>73</td>\n",
       "      <td>5</td>\n",
       "      <td></td>\n",
       "      <td>2013-01-01 03:53:00</td>\n",
       "    </tr>\n",
       "    <tr>\n",
       "      <th>6308</th>\n",
       "      <td>3017</td>\n",
       "      <td>20130101</td>\n",
       "      <td>0453</td>\n",
       "      <td>BKN050</td>\n",
       "      <td>10</td>\n",
       "      <td>76</td>\n",
       "      <td>7</td>\n",
       "      <td></td>\n",
       "      <td>2013-01-01 04:53:00</td>\n",
       "    </tr>\n",
       "  </tbody>\n",
       "</table>\n",
       "</div>"
      ],
      "text/plain": [
       "      WBAN      Date  Time   SkyCondition DryBulbFarenheit RelativeHumidity  \\\n",
       "6304  3017  20130101  0053  FEW036 SCT140               11               77   \n",
       "6305  3017  20130101  0153  FEW036 SCT140               11               77   \n",
       "6306  3017  20130101  0253         SCT140                7               76   \n",
       "6307  3017  20130101  0353         BKN065               12               73   \n",
       "6308  3017  20130101  0453         BKN050               10               76   \n",
       "\n",
       "     WindSpeed HourlyPrecip          resolution  \n",
       "6304         8              2013-01-01 00:53:00  \n",
       "6305         5              2013-01-01 01:53:00  \n",
       "6306         0              2013-01-01 02:53:00  \n",
       "6307         5              2013-01-01 03:53:00  \n",
       "6308         7              2013-01-01 04:53:00  "
      ]
     },
     "execution_count": 337,
     "metadata": {},
     "output_type": "execute_result"
    }
   ],
   "source": [
    "weather.head()"
   ]
  },
  {
   "cell_type": "markdown",
   "metadata": {},
   "source": [
    "Great. Now we can delete the original columns."
   ]
  },
  {
   "cell_type": "code",
   "execution_count": 338,
   "metadata": {
    "collapsed": false
   },
   "outputs": [],
   "source": [
    "del weather['Date']\n",
    "del weather['Time']"
   ]
  },
  {
   "cell_type": "code",
   "execution_count": 339,
   "metadata": {
    "collapsed": false
   },
   "outputs": [
    {
     "data": {
      "text/html": [
       "<div style=\"max-height:1000px;max-width:1500px;overflow:auto;\">\n",
       "<table border=\"1\" class=\"dataframe\">\n",
       "  <thead>\n",
       "    <tr style=\"text-align: right;\">\n",
       "      <th></th>\n",
       "      <th>WBAN</th>\n",
       "      <th>SkyCondition</th>\n",
       "      <th>DryBulbFarenheit</th>\n",
       "      <th>RelativeHumidity</th>\n",
       "      <th>WindSpeed</th>\n",
       "      <th>HourlyPrecip</th>\n",
       "      <th>resolution</th>\n",
       "    </tr>\n",
       "  </thead>\n",
       "  <tbody>\n",
       "    <tr>\n",
       "      <th>49377444</th>\n",
       "      <td>94974</td>\n",
       "      <td>CLR110</td>\n",
       "      <td>-11</td>\n",
       "      <td>M</td>\n",
       "      <td>3</td>\n",
       "      <td></td>\n",
       "      <td>2013-12-31 22:34:00</td>\n",
       "    </tr>\n",
       "    <tr>\n",
       "      <th>49377445</th>\n",
       "      <td>94974</td>\n",
       "      <td>CLR110</td>\n",
       "      <td>-9</td>\n",
       "      <td>M</td>\n",
       "      <td>5</td>\n",
       "      <td></td>\n",
       "      <td>2013-12-31 22:54:00</td>\n",
       "    </tr>\n",
       "    <tr>\n",
       "      <th>49377446</th>\n",
       "      <td>94974</td>\n",
       "      <td>CLR110</td>\n",
       "      <td>-9</td>\n",
       "      <td>M</td>\n",
       "      <td>5</td>\n",
       "      <td></td>\n",
       "      <td>2013-12-31 23:14:00</td>\n",
       "    </tr>\n",
       "    <tr>\n",
       "      <th>49377447</th>\n",
       "      <td>94974</td>\n",
       "      <td>CLR110</td>\n",
       "      <td>-9</td>\n",
       "      <td>M</td>\n",
       "      <td>3</td>\n",
       "      <td></td>\n",
       "      <td>2013-12-31 23:34:00</td>\n",
       "    </tr>\n",
       "    <tr>\n",
       "      <th>49377448</th>\n",
       "      <td>94974</td>\n",
       "      <td>BKN090 OVC110</td>\n",
       "      <td>-9</td>\n",
       "      <td>67</td>\n",
       "      <td>5</td>\n",
       "      <td></td>\n",
       "      <td>2013-12-31 23:54:00</td>\n",
       "    </tr>\n",
       "  </tbody>\n",
       "</table>\n",
       "</div>"
      ],
      "text/plain": [
       "           WBAN   SkyCondition DryBulbFarenheit RelativeHumidity WindSpeed  \\\n",
       "49377444  94974         CLR110              -11                M         3   \n",
       "49377445  94974         CLR110               -9                M         5   \n",
       "49377446  94974         CLR110               -9                M         5   \n",
       "49377447  94974         CLR110               -9                M         3   \n",
       "49377448  94974  BKN090 OVC110               -9               67         5   \n",
       "\n",
       "         HourlyPrecip          resolution  \n",
       "49377444              2013-12-31 22:34:00  \n",
       "49377445              2013-12-31 22:54:00  \n",
       "49377446              2013-12-31 23:14:00  \n",
       "49377447              2013-12-31 23:34:00  \n",
       "49377448              2013-12-31 23:54:00  "
      ]
     },
     "execution_count": 339,
     "metadata": {},
     "output_type": "execute_result"
    }
   ],
   "source": [
    "weather.tail()"
   ]
  },
  {
   "cell_type": "code",
   "execution_count": 340,
   "metadata": {
    "collapsed": false
   },
   "outputs": [],
   "source": [
    "weather.reset_index(drop=True,inplace=True)"
   ]
  },
  {
   "cell_type": "markdown",
   "metadata": {},
   "source": [
    "## sky variable"
   ]
  },
  {
   "cell_type": "markdown",
   "metadata": {},
   "source": [
    "Our sky variable has linear information (both in fraction of sky covered and height of cloud layer(s)), and we should preserve at least some of it, as we should expect that some linear relationship exists between the fraction of sky covered and what the sky looks like, at least."
   ]
  },
  {
   "cell_type": "code",
   "execution_count": 341,
   "metadata": {
    "collapsed": false
   },
   "outputs": [],
   "source": [
    "# sky is reported in layers, min = 1 and max = 3; break those out\n",
    "\n",
    "sky = pd.DataFrame(weather.SkyCondition.str.split(' ',2).tolist(),\n",
    "                       columns = ['sky1','sky2','sky3'])"
   ]
  },
  {
   "cell_type": "code",
   "execution_count": 342,
   "metadata": {
    "collapsed": false
   },
   "outputs": [
    {
     "data": {
      "text/html": [
       "<div style=\"max-height:1000px;max-width:1500px;overflow:auto;\">\n",
       "<table border=\"1\" class=\"dataframe\">\n",
       "  <thead>\n",
       "    <tr style=\"text-align: right;\">\n",
       "      <th></th>\n",
       "      <th>sky1</th>\n",
       "      <th>sky2</th>\n",
       "      <th>sky3</th>\n",
       "    </tr>\n",
       "  </thead>\n",
       "  <tbody>\n",
       "    <tr>\n",
       "      <th>0</th>\n",
       "      <td>FEW036</td>\n",
       "      <td>SCT140</td>\n",
       "      <td>None</td>\n",
       "    </tr>\n",
       "    <tr>\n",
       "      <th>1</th>\n",
       "      <td>FEW036</td>\n",
       "      <td>SCT140</td>\n",
       "      <td>None</td>\n",
       "    </tr>\n",
       "    <tr>\n",
       "      <th>2</th>\n",
       "      <td>SCT140</td>\n",
       "      <td>None</td>\n",
       "      <td>None</td>\n",
       "    </tr>\n",
       "    <tr>\n",
       "      <th>3</th>\n",
       "      <td>BKN065</td>\n",
       "      <td>None</td>\n",
       "      <td>None</td>\n",
       "    </tr>\n",
       "    <tr>\n",
       "      <th>4</th>\n",
       "      <td>BKN050</td>\n",
       "      <td>None</td>\n",
       "      <td>None</td>\n",
       "    </tr>\n",
       "    <tr>\n",
       "      <th>5</th>\n",
       "      <td>FEW050</td>\n",
       "      <td>BKN140</td>\n",
       "      <td>None</td>\n",
       "    </tr>\n",
       "    <tr>\n",
       "      <th>6</th>\n",
       "      <td>BKN140</td>\n",
       "      <td>None</td>\n",
       "      <td>None</td>\n",
       "    </tr>\n",
       "    <tr>\n",
       "      <th>7</th>\n",
       "      <td>FEW050</td>\n",
       "      <td>BKN150</td>\n",
       "      <td>None</td>\n",
       "    </tr>\n",
       "    <tr>\n",
       "      <th>8</th>\n",
       "      <td>FEW050</td>\n",
       "      <td>SCT120</td>\n",
       "      <td>BKN160</td>\n",
       "    </tr>\n",
       "    <tr>\n",
       "      <th>9</th>\n",
       "      <td>SCT049</td>\n",
       "      <td>BKN140</td>\n",
       "      <td>None</td>\n",
       "    </tr>\n",
       "    <tr>\n",
       "      <th>10</th>\n",
       "      <td>SCT050</td>\n",
       "      <td>BKN140</td>\n",
       "      <td>BKN200</td>\n",
       "    </tr>\n",
       "    <tr>\n",
       "      <th>11</th>\n",
       "      <td>FEW050</td>\n",
       "      <td>SCT120</td>\n",
       "      <td>BKN200</td>\n",
       "    </tr>\n",
       "    <tr>\n",
       "      <th>12</th>\n",
       "      <td>FEW060</td>\n",
       "      <td>SCT220</td>\n",
       "      <td>None</td>\n",
       "    </tr>\n",
       "    <tr>\n",
       "      <th>13</th>\n",
       "      <td>FEW070</td>\n",
       "      <td>SCT220</td>\n",
       "      <td>None</td>\n",
       "    </tr>\n",
       "    <tr>\n",
       "      <th>14</th>\n",
       "      <td>FEW070</td>\n",
       "      <td>None</td>\n",
       "      <td>None</td>\n",
       "    </tr>\n",
       "  </tbody>\n",
       "</table>\n",
       "</div>"
      ],
      "text/plain": [
       "      sky1    sky2    sky3\n",
       "0   FEW036  SCT140    None\n",
       "1   FEW036  SCT140    None\n",
       "2   SCT140    None    None\n",
       "3   BKN065    None    None\n",
       "4   BKN050    None    None\n",
       "5   FEW050  BKN140    None\n",
       "6   BKN140    None    None\n",
       "7   FEW050  BKN150    None\n",
       "8   FEW050  SCT120  BKN160\n",
       "9   SCT049  BKN140    None\n",
       "10  SCT050  BKN140  BKN200\n",
       "11  FEW050  SCT120  BKN200\n",
       "12  FEW060  SCT220    None\n",
       "13  FEW070  SCT220    None\n",
       "14  FEW070    None    None"
      ]
     },
     "execution_count": 342,
     "metadata": {},
     "output_type": "execute_result"
    }
   ],
   "source": [
    "sky.head(15)"
   ]
  },
  {
   "cell_type": "code",
   "execution_count": 343,
   "metadata": {
    "collapsed": false
   },
   "outputs": [],
   "source": [
    "del weather['SkyCondition']"
   ]
  },
  {
   "cell_type": "code",
   "execution_count": 344,
   "metadata": {
    "collapsed": false
   },
   "outputs": [],
   "source": [
    "# add results of split back to the weather df\n",
    "\n",
    "weather['sky1'] = sky.sky1\n",
    "weather['sky2'] = sky.sky2\n",
    "weather['sky3'] = sky.sky3"
   ]
  },
  {
   "cell_type": "code",
   "execution_count": 345,
   "metadata": {
    "collapsed": false
   },
   "outputs": [],
   "source": [
    "# make sure all weather values are strings\n",
    "\n",
    "weather.sky1 = weather.sky1.map(lambda x: str(x))\n",
    "weather.sky2 = weather.sky2.map(lambda x: str(x))\n",
    "weather.sky3 = weather.sky3.map(lambda x: str(x))"
   ]
  },
  {
   "cell_type": "code",
   "execution_count": 346,
   "metadata": {
    "collapsed": false
   },
   "outputs": [],
   "source": [
    "# remove all missing data labeled 'M'\n",
    "\n",
    "weather = weather[weather.sky1 != 'M']"
   ]
  },
  {
   "cell_type": "code",
   "execution_count": 347,
   "metadata": {
    "collapsed": false
   },
   "outputs": [],
   "source": [
    "# reset index again\n",
    "\n",
    "weather.reset_index(drop=True,inplace=True)"
   ]
  },
  {
   "cell_type": "code",
   "execution_count": 348,
   "metadata": {
    "collapsed": false
   },
   "outputs": [
    {
     "data": {
      "text/html": [
       "<div style=\"max-height:1000px;max-width:1500px;overflow:auto;\">\n",
       "<table border=\"1\" class=\"dataframe\">\n",
       "  <thead>\n",
       "    <tr style=\"text-align: right;\">\n",
       "      <th></th>\n",
       "      <th>WBAN</th>\n",
       "      <th>DryBulbFarenheit</th>\n",
       "      <th>RelativeHumidity</th>\n",
       "      <th>WindSpeed</th>\n",
       "      <th>HourlyPrecip</th>\n",
       "      <th>resolution</th>\n",
       "      <th>sky1</th>\n",
       "      <th>sky2</th>\n",
       "      <th>sky3</th>\n",
       "    </tr>\n",
       "  </thead>\n",
       "  <tbody>\n",
       "    <tr>\n",
       "      <th>0</th>\n",
       "      <td>3017</td>\n",
       "      <td>11</td>\n",
       "      <td>77</td>\n",
       "      <td>8</td>\n",
       "      <td></td>\n",
       "      <td>2013-01-01 00:53:00</td>\n",
       "      <td>FEW036</td>\n",
       "      <td>SCT140</td>\n",
       "      <td>None</td>\n",
       "    </tr>\n",
       "    <tr>\n",
       "      <th>1</th>\n",
       "      <td>3017</td>\n",
       "      <td>11</td>\n",
       "      <td>77</td>\n",
       "      <td>5</td>\n",
       "      <td></td>\n",
       "      <td>2013-01-01 01:53:00</td>\n",
       "      <td>FEW036</td>\n",
       "      <td>SCT140</td>\n",
       "      <td>None</td>\n",
       "    </tr>\n",
       "    <tr>\n",
       "      <th>2</th>\n",
       "      <td>3017</td>\n",
       "      <td>7</td>\n",
       "      <td>76</td>\n",
       "      <td>0</td>\n",
       "      <td></td>\n",
       "      <td>2013-01-01 02:53:00</td>\n",
       "      <td>SCT140</td>\n",
       "      <td>None</td>\n",
       "      <td>None</td>\n",
       "    </tr>\n",
       "    <tr>\n",
       "      <th>3</th>\n",
       "      <td>3017</td>\n",
       "      <td>12</td>\n",
       "      <td>73</td>\n",
       "      <td>5</td>\n",
       "      <td></td>\n",
       "      <td>2013-01-01 03:53:00</td>\n",
       "      <td>BKN065</td>\n",
       "      <td>None</td>\n",
       "      <td>None</td>\n",
       "    </tr>\n",
       "    <tr>\n",
       "      <th>4</th>\n",
       "      <td>3017</td>\n",
       "      <td>10</td>\n",
       "      <td>76</td>\n",
       "      <td>7</td>\n",
       "      <td></td>\n",
       "      <td>2013-01-01 04:53:00</td>\n",
       "      <td>BKN050</td>\n",
       "      <td>None</td>\n",
       "      <td>None</td>\n",
       "    </tr>\n",
       "  </tbody>\n",
       "</table>\n",
       "</div>"
      ],
      "text/plain": [
       "   WBAN DryBulbFarenheit RelativeHumidity WindSpeed HourlyPrecip  \\\n",
       "0  3017               11               77         8                \n",
       "1  3017               11               77         5                \n",
       "2  3017                7               76         0                \n",
       "3  3017               12               73         5                \n",
       "4  3017               10               76         7                \n",
       "\n",
       "           resolution    sky1    sky2  sky3  \n",
       "0 2013-01-01 00:53:00  FEW036  SCT140  None  \n",
       "1 2013-01-01 01:53:00  FEW036  SCT140  None  \n",
       "2 2013-01-01 02:53:00  SCT140    None  None  \n",
       "3 2013-01-01 03:53:00  BKN065    None  None  \n",
       "4 2013-01-01 04:53:00  BKN050    None  None  "
      ]
     },
     "execution_count": 348,
     "metadata": {},
     "output_type": "execute_result"
    }
   ],
   "source": [
    "weather.head()"
   ]
  },
  {
   "cell_type": "code",
   "execution_count": 349,
   "metadata": {
    "collapsed": false
   },
   "outputs": [],
   "source": [
    "\"\"\"\n",
    "From our sky columns (the result of the sky variable split), \n",
    "make 3 new dataframes, one for each column, which we will \n",
    "use to compute final sky-cover values; use regex to separate \n",
    "words from numbers.\n",
    "\n",
    "\"\"\"\n",
    "\n",
    "import re\n",
    "sky1 = pd.DataFrame(weather.sky1.map(lambda x: re.findall(r\"[^\\W\\d_]+|\\d+\", x)).tolist())\n",
    "sky2 = pd.DataFrame(weather.sky2.map(lambda x: re.findall(r\"[^\\W\\d_]+|\\d+\", x)).tolist())\n",
    "sky3 = pd.DataFrame(weather.sky3.map(lambda x: re.findall(r\"[^\\W\\d_]+|\\d+\", x)).tolist())"
   ]
  },
  {
   "cell_type": "markdown",
   "metadata": {},
   "source": [
    "Okay, now we have all the information split up so we can explore it. We don't know exactly yet what to keep, or how to model the sky cover, but let's take a look:"
   ]
  },
  {
   "cell_type": "code",
   "execution_count": 350,
   "metadata": {
    "collapsed": false
   },
   "outputs": [
    {
     "data": {
      "text/html": [
       "<div style=\"max-height:1000px;max-width:1500px;overflow:auto;\">\n",
       "<table border=\"1\" class=\"dataframe\">\n",
       "  <thead>\n",
       "    <tr style=\"text-align: right;\">\n",
       "      <th></th>\n",
       "      <th>0</th>\n",
       "      <th>1</th>\n",
       "      <th>2</th>\n",
       "    </tr>\n",
       "  </thead>\n",
       "  <tbody>\n",
       "    <tr>\n",
       "      <th>0</th>\n",
       "      <td>FEW</td>\n",
       "      <td>036</td>\n",
       "      <td>None</td>\n",
       "    </tr>\n",
       "    <tr>\n",
       "      <th>1</th>\n",
       "      <td>FEW</td>\n",
       "      <td>036</td>\n",
       "      <td>None</td>\n",
       "    </tr>\n",
       "    <tr>\n",
       "      <th>2</th>\n",
       "      <td>SCT</td>\n",
       "      <td>140</td>\n",
       "      <td>None</td>\n",
       "    </tr>\n",
       "    <tr>\n",
       "      <th>3</th>\n",
       "      <td>BKN</td>\n",
       "      <td>065</td>\n",
       "      <td>None</td>\n",
       "    </tr>\n",
       "    <tr>\n",
       "      <th>4</th>\n",
       "      <td>BKN</td>\n",
       "      <td>050</td>\n",
       "      <td>None</td>\n",
       "    </tr>\n",
       "    <tr>\n",
       "      <th>5</th>\n",
       "      <td>FEW</td>\n",
       "      <td>050</td>\n",
       "      <td>None</td>\n",
       "    </tr>\n",
       "    <tr>\n",
       "      <th>6</th>\n",
       "      <td>BKN</td>\n",
       "      <td>140</td>\n",
       "      <td>None</td>\n",
       "    </tr>\n",
       "    <tr>\n",
       "      <th>7</th>\n",
       "      <td>FEW</td>\n",
       "      <td>050</td>\n",
       "      <td>None</td>\n",
       "    </tr>\n",
       "    <tr>\n",
       "      <th>8</th>\n",
       "      <td>FEW</td>\n",
       "      <td>050</td>\n",
       "      <td>None</td>\n",
       "    </tr>\n",
       "    <tr>\n",
       "      <th>9</th>\n",
       "      <td>SCT</td>\n",
       "      <td>049</td>\n",
       "      <td>None</td>\n",
       "    </tr>\n",
       "    <tr>\n",
       "      <th>10</th>\n",
       "      <td>SCT</td>\n",
       "      <td>050</td>\n",
       "      <td>None</td>\n",
       "    </tr>\n",
       "    <tr>\n",
       "      <th>11</th>\n",
       "      <td>FEW</td>\n",
       "      <td>050</td>\n",
       "      <td>None</td>\n",
       "    </tr>\n",
       "    <tr>\n",
       "      <th>12</th>\n",
       "      <td>FEW</td>\n",
       "      <td>060</td>\n",
       "      <td>None</td>\n",
       "    </tr>\n",
       "    <tr>\n",
       "      <th>13</th>\n",
       "      <td>FEW</td>\n",
       "      <td>070</td>\n",
       "      <td>None</td>\n",
       "    </tr>\n",
       "    <tr>\n",
       "      <th>14</th>\n",
       "      <td>FEW</td>\n",
       "      <td>070</td>\n",
       "      <td>None</td>\n",
       "    </tr>\n",
       "  </tbody>\n",
       "</table>\n",
       "</div>"
      ],
      "text/plain": [
       "      0    1     2\n",
       "0   FEW  036  None\n",
       "1   FEW  036  None\n",
       "2   SCT  140  None\n",
       "3   BKN  065  None\n",
       "4   BKN  050  None\n",
       "5   FEW  050  None\n",
       "6   BKN  140  None\n",
       "7   FEW  050  None\n",
       "8   FEW  050  None\n",
       "9   SCT  049  None\n",
       "10  SCT  050  None\n",
       "11  FEW  050  None\n",
       "12  FEW  060  None\n",
       "13  FEW  070  None\n",
       "14  FEW  070  None"
      ]
     },
     "execution_count": 350,
     "metadata": {},
     "output_type": "execute_result"
    }
   ],
   "source": [
    "sky1.head(15)"
   ]
  },
  {
   "cell_type": "markdown",
   "metadata": {},
   "source": [
    "Let's see what types of sky cover are most common in Central Park:"
   ]
  },
  {
   "cell_type": "code",
   "execution_count": 351,
   "metadata": {
    "collapsed": false
   },
   "outputs": [
    {
     "data": {
      "text/plain": [
       "CLR    530360\n",
       "FEW    308967\n",
       "SCT    239291\n",
       "BKN    215255\n",
       "OVC    205264\n",
       "VV      12979\n",
       "dtype: int64"
      ]
     },
     "execution_count": 351,
     "metadata": {},
     "output_type": "execute_result"
    }
   ],
   "source": [
    "sky1[0].value_counts()"
   ]
  },
  {
   "cell_type": "code",
   "execution_count": 352,
   "metadata": {
    "collapsed": false
   },
   "outputs": [
    {
     "data": {
      "text/plain": [
       "None    1019989\n",
       "BKN      220075\n",
       "SCT      139341\n",
       "OVC      126226\n",
       "FEW        4172\n",
       "CLR        2303\n",
       "VV           10\n",
       "dtype: int64"
      ]
     },
     "execution_count": 352,
     "metadata": {},
     "output_type": "execute_result"
    }
   ],
   "source": [
    "sky2[0].value_counts()"
   ]
  },
  {
   "cell_type": "code",
   "execution_count": 353,
   "metadata": {
    "collapsed": false
   },
   "outputs": [
    {
     "data": {
      "text/plain": [
       "None    1306137\n",
       "OVC      105374\n",
       "BKN       78998\n",
       "SCT       19409\n",
       "CLR        2103\n",
       "FEW          94\n",
       "VV            1\n",
       "dtype: int64"
      ]
     },
     "execution_count": 353,
     "metadata": {},
     "output_type": "execute_result"
    }
   ],
   "source": [
    "sky3[0].value_counts()"
   ]
  },
  {
   "cell_type": "markdown",
   "metadata": {},
   "source": [
    "####NOAA handbook"
   ]
  },
  {
   "cell_type": "markdown",
   "metadata": {},
   "source": [
    "http://www.nws.noaa.gov/om/forms/resources/SFCTraining.pdf\n",
    "\n",
    "According to the NOAA training handbook for weather observers, sky cover is determined as follows (briefly):\n",
    "\n",
    "The cloud cover is split into layers, with a max of three. It is then determined how much of the sky is covered in the first layer. The measurement of cloud cover at the second and third layers is a cumulative. That's good for us, because all we want to know is how much of the sky is covered. Layers are given heights in hundreds of feet, but we won't bother with that information, since it's not clear how we'd use it to measure anything affecting people on the ground."
   ]
  },
  {
   "cell_type": "markdown",
   "metadata": {},
   "source": [
    "## The Sky Variable\n",
    "\n",
    "So, our computation is simple: give fractions for sky cover codes, per the NOAA definitions. Then find the cumulative max for each observation. That fraction will be our sky value."
   ]
  },
  {
   "cell_type": "code",
   "execution_count": 354,
   "metadata": {
    "collapsed": false
   },
   "outputs": [],
   "source": [
    "# change condition codes to fractions of sky cover per definitions in NOAA doc\n",
    "\n",
    "d = {'CLR': 0,\n",
    "     'FEW': 0.1875,\n",
    "     'SCT': 0.4375,\n",
    "     'BKN': 0.75,\n",
    "     'OVC': 1,\n",
    "     'VV': 1,\n",
    "     'None': 0}\n",
    "\n",
    "sky1[0].replace(d, inplace=True)\n",
    "sky2[0].replace(d, inplace=True)\n",
    "sky3[0].replace(d, inplace=True)"
   ]
  },
  {
   "cell_type": "code",
   "execution_count": 355,
   "metadata": {
    "collapsed": false
   },
   "outputs": [
    {
     "name": "stderr",
     "output_type": "stream",
     "text": [
      "/Library/Python/2.7/site-packages/IPython/kernel/__main__.py:3: SettingWithCopyWarning: \n",
      "A value is trying to be set on a copy of a slice from a DataFrame.\n",
      "Try using .loc[row_indexer,col_indexer] = value instead\n",
      "\n",
      "See the the caveats in the documentation: http://pandas.pydata.org/pandas-docs/stable/indexing.html#indexing-view-versus-copy\n",
      "  app.launch_new_instance()\n",
      "/Library/Python/2.7/site-packages/IPython/kernel/__main__.py:4: SettingWithCopyWarning: \n",
      "A value is trying to be set on a copy of a slice from a DataFrame.\n",
      "Try using .loc[row_indexer,col_indexer] = value instead\n",
      "\n",
      "See the the caveats in the documentation: http://pandas.pydata.org/pandas-docs/stable/indexing.html#indexing-view-versus-copy\n",
      "/Library/Python/2.7/site-packages/IPython/kernel/__main__.py:5: SettingWithCopyWarning: \n",
      "A value is trying to be set on a copy of a slice from a DataFrame.\n",
      "Try using .loc[row_indexer,col_indexer] = value instead\n",
      "\n",
      "See the the caveats in the documentation: http://pandas.pydata.org/pandas-docs/stable/indexing.html#indexing-view-versus-copy\n",
      "/Library/Python/2.7/site-packages/IPython/kernel/__main__.py:7: SettingWithCopyWarning: \n",
      "A value is trying to be set on a copy of a slice from a DataFrame.\n",
      "Try using .loc[row_indexer,col_indexer] = value instead\n",
      "\n",
      "See the the caveats in the documentation: http://pandas.pydata.org/pandas-docs/stable/indexing.html#indexing-view-versus-copy\n",
      "/Library/Python/2.7/site-packages/IPython/kernel/__main__.py:8: SettingWithCopyWarning: \n",
      "A value is trying to be set on a copy of a slice from a DataFrame.\n",
      "Try using .loc[row_indexer,col_indexer] = value instead\n",
      "\n",
      "See the the caveats in the documentation: http://pandas.pydata.org/pandas-docs/stable/indexing.html#indexing-view-versus-copy\n",
      "/Library/Python/2.7/site-packages/IPython/kernel/__main__.py:9: SettingWithCopyWarning: \n",
      "A value is trying to be set on a copy of a slice from a DataFrame.\n",
      "Try using .loc[row_indexer,col_indexer] = value instead\n",
      "\n",
      "See the the caveats in the documentation: http://pandas.pydata.org/pandas-docs/stable/indexing.html#indexing-view-versus-copy\n"
     ]
    }
   ],
   "source": [
    "# add to weather df make sure everything is float\n",
    "\n",
    "weather['sky1'] = sky1[0]\n",
    "weather['sky2'] = sky2[0]\n",
    "weather['sky3'] = sky3[0]\n",
    "\n",
    "weather['sky1'] = weather.sky1.map(lambda x: float(x))\n",
    "weather['sky2'] = weather.sky2.map(lambda x: float(x))\n",
    "weather['sky3'] = weather.sky3.map(lambda x: float(x))"
   ]
  },
  {
   "cell_type": "code",
   "execution_count": 356,
   "metadata": {
    "collapsed": false
   },
   "outputs": [
    {
     "name": "stderr",
     "output_type": "stream",
     "text": [
      "/Library/Python/2.7/site-packages/IPython/kernel/__main__.py:3: SettingWithCopyWarning: \n",
      "A value is trying to be set on a copy of a slice from a DataFrame.\n",
      "Try using .loc[row_indexer,col_indexer] = value instead\n",
      "\n",
      "See the the caveats in the documentation: http://pandas.pydata.org/pandas-docs/stable/indexing.html#indexing-view-versus-copy\n",
      "  app.launch_new_instance()\n"
     ]
    }
   ],
   "source": [
    "# find max across the 3 columns for each observation\n",
    "\n",
    "weather['sky'] = weather[['sky1','sky2','sky3']].max(axis=1)"
   ]
  },
  {
   "cell_type": "code",
   "execution_count": 357,
   "metadata": {
    "collapsed": false
   },
   "outputs": [
    {
     "data": {
      "text/html": [
       "<div style=\"max-height:1000px;max-width:1500px;overflow:auto;\">\n",
       "<table border=\"1\" class=\"dataframe\">\n",
       "  <thead>\n",
       "    <tr style=\"text-align: right;\">\n",
       "      <th></th>\n",
       "      <th>WBAN</th>\n",
       "      <th>DryBulbFarenheit</th>\n",
       "      <th>RelativeHumidity</th>\n",
       "      <th>WindSpeed</th>\n",
       "      <th>HourlyPrecip</th>\n",
       "      <th>resolution</th>\n",
       "      <th>sky1</th>\n",
       "      <th>sky2</th>\n",
       "      <th>sky3</th>\n",
       "      <th>sky</th>\n",
       "    </tr>\n",
       "  </thead>\n",
       "  <tbody>\n",
       "    <tr>\n",
       "      <th>0</th>\n",
       "      <td>3017</td>\n",
       "      <td>11</td>\n",
       "      <td>77</td>\n",
       "      <td>8</td>\n",
       "      <td></td>\n",
       "      <td>2013-01-01 00:53:00</td>\n",
       "      <td>0.1875</td>\n",
       "      <td>0.4375</td>\n",
       "      <td>0.00</td>\n",
       "      <td>0.4375</td>\n",
       "    </tr>\n",
       "    <tr>\n",
       "      <th>1</th>\n",
       "      <td>3017</td>\n",
       "      <td>11</td>\n",
       "      <td>77</td>\n",
       "      <td>5</td>\n",
       "      <td></td>\n",
       "      <td>2013-01-01 01:53:00</td>\n",
       "      <td>0.1875</td>\n",
       "      <td>0.4375</td>\n",
       "      <td>0.00</td>\n",
       "      <td>0.4375</td>\n",
       "    </tr>\n",
       "    <tr>\n",
       "      <th>2</th>\n",
       "      <td>3017</td>\n",
       "      <td>7</td>\n",
       "      <td>76</td>\n",
       "      <td>0</td>\n",
       "      <td></td>\n",
       "      <td>2013-01-01 02:53:00</td>\n",
       "      <td>0.4375</td>\n",
       "      <td>0.0000</td>\n",
       "      <td>0.00</td>\n",
       "      <td>0.4375</td>\n",
       "    </tr>\n",
       "    <tr>\n",
       "      <th>3</th>\n",
       "      <td>3017</td>\n",
       "      <td>12</td>\n",
       "      <td>73</td>\n",
       "      <td>5</td>\n",
       "      <td></td>\n",
       "      <td>2013-01-01 03:53:00</td>\n",
       "      <td>0.7500</td>\n",
       "      <td>0.0000</td>\n",
       "      <td>0.00</td>\n",
       "      <td>0.7500</td>\n",
       "    </tr>\n",
       "    <tr>\n",
       "      <th>4</th>\n",
       "      <td>3017</td>\n",
       "      <td>10</td>\n",
       "      <td>76</td>\n",
       "      <td>7</td>\n",
       "      <td></td>\n",
       "      <td>2013-01-01 04:53:00</td>\n",
       "      <td>0.7500</td>\n",
       "      <td>0.0000</td>\n",
       "      <td>0.00</td>\n",
       "      <td>0.7500</td>\n",
       "    </tr>\n",
       "    <tr>\n",
       "      <th>5</th>\n",
       "      <td>3017</td>\n",
       "      <td>11</td>\n",
       "      <td>73</td>\n",
       "      <td>10</td>\n",
       "      <td></td>\n",
       "      <td>2013-01-01 05:53:00</td>\n",
       "      <td>0.1875</td>\n",
       "      <td>0.7500</td>\n",
       "      <td>0.00</td>\n",
       "      <td>0.7500</td>\n",
       "    </tr>\n",
       "    <tr>\n",
       "      <th>6</th>\n",
       "      <td>3017</td>\n",
       "      <td>12</td>\n",
       "      <td>73</td>\n",
       "      <td>9</td>\n",
       "      <td></td>\n",
       "      <td>2013-01-01 06:53:00</td>\n",
       "      <td>0.7500</td>\n",
       "      <td>0.0000</td>\n",
       "      <td>0.00</td>\n",
       "      <td>0.7500</td>\n",
       "    </tr>\n",
       "    <tr>\n",
       "      <th>7</th>\n",
       "      <td>3017</td>\n",
       "      <td>12</td>\n",
       "      <td>80</td>\n",
       "      <td>6</td>\n",
       "      <td></td>\n",
       "      <td>2013-01-01 07:53:00</td>\n",
       "      <td>0.1875</td>\n",
       "      <td>0.7500</td>\n",
       "      <td>0.00</td>\n",
       "      <td>0.7500</td>\n",
       "    </tr>\n",
       "    <tr>\n",
       "      <th>8</th>\n",
       "      <td>3017</td>\n",
       "      <td>17</td>\n",
       "      <td>74</td>\n",
       "      <td>5</td>\n",
       "      <td></td>\n",
       "      <td>2013-01-01 08:53:00</td>\n",
       "      <td>0.1875</td>\n",
       "      <td>0.4375</td>\n",
       "      <td>0.75</td>\n",
       "      <td>0.7500</td>\n",
       "    </tr>\n",
       "    <tr>\n",
       "      <th>9</th>\n",
       "      <td>3017</td>\n",
       "      <td>21</td>\n",
       "      <td>71</td>\n",
       "      <td>5</td>\n",
       "      <td></td>\n",
       "      <td>2013-01-01 09:53:00</td>\n",
       "      <td>0.4375</td>\n",
       "      <td>0.7500</td>\n",
       "      <td>0.00</td>\n",
       "      <td>0.7500</td>\n",
       "    </tr>\n",
       "    <tr>\n",
       "      <th>10</th>\n",
       "      <td>3017</td>\n",
       "      <td>24</td>\n",
       "      <td>60</td>\n",
       "      <td>6</td>\n",
       "      <td></td>\n",
       "      <td>2013-01-01 10:53:00</td>\n",
       "      <td>0.4375</td>\n",
       "      <td>0.7500</td>\n",
       "      <td>0.75</td>\n",
       "      <td>0.7500</td>\n",
       "    </tr>\n",
       "    <tr>\n",
       "      <th>11</th>\n",
       "      <td>3017</td>\n",
       "      <td>25</td>\n",
       "      <td>53</td>\n",
       "      <td>5</td>\n",
       "      <td></td>\n",
       "      <td>2013-01-01 11:53:00</td>\n",
       "      <td>0.1875</td>\n",
       "      <td>0.4375</td>\n",
       "      <td>0.75</td>\n",
       "      <td>0.7500</td>\n",
       "    </tr>\n",
       "    <tr>\n",
       "      <th>12</th>\n",
       "      <td>3017</td>\n",
       "      <td>26</td>\n",
       "      <td>51</td>\n",
       "      <td>3</td>\n",
       "      <td></td>\n",
       "      <td>2013-01-01 12:53:00</td>\n",
       "      <td>0.1875</td>\n",
       "      <td>0.4375</td>\n",
       "      <td>0.00</td>\n",
       "      <td>0.4375</td>\n",
       "    </tr>\n",
       "    <tr>\n",
       "      <th>13</th>\n",
       "      <td>3017</td>\n",
       "      <td>27</td>\n",
       "      <td>49</td>\n",
       "      <td>7</td>\n",
       "      <td></td>\n",
       "      <td>2013-01-01 13:53:00</td>\n",
       "      <td>0.1875</td>\n",
       "      <td>0.4375</td>\n",
       "      <td>0.00</td>\n",
       "      <td>0.4375</td>\n",
       "    </tr>\n",
       "    <tr>\n",
       "      <th>14</th>\n",
       "      <td>3017</td>\n",
       "      <td>27</td>\n",
       "      <td>47</td>\n",
       "      <td>8</td>\n",
       "      <td></td>\n",
       "      <td>2013-01-01 14:53:00</td>\n",
       "      <td>0.1875</td>\n",
       "      <td>0.0000</td>\n",
       "      <td>0.00</td>\n",
       "      <td>0.1875</td>\n",
       "    </tr>\n",
       "  </tbody>\n",
       "</table>\n",
       "</div>"
      ],
      "text/plain": [
       "    WBAN DryBulbFarenheit RelativeHumidity WindSpeed HourlyPrecip  \\\n",
       "0   3017               11               77         8                \n",
       "1   3017               11               77         5                \n",
       "2   3017                7               76         0                \n",
       "3   3017               12               73         5                \n",
       "4   3017               10               76         7                \n",
       "5   3017               11               73        10                \n",
       "6   3017               12               73         9                \n",
       "7   3017               12               80         6                \n",
       "8   3017               17               74         5                \n",
       "9   3017               21               71         5                \n",
       "10  3017               24               60         6                \n",
       "11  3017               25               53         5                \n",
       "12  3017               26               51         3                \n",
       "13  3017               27               49         7                \n",
       "14  3017               27               47         8                \n",
       "\n",
       "            resolution    sky1    sky2  sky3     sky  \n",
       "0  2013-01-01 00:53:00  0.1875  0.4375  0.00  0.4375  \n",
       "1  2013-01-01 01:53:00  0.1875  0.4375  0.00  0.4375  \n",
       "2  2013-01-01 02:53:00  0.4375  0.0000  0.00  0.4375  \n",
       "3  2013-01-01 03:53:00  0.7500  0.0000  0.00  0.7500  \n",
       "4  2013-01-01 04:53:00  0.7500  0.0000  0.00  0.7500  \n",
       "5  2013-01-01 05:53:00  0.1875  0.7500  0.00  0.7500  \n",
       "6  2013-01-01 06:53:00  0.7500  0.0000  0.00  0.7500  \n",
       "7  2013-01-01 07:53:00  0.1875  0.7500  0.00  0.7500  \n",
       "8  2013-01-01 08:53:00  0.1875  0.4375  0.75  0.7500  \n",
       "9  2013-01-01 09:53:00  0.4375  0.7500  0.00  0.7500  \n",
       "10 2013-01-01 10:53:00  0.4375  0.7500  0.75  0.7500  \n",
       "11 2013-01-01 11:53:00  0.1875  0.4375  0.75  0.7500  \n",
       "12 2013-01-01 12:53:00  0.1875  0.4375  0.00  0.4375  \n",
       "13 2013-01-01 13:53:00  0.1875  0.4375  0.00  0.4375  \n",
       "14 2013-01-01 14:53:00  0.1875  0.0000  0.00  0.1875  "
      ]
     },
     "execution_count": 357,
     "metadata": {},
     "output_type": "execute_result"
    }
   ],
   "source": [
    "weather.head(15)"
   ]
  },
  {
   "cell_type": "code",
   "execution_count": 358,
   "metadata": {
    "collapsed": false
   },
   "outputs": [],
   "source": [
    "# remove individual sky columns\n",
    "\n",
    "del weather['sky1']\n",
    "del weather['sky2']\n",
    "del weather['sky3']"
   ]
  },
  {
   "cell_type": "code",
   "execution_count": 359,
   "metadata": {
    "collapsed": false
   },
   "outputs": [
    {
     "data": {
      "text/html": [
       "<div style=\"max-height:1000px;max-width:1500px;overflow:auto;\">\n",
       "<table border=\"1\" class=\"dataframe\">\n",
       "  <thead>\n",
       "    <tr style=\"text-align: right;\">\n",
       "      <th></th>\n",
       "      <th>WBAN</th>\n",
       "      <th>DryBulbFarenheit</th>\n",
       "      <th>RelativeHumidity</th>\n",
       "      <th>WindSpeed</th>\n",
       "      <th>HourlyPrecip</th>\n",
       "      <th>resolution</th>\n",
       "      <th>sky</th>\n",
       "    </tr>\n",
       "  </thead>\n",
       "  <tbody>\n",
       "    <tr>\n",
       "      <th>0</th>\n",
       "      <td>3017</td>\n",
       "      <td>11</td>\n",
       "      <td>77</td>\n",
       "      <td>8</td>\n",
       "      <td></td>\n",
       "      <td>2013-01-01 00:53:00</td>\n",
       "      <td>0.4375</td>\n",
       "    </tr>\n",
       "    <tr>\n",
       "      <th>1</th>\n",
       "      <td>3017</td>\n",
       "      <td>11</td>\n",
       "      <td>77</td>\n",
       "      <td>5</td>\n",
       "      <td></td>\n",
       "      <td>2013-01-01 01:53:00</td>\n",
       "      <td>0.4375</td>\n",
       "    </tr>\n",
       "    <tr>\n",
       "      <th>2</th>\n",
       "      <td>3017</td>\n",
       "      <td>7</td>\n",
       "      <td>76</td>\n",
       "      <td>0</td>\n",
       "      <td></td>\n",
       "      <td>2013-01-01 02:53:00</td>\n",
       "      <td>0.4375</td>\n",
       "    </tr>\n",
       "    <tr>\n",
       "      <th>3</th>\n",
       "      <td>3017</td>\n",
       "      <td>12</td>\n",
       "      <td>73</td>\n",
       "      <td>5</td>\n",
       "      <td></td>\n",
       "      <td>2013-01-01 03:53:00</td>\n",
       "      <td>0.7500</td>\n",
       "    </tr>\n",
       "    <tr>\n",
       "      <th>4</th>\n",
       "      <td>3017</td>\n",
       "      <td>10</td>\n",
       "      <td>76</td>\n",
       "      <td>7</td>\n",
       "      <td></td>\n",
       "      <td>2013-01-01 04:53:00</td>\n",
       "      <td>0.7500</td>\n",
       "    </tr>\n",
       "  </tbody>\n",
       "</table>\n",
       "</div>"
      ],
      "text/plain": [
       "   WBAN DryBulbFarenheit RelativeHumidity WindSpeed HourlyPrecip  \\\n",
       "0  3017               11               77         8                \n",
       "1  3017               11               77         5                \n",
       "2  3017                7               76         0                \n",
       "3  3017               12               73         5                \n",
       "4  3017               10               76         7                \n",
       "\n",
       "           resolution     sky  \n",
       "0 2013-01-01 00:53:00  0.4375  \n",
       "1 2013-01-01 01:53:00  0.4375  \n",
       "2 2013-01-01 02:53:00  0.4375  \n",
       "3 2013-01-01 03:53:00  0.7500  \n",
       "4 2013-01-01 04:53:00  0.7500  "
      ]
     },
     "execution_count": 359,
     "metadata": {},
     "output_type": "execute_result"
    }
   ],
   "source": [
    "weather.head()"
   ]
  },
  {
   "cell_type": "markdown",
   "metadata": {},
   "source": [
    "####Voila! We have a sky variable."
   ]
  },
  {
   "cell_type": "code",
   "execution_count": 360,
   "metadata": {
    "collapsed": false
   },
   "outputs": [],
   "source": [
    "weather = weather[weather.DryBulbFarenheit != 'M']"
   ]
  },
  {
   "cell_type": "code",
   "execution_count": 361,
   "metadata": {
    "collapsed": false
   },
   "outputs": [],
   "source": [
    "# clean up wind variable\n",
    "\n",
    "weather = weather[weather.WindSpeed != 'M']"
   ]
  },
  {
   "cell_type": "code",
   "execution_count": 362,
   "metadata": {
    "collapsed": false
   },
   "outputs": [
    {
     "data": {
      "text/plain": [
       "1036"
      ]
     },
     "execution_count": 362,
     "metadata": {},
     "output_type": "execute_result"
    }
   ],
   "source": [
    "len(weather.index[weather.WindSpeed=='  '])      # two spaces"
   ]
  },
  {
   "cell_type": "code",
   "execution_count": 363,
   "metadata": {
    "collapsed": true
   },
   "outputs": [],
   "source": [
    "d = {\"  \": 0}\n",
    "\n",
    "weather.WindSpeed.replace(d, inplace=True)"
   ]
  },
  {
   "cell_type": "code",
   "execution_count": 364,
   "metadata": {
    "collapsed": false
   },
   "outputs": [],
   "source": [
    "# clean up precipitation variable\n",
    "\n",
    "d = {\" \": 0,\n",
    "     \"T\": 0.001,\n",
    "     \"  T\": 0.001}\n",
    "\n",
    "weather.HourlyPrecip.replace(d, inplace=True)"
   ]
  },
  {
   "cell_type": "code",
   "execution_count": 365,
   "metadata": {
    "collapsed": false
   },
   "outputs": [],
   "source": [
    "# reset index once more\n",
    "\n",
    "weather.reset_index(drop=True,inplace=True)"
   ]
  },
  {
   "cell_type": "code",
   "execution_count": 366,
   "metadata": {
    "collapsed": false
   },
   "outputs": [],
   "source": [
    "# make sure everything a float once again\n",
    "\n",
    "weather.DryBulbFarenheit = weather.DryBulbFarenheit.map(lambda x: float(x))\n",
    "weather.WindSpeed = weather.WindSpeed.map(lambda x: float(x))\n",
    "weather.HourlyPrecip = weather.HourlyPrecip.map(lambda x: float(x))\n",
    "weather.sky = weather.sky.map(lambda x: float(x))"
   ]
  },
  {
   "cell_type": "code",
   "execution_count": 367,
   "metadata": {
    "collapsed": false
   },
   "outputs": [
    {
     "data": {
      "text/html": [
       "<div style=\"max-height:1000px;max-width:1500px;overflow:auto;\">\n",
       "<table border=\"1\" class=\"dataframe\">\n",
       "  <thead>\n",
       "    <tr style=\"text-align: right;\">\n",
       "      <th></th>\n",
       "      <th>WBAN</th>\n",
       "      <th>DryBulbFarenheit</th>\n",
       "      <th>RelativeHumidity</th>\n",
       "      <th>WindSpeed</th>\n",
       "      <th>HourlyPrecip</th>\n",
       "      <th>resolution</th>\n",
       "      <th>sky</th>\n",
       "    </tr>\n",
       "  </thead>\n",
       "  <tbody>\n",
       "    <tr>\n",
       "      <th>0</th>\n",
       "      <td>3017</td>\n",
       "      <td>11</td>\n",
       "      <td>77</td>\n",
       "      <td>8</td>\n",
       "      <td>0</td>\n",
       "      <td>2013-01-01 00:53:00</td>\n",
       "      <td>0.4375</td>\n",
       "    </tr>\n",
       "    <tr>\n",
       "      <th>1</th>\n",
       "      <td>3017</td>\n",
       "      <td>11</td>\n",
       "      <td>77</td>\n",
       "      <td>5</td>\n",
       "      <td>0</td>\n",
       "      <td>2013-01-01 01:53:00</td>\n",
       "      <td>0.4375</td>\n",
       "    </tr>\n",
       "    <tr>\n",
       "      <th>2</th>\n",
       "      <td>3017</td>\n",
       "      <td>7</td>\n",
       "      <td>76</td>\n",
       "      <td>0</td>\n",
       "      <td>0</td>\n",
       "      <td>2013-01-01 02:53:00</td>\n",
       "      <td>0.4375</td>\n",
       "    </tr>\n",
       "    <tr>\n",
       "      <th>3</th>\n",
       "      <td>3017</td>\n",
       "      <td>12</td>\n",
       "      <td>73</td>\n",
       "      <td>5</td>\n",
       "      <td>0</td>\n",
       "      <td>2013-01-01 03:53:00</td>\n",
       "      <td>0.7500</td>\n",
       "    </tr>\n",
       "    <tr>\n",
       "      <th>4</th>\n",
       "      <td>3017</td>\n",
       "      <td>10</td>\n",
       "      <td>76</td>\n",
       "      <td>7</td>\n",
       "      <td>0</td>\n",
       "      <td>2013-01-01 04:53:00</td>\n",
       "      <td>0.7500</td>\n",
       "    </tr>\n",
       "    <tr>\n",
       "      <th>5</th>\n",
       "      <td>3017</td>\n",
       "      <td>11</td>\n",
       "      <td>73</td>\n",
       "      <td>10</td>\n",
       "      <td>0</td>\n",
       "      <td>2013-01-01 05:53:00</td>\n",
       "      <td>0.7500</td>\n",
       "    </tr>\n",
       "    <tr>\n",
       "      <th>6</th>\n",
       "      <td>3017</td>\n",
       "      <td>12</td>\n",
       "      <td>73</td>\n",
       "      <td>9</td>\n",
       "      <td>0</td>\n",
       "      <td>2013-01-01 06:53:00</td>\n",
       "      <td>0.7500</td>\n",
       "    </tr>\n",
       "    <tr>\n",
       "      <th>7</th>\n",
       "      <td>3017</td>\n",
       "      <td>12</td>\n",
       "      <td>80</td>\n",
       "      <td>6</td>\n",
       "      <td>0</td>\n",
       "      <td>2013-01-01 07:53:00</td>\n",
       "      <td>0.7500</td>\n",
       "    </tr>\n",
       "    <tr>\n",
       "      <th>8</th>\n",
       "      <td>3017</td>\n",
       "      <td>17</td>\n",
       "      <td>74</td>\n",
       "      <td>5</td>\n",
       "      <td>0</td>\n",
       "      <td>2013-01-01 08:53:00</td>\n",
       "      <td>0.7500</td>\n",
       "    </tr>\n",
       "    <tr>\n",
       "      <th>9</th>\n",
       "      <td>3017</td>\n",
       "      <td>21</td>\n",
       "      <td>71</td>\n",
       "      <td>5</td>\n",
       "      <td>0</td>\n",
       "      <td>2013-01-01 09:53:00</td>\n",
       "      <td>0.7500</td>\n",
       "    </tr>\n",
       "    <tr>\n",
       "      <th>10</th>\n",
       "      <td>3017</td>\n",
       "      <td>24</td>\n",
       "      <td>60</td>\n",
       "      <td>6</td>\n",
       "      <td>0</td>\n",
       "      <td>2013-01-01 10:53:00</td>\n",
       "      <td>0.7500</td>\n",
       "    </tr>\n",
       "    <tr>\n",
       "      <th>11</th>\n",
       "      <td>3017</td>\n",
       "      <td>25</td>\n",
       "      <td>53</td>\n",
       "      <td>5</td>\n",
       "      <td>0</td>\n",
       "      <td>2013-01-01 11:53:00</td>\n",
       "      <td>0.7500</td>\n",
       "    </tr>\n",
       "    <tr>\n",
       "      <th>12</th>\n",
       "      <td>3017</td>\n",
       "      <td>26</td>\n",
       "      <td>51</td>\n",
       "      <td>3</td>\n",
       "      <td>0</td>\n",
       "      <td>2013-01-01 12:53:00</td>\n",
       "      <td>0.4375</td>\n",
       "    </tr>\n",
       "    <tr>\n",
       "      <th>13</th>\n",
       "      <td>3017</td>\n",
       "      <td>27</td>\n",
       "      <td>49</td>\n",
       "      <td>7</td>\n",
       "      <td>0</td>\n",
       "      <td>2013-01-01 13:53:00</td>\n",
       "      <td>0.4375</td>\n",
       "    </tr>\n",
       "    <tr>\n",
       "      <th>14</th>\n",
       "      <td>3017</td>\n",
       "      <td>27</td>\n",
       "      <td>47</td>\n",
       "      <td>8</td>\n",
       "      <td>0</td>\n",
       "      <td>2013-01-01 14:53:00</td>\n",
       "      <td>0.1875</td>\n",
       "    </tr>\n",
       "  </tbody>\n",
       "</table>\n",
       "</div>"
      ],
      "text/plain": [
       "    WBAN  DryBulbFarenheit RelativeHumidity  WindSpeed  HourlyPrecip  \\\n",
       "0   3017                11               77          8             0   \n",
       "1   3017                11               77          5             0   \n",
       "2   3017                 7               76          0             0   \n",
       "3   3017                12               73          5             0   \n",
       "4   3017                10               76          7             0   \n",
       "5   3017                11               73         10             0   \n",
       "6   3017                12               73          9             0   \n",
       "7   3017                12               80          6             0   \n",
       "8   3017                17               74          5             0   \n",
       "9   3017                21               71          5             0   \n",
       "10  3017                24               60          6             0   \n",
       "11  3017                25               53          5             0   \n",
       "12  3017                26               51          3             0   \n",
       "13  3017                27               49          7             0   \n",
       "14  3017                27               47          8             0   \n",
       "\n",
       "            resolution     sky  \n",
       "0  2013-01-01 00:53:00  0.4375  \n",
       "1  2013-01-01 01:53:00  0.4375  \n",
       "2  2013-01-01 02:53:00  0.4375  \n",
       "3  2013-01-01 03:53:00  0.7500  \n",
       "4  2013-01-01 04:53:00  0.7500  \n",
       "5  2013-01-01 05:53:00  0.7500  \n",
       "6  2013-01-01 06:53:00  0.7500  \n",
       "7  2013-01-01 07:53:00  0.7500  \n",
       "8  2013-01-01 08:53:00  0.7500  \n",
       "9  2013-01-01 09:53:00  0.7500  \n",
       "10 2013-01-01 10:53:00  0.7500  \n",
       "11 2013-01-01 11:53:00  0.7500  \n",
       "12 2013-01-01 12:53:00  0.4375  \n",
       "13 2013-01-01 13:53:00  0.4375  \n",
       "14 2013-01-01 14:53:00  0.1875  "
      ]
     },
     "execution_count": 367,
     "metadata": {},
     "output_type": "execute_result"
    }
   ],
   "source": [
    "# Finally we have a clean dataframe!\n",
    "\n",
    "weather.head(15)"
   ]
  },
  {
   "cell_type": "markdown",
   "metadata": {},
   "source": [
    "####Now let's rename the columns to make them a bit easier to type"
   ]
  },
  {
   "cell_type": "code",
   "execution_count": 368,
   "metadata": {
    "collapsed": true
   },
   "outputs": [],
   "source": [
    "weather.rename(columns = {'DryBulbFarenheit':'temp',\n",
    "                          'RelativeHumidity':'humidity',\n",
    "                          'WindSpeed':'wind',\n",
    "                          'HourlyPrecip':'rain'},\n",
    "               inplace=True)"
   ]
  },
  {
   "cell_type": "markdown",
   "metadata": {},
   "source": [
    "####some histograms"
   ]
  },
  {
   "cell_type": "code",
   "execution_count": 369,
   "metadata": {
    "collapsed": true
   },
   "outputs": [],
   "source": [
    "%matplotlib inline"
   ]
  },
  {
   "cell_type": "code",
   "execution_count": 370,
   "metadata": {
    "collapsed": false
   },
   "outputs": [
    {
     "data": {
      "text/plain": [
       "<matplotlib.axes.AxesSubplot at 0x49b3c9890>"
      ]
     },
     "execution_count": 370,
     "metadata": {},
     "output_type": "execute_result"
    },
    {
     "data": {
      "image/png": "[encoded data removed]",
      "text/plain": [
       "<matplotlib.figure.Figure at 0x10d64a3d0>"
      ]
     },
     "metadata": {},
     "output_type": "display_data"
    }
   ],
   "source": [
    "weather.temp.hist()"
   ]
  },
  {
   "cell_type": "code",
   "execution_count": 371,
   "metadata": {
    "collapsed": false
   },
   "outputs": [
    {
     "data": {
      "text/plain": [
       "<matplotlib.axes.AxesSubplot at 0x7a0792ad0>"
      ]
     },
     "execution_count": 371,
     "metadata": {},
     "output_type": "execute_result"
    },
    {
     "data": {
      "image/png": "[encoded data removed]",
      "text/plain": [
       "<matplotlib.figure.Figure at 0x54b033d90>"
      ]
     },
     "metadata": {},
     "output_type": "display_data"
    }
   ],
   "source": [
    "weather.wind.hist()"
   ]
  },
  {
   "cell_type": "code",
   "execution_count": 372,
   "metadata": {
    "collapsed": false
   },
   "outputs": [
    {
     "data": {
      "text/plain": [
       "<matplotlib.axes.AxesSubplot at 0x7a5d1cc90>"
      ]
     },
     "execution_count": 372,
     "metadata": {},
     "output_type": "execute_result"
    },
    {
     "data": {
      "image/png": "[encoded data removed]",
      "text/plain": [
       "<matplotlib.figure.Figure at 0x78b796590>"
      ]
     },
     "metadata": {},
     "output_type": "display_data"
    }
   ],
   "source": [
    "weather.rain.hist()"
   ]
  },
  {
   "cell_type": "code",
   "execution_count": 373,
   "metadata": {
    "collapsed": false
   },
   "outputs": [
    {
     "data": {
      "text/plain": [
       "<matplotlib.axes.AxesSubplot at 0x4c4a47110>"
      ]
     },
     "execution_count": 373,
     "metadata": {},
     "output_type": "execute_result"
    },
    {
     "data": {
      "image/png": "[encoded data removed]",
      "text/plain": [
       "<matplotlib.figure.Figure at 0x7a4c397d0>"
      ]
     },
     "metadata": {},
     "output_type": "display_data"
    }
   ],
   "source": [
    "weather.sky.hist()"
   ]
  },
  {
   "cell_type": "markdown",
   "metadata": {},
   "source": [
    "###Join"
   ]
  },
  {
   "cell_type": "markdown",
   "metadata": {},
   "source": [
    "Okay, now we need to join this weather data to the Twitter dataset. This is going to be a little tricky, because we are joining both on WBAN and on time. Since the weather observations are hourly, we'll just join on hour, which is nice. First, we'll need to parse the Twitter times."
   ]
  },
  {
   "cell_type": "code",
   "execution_count": 374,
   "metadata": {
    "collapsed": false
   },
   "outputs": [
    {
     "data": {
      "text/html": [
       "<div style=\"max-height:1000px;max-width:1500px;overflow:auto;\">\n",
       "<table border=\"1\" class=\"dataframe\">\n",
       "  <thead>\n",
       "    <tr style=\"text-align: right;\">\n",
       "      <th></th>\n",
       "      <th>image.path</th>\n",
       "      <th>filename</th>\n",
       "      <th>img_url</th>\n",
       "      <th>size_h</th>\n",
       "      <th>size_w</th>\n",
       "      <th>lat</th>\n",
       "      <th>lon</th>\n",
       "      <th>postedTime</th>\n",
       "      <th>mongo_id</th>\n",
       "      <th>location</th>\n",
       "      <th>...</th>\n",
       "      <th>R.entropy</th>\n",
       "      <th>G.entropy</th>\n",
       "      <th>B.entropy</th>\n",
       "      <th>city</th>\n",
       "      <th>H.mode</th>\n",
       "      <th>S.mode</th>\n",
       "      <th>V.mode</th>\n",
       "      <th>hour</th>\n",
       "      <th>WBAN</th>\n",
       "      <th>alt_wban</th>\n",
       "    </tr>\n",
       "  </thead>\n",
       "  <tbody>\n",
       "    <tr>\n",
       "      <th>0</th>\n",
       "      <td>/data/myazdani/images/2013/2013-01-01/00/A-6iy...</td>\n",
       "      <td>A-6iyQmCYAE9w8B.jpg</td>\n",
       "      <td>http://pbs.twimg.com/media/A-6iyQmCYAE9w8B.jpg</td>\n",
       "      <td>684</td>\n",
       "      <td>500</td>\n",
       "      <td>39.938049</td>\n",
       "      <td>-82.886912</td>\n",
       "      <td>2013-01-01T00:40:38.000Z</td>\n",
       "      <td>53dc81ddad12874a4a2c188f</td>\n",
       "      <td>Columbus</td>\n",
       "      <td>...</td>\n",
       "      <td>5.089188</td>\n",
       "      <td>5.034659</td>\n",
       "      <td>4.806793</td>\n",
       "      <td>columbus</td>\n",
       "      <td>20</td>\n",
       "      <td>51</td>\n",
       "      <td>255</td>\n",
       "      <td>19</td>\n",
       "      <td>14821</td>\n",
       "      <td>NaN</td>\n",
       "    </tr>\n",
       "    <tr>\n",
       "      <th>1</th>\n",
       "      <td>/data/myazdani/images/2013/2013-01-01/00/A_e-7...</td>\n",
       "      <td>A_e-7RzCIAAQWFF.jpg</td>\n",
       "      <td>http://pbs.twimg.com/media/A_e-7RzCIAAQWFF.jpg</td>\n",
       "      <td>1024</td>\n",
       "      <td>768</td>\n",
       "      <td>33.805219</td>\n",
       "      <td>-84.300265</td>\n",
       "      <td>2013-01-01T00:35:22.000Z</td>\n",
       "      <td>53dc81dfad12874a4a2c2e3e</td>\n",
       "      <td>North Decatur</td>\n",
       "      <td>...</td>\n",
       "      <td>4.734248</td>\n",
       "      <td>5.024152</td>\n",
       "      <td>5.300740</td>\n",
       "      <td>atlanta</td>\n",
       "      <td>8</td>\n",
       "      <td>124</td>\n",
       "      <td>149</td>\n",
       "      <td>19</td>\n",
       "      <td>53863</td>\n",
       "      <td>NaN</td>\n",
       "    </tr>\n",
       "    <tr>\n",
       "      <th>2</th>\n",
       "      <td>/data/myazdani/images/2013/2013-01-01/00/A_e-C...</td>\n",
       "      <td>A_e-CPHCAAES9Vc.jpg</td>\n",
       "      <td>http://pbs.twimg.com/media/A_e-CPHCAAES9Vc.jpg</td>\n",
       "      <td>640</td>\n",
       "      <td>480</td>\n",
       "      <td>43.044368</td>\n",
       "      <td>-87.932791</td>\n",
       "      <td>2013-01-01T00:31:28.000Z</td>\n",
       "      <td>53dc81dfad12874a4a2c2add</td>\n",
       "      <td>Milwaukee</td>\n",
       "      <td>...</td>\n",
       "      <td>4.844191</td>\n",
       "      <td>5.060838</td>\n",
       "      <td>5.198493</td>\n",
       "      <td>milwaukee</td>\n",
       "      <td>12</td>\n",
       "      <td>161</td>\n",
       "      <td>255</td>\n",
       "      <td>18</td>\n",
       "      <td>14839</td>\n",
       "      <td>NaN</td>\n",
       "    </tr>\n",
       "    <tr>\n",
       "      <th>3</th>\n",
       "      <td>/data/myazdani/images/2013/2013-01-01/00/A_e-C...</td>\n",
       "      <td>A_e-Cq-CAAAoL2K.jpg</td>\n",
       "      <td>http://pbs.twimg.com/media/A_e-Cq-CAAAoL2K.jpg</td>\n",
       "      <td>1712</td>\n",
       "      <td>1024</td>\n",
       "      <td>39.235123</td>\n",
       "      <td>-94.567517</td>\n",
       "      <td>2013-01-01T00:31:32.000Z</td>\n",
       "      <td>53dc81dfad12874a4a2c2af3</td>\n",
       "      <td>Chouteau</td>\n",
       "      <td>...</td>\n",
       "      <td>5.092156</td>\n",
       "      <td>5.169272</td>\n",
       "      <td>5.325943</td>\n",
       "      <td>kansas city</td>\n",
       "      <td>20</td>\n",
       "      <td>85</td>\n",
       "      <td>13</td>\n",
       "      <td>18</td>\n",
       "      <td>13988</td>\n",
       "      <td>NaN</td>\n",
       "    </tr>\n",
       "    <tr>\n",
       "      <th>4</th>\n",
       "      <td>/data/myazdani/images/2013/2013-01-01/00/A_e-E...</td>\n",
       "      <td>A_e-EF1CcAAWPR-.jpg</td>\n",
       "      <td>http://pbs.twimg.com/media/A_e-EF1CcAAWPR-.jpg</td>\n",
       "      <td>576</td>\n",
       "      <td>1024</td>\n",
       "      <td>35.123170</td>\n",
       "      <td>-89.980648</td>\n",
       "      <td>2013-01-01T00:31:37.000Z</td>\n",
       "      <td>53dc81dfad12874a4a2c2af1</td>\n",
       "      <td>Memphis</td>\n",
       "      <td>...</td>\n",
       "      <td>4.859657</td>\n",
       "      <td>5.076914</td>\n",
       "      <td>5.309013</td>\n",
       "      <td>memphis</td>\n",
       "      <td>172</td>\n",
       "      <td>255</td>\n",
       "      <td>255</td>\n",
       "      <td>18</td>\n",
       "      <td>13893</td>\n",
       "      <td>NaN</td>\n",
       "    </tr>\n",
       "  </tbody>\n",
       "</table>\n",
       "<p>5 rows × 23 columns</p>\n",
       "</div>"
      ],
      "text/plain": [
       "                                          image.path             filename  \\\n",
       "0  /data/myazdani/images/2013/2013-01-01/00/A-6iy...  A-6iyQmCYAE9w8B.jpg   \n",
       "1  /data/myazdani/images/2013/2013-01-01/00/A_e-7...  A_e-7RzCIAAQWFF.jpg   \n",
       "2  /data/myazdani/images/2013/2013-01-01/00/A_e-C...  A_e-CPHCAAES9Vc.jpg   \n",
       "3  /data/myazdani/images/2013/2013-01-01/00/A_e-C...  A_e-Cq-CAAAoL2K.jpg   \n",
       "4  /data/myazdani/images/2013/2013-01-01/00/A_e-E...  A_e-EF1CcAAWPR-.jpg   \n",
       "\n",
       "                                          img_url  size_h  size_w        lat  \\\n",
       "0  http://pbs.twimg.com/media/A-6iyQmCYAE9w8B.jpg     684     500  39.938049   \n",
       "1  http://pbs.twimg.com/media/A_e-7RzCIAAQWFF.jpg    1024     768  33.805219   \n",
       "2  http://pbs.twimg.com/media/A_e-CPHCAAES9Vc.jpg     640     480  43.044368   \n",
       "3  http://pbs.twimg.com/media/A_e-Cq-CAAAoL2K.jpg    1712    1024  39.235123   \n",
       "4  http://pbs.twimg.com/media/A_e-EF1CcAAWPR-.jpg     576    1024  35.123170   \n",
       "\n",
       "         lon                postedTime                  mongo_id  \\\n",
       "0 -82.886912  2013-01-01T00:40:38.000Z  53dc81ddad12874a4a2c188f   \n",
       "1 -84.300265  2013-01-01T00:35:22.000Z  53dc81dfad12874a4a2c2e3e   \n",
       "2 -87.932791  2013-01-01T00:31:28.000Z  53dc81dfad12874a4a2c2add   \n",
       "3 -94.567517  2013-01-01T00:31:32.000Z  53dc81dfad12874a4a2c2af3   \n",
       "4 -89.980648  2013-01-01T00:31:37.000Z  53dc81dfad12874a4a2c2af1   \n",
       "\n",
       "        location    ...     R.entropy  G.entropy  B.entropy         city  \\\n",
       "0       Columbus    ...      5.089188   5.034659   4.806793     columbus   \n",
       "1  North Decatur    ...      4.734248   5.024152   5.300740      atlanta   \n",
       "2      Milwaukee    ...      4.844191   5.060838   5.198493    milwaukee   \n",
       "3       Chouteau    ...      5.092156   5.169272   5.325943  kansas city   \n",
       "4        Memphis    ...      4.859657   5.076914   5.309013      memphis   \n",
       "\n",
       "   H.mode  S.mode V.mode  hour   WBAN  alt_wban  \n",
       "0      20      51    255    19  14821       NaN  \n",
       "1       8     124    149    19  53863       NaN  \n",
       "2      12     161    255    18  14839       NaN  \n",
       "3      20      85     13    18  13988       NaN  \n",
       "4     172     255    255    18  13893       NaN  \n",
       "\n",
       "[5 rows x 23 columns]"
      ]
     },
     "execution_count": 374,
     "metadata": {},
     "output_type": "execute_result"
    }
   ],
   "source": [
    "tweets.head()"
   ]
  },
  {
   "cell_type": "code",
   "execution_count": 375,
   "metadata": {
    "collapsed": false
   },
   "outputs": [],
   "source": [
    "tweets.postedTime = tweets.postedTime.apply(dateutil.parser.parse)"
   ]
  },
  {
   "cell_type": "code",
   "execution_count": 376,
   "metadata": {
    "collapsed": false
   },
   "outputs": [
    {
     "data": {
      "text/html": [
       "<div style=\"max-height:1000px;max-width:1500px;overflow:auto;\">\n",
       "<table border=\"1\" class=\"dataframe\">\n",
       "  <thead>\n",
       "    <tr style=\"text-align: right;\">\n",
       "      <th></th>\n",
       "      <th>postedTime</th>\n",
       "      <th>city</th>\n",
       "      <th>hour</th>\n",
       "      <th>WBAN</th>\n",
       "      <th>alt_wban</th>\n",
       "    </tr>\n",
       "  </thead>\n",
       "  <tbody>\n",
       "    <tr>\n",
       "      <th>0</th>\n",
       "      <td>2013-01-01 00:40:38+00:00</td>\n",
       "      <td>columbus</td>\n",
       "      <td>19</td>\n",
       "      <td>14821</td>\n",
       "      <td>NaN</td>\n",
       "    </tr>\n",
       "    <tr>\n",
       "      <th>1</th>\n",
       "      <td>2013-01-01 00:35:22+00:00</td>\n",
       "      <td>atlanta</td>\n",
       "      <td>19</td>\n",
       "      <td>53863</td>\n",
       "      <td>NaN</td>\n",
       "    </tr>\n",
       "    <tr>\n",
       "      <th>2</th>\n",
       "      <td>2013-01-01 00:31:28+00:00</td>\n",
       "      <td>milwaukee</td>\n",
       "      <td>18</td>\n",
       "      <td>14839</td>\n",
       "      <td>NaN</td>\n",
       "    </tr>\n",
       "    <tr>\n",
       "      <th>3</th>\n",
       "      <td>2013-01-01 00:31:32+00:00</td>\n",
       "      <td>kansas city</td>\n",
       "      <td>18</td>\n",
       "      <td>13988</td>\n",
       "      <td>NaN</td>\n",
       "    </tr>\n",
       "    <tr>\n",
       "      <th>4</th>\n",
       "      <td>2013-01-01 00:31:37+00:00</td>\n",
       "      <td>memphis</td>\n",
       "      <td>18</td>\n",
       "      <td>13893</td>\n",
       "      <td>NaN</td>\n",
       "    </tr>\n",
       "  </tbody>\n",
       "</table>\n",
       "</div>"
      ],
      "text/plain": [
       "                  postedTime         city  hour   WBAN  alt_wban\n",
       "0  2013-01-01 00:40:38+00:00     columbus    19  14821       NaN\n",
       "1  2013-01-01 00:35:22+00:00      atlanta    19  53863       NaN\n",
       "2  2013-01-01 00:31:28+00:00    milwaukee    18  14839       NaN\n",
       "3  2013-01-01 00:31:32+00:00  kansas city    18  13988       NaN\n",
       "4  2013-01-01 00:31:37+00:00      memphis    18  13893       NaN"
      ]
     },
     "execution_count": 376,
     "metadata": {},
     "output_type": "execute_result"
    }
   ],
   "source": [
    "tweets[['postedTime','city','hour','WBAN','alt_wban']].head()"
   ]
  },
  {
   "cell_type": "code",
   "execution_count": 377,
   "metadata": {
    "collapsed": true
   },
   "outputs": [],
   "source": [
    "tweets['gmt_hour'] = tweets.postedTime.map(lambda x:x.hour)"
   ]
  },
  {
   "cell_type": "code",
   "execution_count": 378,
   "metadata": {
    "collapsed": false
   },
   "outputs": [],
   "source": [
    "tweets['hour_delta'] = tweets.hour - tweets.gmt_hour"
   ]
  },
  {
   "cell_type": "code",
   "execution_count": 379,
   "metadata": {
    "collapsed": false
   },
   "outputs": [
    {
     "data": {
      "text/plain": [
       "-5     1670826\n",
       "-4     1177271\n",
       " 19     826264\n",
       "-6      793488\n",
       "-7      776654\n",
       " 17     647765\n",
       " 18     522307\n",
       " 20     403933\n",
       " 16     391197\n",
       "-8      378853\n",
       "dtype: int64"
      ]
     },
     "execution_count": 379,
     "metadata": {},
     "output_type": "execute_result"
    }
   ],
   "source": [
    "tweets['hour_delta'].value_counts()"
   ]
  },
  {
   "cell_type": "code",
   "execution_count": 380,
   "metadata": {
    "collapsed": false
   },
   "outputs": [],
   "source": [
    "tweets['gmt_date'] = tweets.postedTime.apply(datetime.datetime.date)"
   ]
  },
  {
   "cell_type": "code",
   "execution_count": 381,
   "metadata": {
    "collapsed": false
   },
   "outputs": [],
   "source": [
    "local_date = []\n",
    "n = len(tweets.index)\n",
    "for i in range(n):\n",
    "    if tweets.hour_delta.loc[i] > 0:\n",
    "        local_date.append(tweets.gmt_date.loc[i] - datetime.timedelta(days=1))\n",
    "    else:\n",
    "        local_date.append(tweets.gmt_date.loc[i])"
   ]
  },
  {
   "cell_type": "code",
   "execution_count": 382,
   "metadata": {
    "collapsed": false
   },
   "outputs": [
    {
     "data": {
      "text/plain": [
       "7588558"
      ]
     },
     "execution_count": 382,
     "metadata": {},
     "output_type": "execute_result"
    }
   ],
   "source": [
    "len(tweets.index)"
   ]
  },
  {
   "cell_type": "code",
   "execution_count": 383,
   "metadata": {
    "collapsed": false
   },
   "outputs": [
    {
     "data": {
      "text/plain": [
       "7588558"
      ]
     },
     "execution_count": 383,
     "metadata": {},
     "output_type": "execute_result"
    }
   ],
   "source": [
    "len(local_date)"
   ]
  },
  {
   "cell_type": "code",
   "execution_count": 384,
   "metadata": {
    "collapsed": true
   },
   "outputs": [],
   "source": [
    "tweets['local_date'] = local_date"
   ]
  },
  {
   "cell_type": "code",
   "execution_count": 385,
   "metadata": {
    "collapsed": false
   },
   "outputs": [
    {
     "name": "stdout",
     "output_type": "stream",
     "text": [
      "<class 'pandas.core.frame.DataFrame'>\n",
      "Int64Index: 7588558 entries, 0 to 7588557\n",
      "Data columns (total 27 columns):\n",
      "image.path    object\n",
      "filename      object\n",
      "img_url       object\n",
      "size_h        int64\n",
      "size_w        int64\n",
      "lat           float64\n",
      "lon           float64\n",
      "postedTime    object\n",
      "mongo_id      object\n",
      "location      object\n",
      "R.mode        int64\n",
      "G.mode        int64\n",
      "B.mode        int64\n",
      "R.entropy     float64\n",
      "G.entropy     float64\n",
      "B.entropy     float64\n",
      "city          object\n",
      "H.mode        int64\n",
      "S.mode        int64\n",
      "V.mode        int64\n",
      "hour          int64\n",
      "WBAN          int64\n",
      "alt_wban      float64\n",
      "gmt_hour      int64\n",
      "hour_delta    int64\n",
      "gmt_date      object\n",
      "local_date    object\n",
      "dtypes: float64(6), int64(12), object(9)\n",
      "memory usage: 1.6+ GB\n"
     ]
    }
   ],
   "source": [
    "tweets.info()"
   ]
  },
  {
   "cell_type": "code",
   "execution_count": 386,
   "metadata": {
    "collapsed": false
   },
   "outputs": [],
   "source": [
    "tweets.alt_wban.fillna(value=tweets.WBAN,inplace=True)"
   ]
  },
  {
   "cell_type": "code",
   "execution_count": 387,
   "metadata": {
    "collapsed": false
   },
   "outputs": [
    {
     "data": {
      "text/plain": [
       "0    14821\n",
       "1    53863\n",
       "2    14839\n",
       "3    13988\n",
       "4    13893\n",
       "Name: alt_wban, dtype: float64"
      ]
     },
     "execution_count": 387,
     "metadata": {},
     "output_type": "execute_result"
    }
   ],
   "source": [
    "tweets.alt_wban.head()"
   ]
  },
  {
   "cell_type": "code",
   "execution_count": 388,
   "metadata": {
    "collapsed": false
   },
   "outputs": [
    {
     "name": "stdout",
     "output_type": "stream",
     "text": [
      "<class 'pandas.core.frame.DataFrame'>\n",
      "Int64Index: 1505312 entries, 0 to 1505311\n",
      "Data columns (total 7 columns):\n",
      "WBAN          1505312 non-null int64\n",
      "temp          1505312 non-null float64\n",
      "humidity      1505312 non-null object\n",
      "wind          1505312 non-null float64\n",
      "rain          1505312 non-null float64\n",
      "resolution    1505312 non-null datetime64[ns]\n",
      "sky           1505312 non-null float64\n",
      "dtypes: datetime64[ns](1), float64(4), int64(1), object(1)\n",
      "memory usage: 91.9+ MB\n"
     ]
    }
   ],
   "source": [
    "weather.info()"
   ]
  },
  {
   "cell_type": "code",
   "execution_count": 389,
   "metadata": {
    "collapsed": true
   },
   "outputs": [],
   "source": [
    "weather['hour'] = weather.resolution.map(lambda x:x.hour)"
   ]
  },
  {
   "cell_type": "code",
   "execution_count": 390,
   "metadata": {
    "collapsed": false
   },
   "outputs": [
    {
     "name": "stdout",
     "output_type": "stream",
     "text": [
      "<class 'pandas.core.frame.DataFrame'>\n",
      "Int64Index: 1505312 entries, 0 to 1505311\n",
      "Data columns (total 8 columns):\n",
      "WBAN          1505312 non-null int64\n",
      "temp          1505312 non-null float64\n",
      "humidity      1505312 non-null object\n",
      "wind          1505312 non-null float64\n",
      "rain          1505312 non-null float64\n",
      "resolution    1505312 non-null datetime64[ns]\n",
      "sky           1505312 non-null float64\n",
      "hour          1505312 non-null int64\n",
      "dtypes: datetime64[ns](1), float64(4), int64(2), object(1)\n",
      "memory usage: 103.4+ MB\n"
     ]
    }
   ],
   "source": [
    "weather.info()"
   ]
  },
  {
   "cell_type": "code",
   "execution_count": 391,
   "metadata": {
    "collapsed": true
   },
   "outputs": [],
   "source": [
    "weather['local_date'] = weather.resolution.apply(datetime.datetime.date)"
   ]
  },
  {
   "cell_type": "code",
   "execution_count": 392,
   "metadata": {
    "collapsed": false
   },
   "outputs": [],
   "source": [
    "# okay this is hacky but the pandas multiindex joins are a bit under-documented\n",
    "\n",
    "weather['index_string'] = weather.WBAN.apply(str) + weather.local_date.apply(str) + weather.hour.apply(str)"
   ]
  },
  {
   "cell_type": "code",
   "execution_count": 393,
   "metadata": {
    "collapsed": true
   },
   "outputs": [],
   "source": [
    "weather.drop_duplicates(subset='index_string',inplace=True)"
   ]
  },
  {
   "cell_type": "code",
   "execution_count": 394,
   "metadata": {
    "collapsed": false
   },
   "outputs": [],
   "source": [
    "weather.set_index('index_string',inplace=True)"
   ]
  },
  {
   "cell_type": "code",
   "execution_count": 399,
   "metadata": {
    "collapsed": true
   },
   "outputs": [],
   "source": [
    "del weather['WBAN']\n",
    "del weather['local_date']\n",
    "del weather['hour']"
   ]
  },
  {
   "cell_type": "code",
   "execution_count": 395,
   "metadata": {
    "collapsed": false
   },
   "outputs": [],
   "source": [
    "tweets.rename(columns={'WBAN':'WBAN_discarded','alt_wban':'WBAN'},inplace=True)"
   ]
  },
  {
   "cell_type": "code",
   "execution_count": 413,
   "metadata": {
    "collapsed": false
   },
   "outputs": [],
   "source": [
    "tweets['index_string'] = tweets.WBAN.apply(int).apply(str) + tweets.local_date.apply(str) + tweets.hour.apply(str)"
   ]
  },
  {
   "cell_type": "code",
   "execution_count": 414,
   "metadata": {
    "collapsed": false
   },
   "outputs": [
    {
     "data": {
      "text/plain": [
       "0    148212012-12-3119\n",
       "1    538632012-12-3119\n",
       "2    148392012-12-3118\n",
       "3    139882012-12-3118\n",
       "4    138932012-12-3118\n",
       "Name: index_string, dtype: object"
      ]
     },
     "execution_count": 414,
     "metadata": {},
     "output_type": "execute_result"
    }
   ],
   "source": [
    "tweets.index_string.head()"
   ]
  },
  {
   "cell_type": "code",
   "execution_count": 415,
   "metadata": {
    "collapsed": false
   },
   "outputs": [
    {
     "data": {
      "text/html": [
       "<div style=\"max-height:1000px;max-width:1500px;overflow:auto;\">\n",
       "<table border=\"1\" class=\"dataframe\">\n",
       "  <thead>\n",
       "    <tr style=\"text-align: right;\">\n",
       "      <th></th>\n",
       "      <th>temp</th>\n",
       "      <th>humidity</th>\n",
       "      <th>wind</th>\n",
       "      <th>rain</th>\n",
       "      <th>resolution</th>\n",
       "      <th>sky</th>\n",
       "    </tr>\n",
       "    <tr>\n",
       "      <th>index_string</th>\n",
       "      <th></th>\n",
       "      <th></th>\n",
       "      <th></th>\n",
       "      <th></th>\n",
       "      <th></th>\n",
       "      <th></th>\n",
       "    </tr>\n",
       "  </thead>\n",
       "  <tbody>\n",
       "    <tr>\n",
       "      <th>30172013-01-010</th>\n",
       "      <td>11</td>\n",
       "      <td>77</td>\n",
       "      <td>8</td>\n",
       "      <td>0</td>\n",
       "      <td>2013-01-01 00:53:00</td>\n",
       "      <td>0.4375</td>\n",
       "    </tr>\n",
       "    <tr>\n",
       "      <th>30172013-01-011</th>\n",
       "      <td>11</td>\n",
       "      <td>77</td>\n",
       "      <td>5</td>\n",
       "      <td>0</td>\n",
       "      <td>2013-01-01 01:53:00</td>\n",
       "      <td>0.4375</td>\n",
       "    </tr>\n",
       "    <tr>\n",
       "      <th>30172013-01-012</th>\n",
       "      <td>7</td>\n",
       "      <td>76</td>\n",
       "      <td>0</td>\n",
       "      <td>0</td>\n",
       "      <td>2013-01-01 02:53:00</td>\n",
       "      <td>0.4375</td>\n",
       "    </tr>\n",
       "    <tr>\n",
       "      <th>30172013-01-013</th>\n",
       "      <td>12</td>\n",
       "      <td>73</td>\n",
       "      <td>5</td>\n",
       "      <td>0</td>\n",
       "      <td>2013-01-01 03:53:00</td>\n",
       "      <td>0.7500</td>\n",
       "    </tr>\n",
       "    <tr>\n",
       "      <th>30172013-01-014</th>\n",
       "      <td>10</td>\n",
       "      <td>76</td>\n",
       "      <td>7</td>\n",
       "      <td>0</td>\n",
       "      <td>2013-01-01 04:53:00</td>\n",
       "      <td>0.7500</td>\n",
       "    </tr>\n",
       "  </tbody>\n",
       "</table>\n",
       "</div>"
      ],
      "text/plain": [
       "                 temp humidity  wind  rain          resolution     sky\n",
       "index_string                                                          \n",
       "30172013-01-010    11       77     8     0 2013-01-01 00:53:00  0.4375\n",
       "30172013-01-011    11       77     5     0 2013-01-01 01:53:00  0.4375\n",
       "30172013-01-012     7       76     0     0 2013-01-01 02:53:00  0.4375\n",
       "30172013-01-013    12       73     5     0 2013-01-01 03:53:00  0.7500\n",
       "30172013-01-014    10       76     7     0 2013-01-01 04:53:00  0.7500"
      ]
     },
     "execution_count": 415,
     "metadata": {},
     "output_type": "execute_result"
    }
   ],
   "source": [
    "weather.head()"
   ]
  },
  {
   "cell_type": "code",
   "execution_count": 418,
   "metadata": {
    "collapsed": true
   },
   "outputs": [],
   "source": [
    "del weather['resolution']"
   ]
  },
  {
   "cell_type": "code",
   "execution_count": 426,
   "metadata": {
    "collapsed": false
   },
   "outputs": [],
   "source": [
    "df = tweets.join(weather,on='index_string')"
   ]
  },
  {
   "cell_type": "code",
   "execution_count": 427,
   "metadata": {
    "collapsed": false
   },
   "outputs": [
    {
     "data": {
      "text/plain": [
       "7588558"
      ]
     },
     "execution_count": 427,
     "metadata": {},
     "output_type": "execute_result"
    }
   ],
   "source": [
    "len(df.index)"
   ]
  },
  {
   "cell_type": "code",
   "execution_count": 428,
   "metadata": {
    "collapsed": false
   },
   "outputs": [
    {
     "name": "stdout",
     "output_type": "stream",
     "text": [
      "<class 'pandas.core.frame.DataFrame'>\n",
      "Int64Index: 7588558 entries, 0 to 7588557\n",
      "Data columns (total 33 columns):\n",
      "image.path        object\n",
      "filename          object\n",
      "img_url           object\n",
      "size_h            int64\n",
      "size_w            int64\n",
      "lat               float64\n",
      "lon               float64\n",
      "postedTime        object\n",
      "mongo_id          object\n",
      "location          object\n",
      "R.mode            int64\n",
      "G.mode            int64\n",
      "B.mode            int64\n",
      "R.entropy         float64\n",
      "G.entropy         float64\n",
      "B.entropy         float64\n",
      "city              object\n",
      "H.mode            int64\n",
      "S.mode            int64\n",
      "V.mode            int64\n",
      "hour              int64\n",
      "WBAN_discarded    int64\n",
      "WBAN              float64\n",
      "gmt_hour          int64\n",
      "hour_delta        int64\n",
      "gmt_date          object\n",
      "local_date        object\n",
      "index_string      object\n",
      "temp              float64\n",
      "humidity          object\n",
      "wind              float64\n",
      "rain              float64\n",
      "sky               float64\n",
      "dtypes: float64(10), int64(12), object(11)\n",
      "memory usage: 1.9+ GB\n"
     ]
    }
   ],
   "source": [
    "df.info()"
   ]
  },
  {
   "cell_type": "code",
   "execution_count": 429,
   "metadata": {
    "collapsed": true
   },
   "outputs": [],
   "source": [
    "del df['WBAN_discarded']\n",
    "del df['WBAN']\n",
    "del df['gmt_hour']\n",
    "del df['hour_delta']\n",
    "del df['index_string']"
   ]
  },
  {
   "cell_type": "code",
   "execution_count": 431,
   "metadata": {
    "collapsed": true
   },
   "outputs": [],
   "source": [
    "del df['gmt_date']"
   ]
  },
  {
   "cell_type": "code",
   "execution_count": 432,
   "metadata": {
    "collapsed": false
   },
   "outputs": [
    {
     "name": "stdout",
     "output_type": "stream",
     "text": [
      "<class 'pandas.core.frame.DataFrame'>\n",
      "Int64Index: 7588558 entries, 0 to 7588557\n",
      "Data columns (total 27 columns):\n",
      "image.path    object\n",
      "filename      object\n",
      "img_url       object\n",
      "size_h        int64\n",
      "size_w        int64\n",
      "lat           float64\n",
      "lon           float64\n",
      "postedTime    object\n",
      "mongo_id      object\n",
      "location      object\n",
      "R.mode        int64\n",
      "G.mode        int64\n",
      "B.mode        int64\n",
      "R.entropy     float64\n",
      "G.entropy     float64\n",
      "B.entropy     float64\n",
      "city          object\n",
      "H.mode        int64\n",
      "S.mode        int64\n",
      "V.mode        int64\n",
      "hour          int64\n",
      "local_date    object\n",
      "temp          float64\n",
      "humidity      object\n",
      "wind          float64\n",
      "rain          float64\n",
      "sky           float64\n",
      "dtypes: float64(9), int64(9), object(9)\n",
      "memory usage: 1.6+ GB\n"
     ]
    }
   ],
   "source": [
    "df.info()"
   ]
  },
  {
   "cell_type": "code",
   "execution_count": 433,
   "metadata": {
    "collapsed": true
   },
   "outputs": [],
   "source": [
    "df.to_csv('/Users/damoncrockett/Dropbox/TwitterPaper/data/twitter/US_HSV_modes_top60_cities_weather.csv',\n",
    "          index=False)"
   ]
  }
 ],
 "metadata": {
  "kernelspec": {
   "display_name": "Python 2",
   "language": "python",
   "name": "python2"
  },
  "language_info": {
   "codemirror_mode": {
    "name": "ipython",
    "version": 2
   },
   "file_extension": ".py",
   "mimetype": "text/x-python",
   "name": "python",
   "nbconvert_exporter": "python",
   "pygments_lexer": "ipython2",
   "version": "2.7.6"
  }
 },
 "nbformat": 4,
 "nbformat_minor": 0
}
