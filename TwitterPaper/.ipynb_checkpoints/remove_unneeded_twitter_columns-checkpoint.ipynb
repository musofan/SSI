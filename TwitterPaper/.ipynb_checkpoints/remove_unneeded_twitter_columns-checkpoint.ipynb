{
 "cells": [
  {
   "cell_type": "code",
   "execution_count": 19,
   "metadata": {
    "collapsed": true
   },
   "outputs": [],
   "source": [
    "import pandas as pd"
   ]
  },
  {
   "cell_type": "code",
   "execution_count": 20,
   "metadata": {
    "collapsed": true
   },
   "outputs": [],
   "source": [
    "df = pd.read_csv('/data/damoncrockett/twitter_metadata_2011.csv')"
   ]
  },
  {
   "cell_type": "code",
   "execution_count": 21,
   "metadata": {
    "collapsed": false
   },
   "outputs": [
    {
     "name": "stdout",
     "output_type": "stream",
     "text": [
      "<class 'pandas.core.frame.DataFrame'>\n",
      "Int64Index: 2030833 entries, 0 to 2030832\n",
      "Data columns (total 16 columns):\n",
      "display_url       object\n",
      "media_url         object\n",
      "size_h            int64\n",
      "size_w            int64\n",
      "lat               float64\n",
      "lon               float64\n",
      "favoritesCount    int64\n",
      "followersCount    int64\n",
      "friendsCount      int64\n",
      "statusesCount     int64\n",
      "profile_url       object\n",
      "post_url          object\n",
      "img_url           object\n",
      "postedTime        object\n",
      "location          object\n",
      "country           object\n",
      "dtypes: float64(2), int64(6), object(8)\n",
      "memory usage: 263.4+ MB\n"
     ]
    }
   ],
   "source": [
    "df.info()"
   ]
  },
  {
   "cell_type": "code",
   "execution_count": 16,
   "metadata": {
    "collapsed": true
   },
   "outputs": [],
   "source": [
    "df = df[['media_url',\n",
    "         'lat',\n",
    "         'lon',\n",
    "         'favoritesCount',\n",
    "         'followersCount',\n",
    "         'friendsCount',\n",
    "         'statusesCount',\n",
    "         'profile_url',\n",
    "         'postedTime',\n",
    "         'location',\n",
    "         'country']]"
   ]
  },
  {
   "cell_type": "code",
   "execution_count": 17,
   "metadata": {
    "collapsed": false
   },
   "outputs": [
    {
     "name": "stdout",
     "output_type": "stream",
     "text": [
      "<class 'pandas.core.frame.DataFrame'>\n",
      "Int64Index: 103499282 entries, 0 to 103499281\n",
      "Data columns (total 11 columns):\n",
      "media_url         object\n",
      "lat               float64\n",
      "lon               float64\n",
      "favoritesCount    int64\n",
      "followersCount    int64\n",
      "friendsCount      int64\n",
      "statusesCount     int64\n",
      "profile_url       object\n",
      "postedTime        object\n",
      "location          object\n",
      "country           object\n",
      "dtypes: float64(2), int64(4), object(5)\n",
      "memory usage: 9.3+ GB\n"
     ]
    }
   ],
   "source": [
    "df.info()"
   ]
  },
  {
   "cell_type": "code",
   "execution_count": 18,
   "metadata": {
    "collapsed": true
   },
   "outputs": [],
   "source": [
    "df.to_csv('/data/damoncrockett/twitter_metadata_2011_CLEAN.csv',index=False)"
   ]
  }
 ],
 "metadata": {
  "kernelspec": {
   "display_name": "Python 2",
   "language": "python",
   "name": "python2"
  },
  "language_info": {
   "codemirror_mode": {
    "name": "ipython",
    "version": 2
   },
   "file_extension": ".py",
   "mimetype": "text/x-python",
   "name": "python",
   "nbconvert_exporter": "python",
   "pygments_lexer": "ipython2",
   "version": "2.7.6"
  }
 },
 "nbformat": 4,
 "nbformat_minor": 0
}
