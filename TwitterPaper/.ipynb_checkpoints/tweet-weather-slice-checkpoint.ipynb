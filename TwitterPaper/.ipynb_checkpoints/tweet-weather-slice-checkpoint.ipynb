{
 "cells": [
  {
   "cell_type": "code",
   "execution_count": 1,
   "metadata": {
    "collapsed": true
   },
   "outputs": [],
   "source": [
    "import pandas as pd"
   ]
  },
  {
   "cell_type": "code",
   "execution_count": 2,
   "metadata": {
    "collapsed": false
   },
   "outputs": [
    {
     "name": "stderr",
     "output_type": "stream",
     "text": [
      "/Library/Python/2.7/site-packages/pandas/io/parsers.py:1164: DtypeWarning: Columns (23) have mixed types. Specify dtype option on import or set low_memory=False.\n",
      "  data = self._reader.read(nrows)\n"
     ]
    }
   ],
   "source": [
    "d = pd.read_csv('/Users/damoncrockett/Dropbox/TwitterPaper/data/twitter/US_HSV_modes_top60_cities_weather.csv')"
   ]
  },
  {
   "cell_type": "code",
   "execution_count": 6,
   "metadata": {
    "collapsed": false
   },
   "outputs": [],
   "source": [
    "d.dropna(inplace=True)"
   ]
  },
  {
   "cell_type": "code",
   "execution_count": 8,
   "metadata": {
    "collapsed": false
   },
   "outputs": [],
   "source": [
    "d.reset_index(drop=True,inplace=True)"
   ]
  },
  {
   "cell_type": "code",
   "execution_count": 9,
   "metadata": {
    "collapsed": false
   },
   "outputs": [
    {
     "name": "stdout",
     "output_type": "stream",
     "text": [
      "<class 'pandas.core.frame.DataFrame'>\n",
      "Int64Index: 7019585 entries, 0 to 7019584\n",
      "Data columns (total 27 columns):\n",
      "image.path    object\n",
      "filename      object\n",
      "img_url       object\n",
      "size_h        int64\n",
      "size_w        int64\n",
      "lat           float64\n",
      "lon           float64\n",
      "postedTime    object\n",
      "mongo_id      object\n",
      "location      object\n",
      "R.mode        int64\n",
      "G.mode        int64\n",
      "B.mode        int64\n",
      "R.entropy     float64\n",
      "G.entropy     float64\n",
      "B.entropy     float64\n",
      "city          object\n",
      "H.mode        int64\n",
      "S.mode        int64\n",
      "V.mode        int64\n",
      "hour          int64\n",
      "local_date    object\n",
      "temp          float64\n",
      "humidity      object\n",
      "wind          float64\n",
      "rain          float64\n",
      "sky           float64\n",
      "dtypes: float64(9), int64(9), object(9)\n",
      "memory usage: 1.5+ GB\n"
     ]
    }
   ],
   "source": [
    "d.info()"
   ]
  },
  {
   "cell_type": "code",
   "execution_count": 10,
   "metadata": {
    "collapsed": true
   },
   "outputs": [],
   "source": [
    "del d['image.path']\n",
    "del d['filename']\n",
    "del d['img_url']\n",
    "del d['size_h']\n",
    "del d['size_w']\n",
    "del d['postedTime']\n",
    "del d['mongo_id']\n",
    "del d['location']"
   ]
  },
  {
   "cell_type": "code",
   "execution_count": 11,
   "metadata": {
    "collapsed": false
   },
   "outputs": [
    {
     "name": "stdout",
     "output_type": "stream",
     "text": [
      "<class 'pandas.core.frame.DataFrame'>\n",
      "Int64Index: 7019585 entries, 0 to 7019584\n",
      "Data columns (total 19 columns):\n",
      "lat           float64\n",
      "lon           float64\n",
      "R.mode        int64\n",
      "G.mode        int64\n",
      "B.mode        int64\n",
      "R.entropy     float64\n",
      "G.entropy     float64\n",
      "B.entropy     float64\n",
      "city          object\n",
      "H.mode        int64\n",
      "S.mode        int64\n",
      "V.mode        int64\n",
      "hour          int64\n",
      "local_date    object\n",
      "temp          float64\n",
      "humidity      object\n",
      "wind          float64\n",
      "rain          float64\n",
      "sky           float64\n",
      "dtypes: float64(9), int64(7), object(3)\n",
      "memory usage: 1.0+ GB\n"
     ]
    }
   ],
   "source": [
    "d.info()"
   ]
  },
  {
   "cell_type": "code",
   "execution_count": 12,
   "metadata": {
    "collapsed": true
   },
   "outputs": [],
   "source": [
    "d.to_csv('/Users/damoncrockett/Dropbox/TwitterPaper/data/twitter/tweet_weather_truncated.csv')"
   ]
  },
  {
   "cell_type": "code",
   "execution_count": null,
   "metadata": {
    "collapsed": true
   },
   "outputs": [],
   "source": []
  }
 ],
 "metadata": {
  "kernelspec": {
   "display_name": "Python 2",
   "language": "python",
   "name": "python2"
  },
  "language_info": {
   "codemirror_mode": {
    "name": "ipython",
    "version": 2
   },
   "file_extension": ".py",
   "mimetype": "text/x-python",
   "name": "python",
   "nbconvert_exporter": "python",
   "pygments_lexer": "ipython2",
   "version": "2.7.6"
  }
 },
 "nbformat": 4,
 "nbformat_minor": 0
}
