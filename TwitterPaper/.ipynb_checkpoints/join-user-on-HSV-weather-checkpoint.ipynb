{
 "cells": [
  {
   "cell_type": "code",
   "execution_count": 1,
   "metadata": {
    "collapsed": true
   },
   "outputs": [],
   "source": [
    "import pandas as pd"
   ]
  },
  {
   "cell_type": "code",
   "execution_count": 2,
   "metadata": {
    "collapsed": true
   },
   "outputs": [],
   "source": [
    "df = pd.read_csv('/data/damoncrockett/2013_id_actor_WHOLE.csv')"
   ]
  },
  {
   "cell_type": "code",
   "execution_count": 3,
   "metadata": {
    "collapsed": true
   },
   "outputs": [],
   "source": [
    "tmp = df[:10]"
   ]
  },
  {
   "cell_type": "code",
   "execution_count": 4,
   "metadata": {
    "collapsed": false
   },
   "outputs": [
    {
     "data": {
      "text/html": [
       "<div style=\"max-height:1000px;max-width:1500px;overflow:auto;\">\n",
       "<table border=\"1\" class=\"dataframe\">\n",
       "  <thead>\n",
       "    <tr style=\"text-align: right;\">\n",
       "      <th></th>\n",
       "      <th>_id</th>\n",
       "      <th>actor</th>\n",
       "    </tr>\n",
       "  </thead>\n",
       "  <tbody>\n",
       "    <tr>\n",
       "      <th>0</th>\n",
       "      <td>53dc4340ad12874a4a91ebd1</td>\n",
       "      <td>{u'id': u'id:twitter.com:258583581'}</td>\n",
       "    </tr>\n",
       "    <tr>\n",
       "      <th>1</th>\n",
       "      <td>53dc4340ad12874a4a91ebd2</td>\n",
       "      <td>{u'id': u'id:twitter.com:220796708'}</td>\n",
       "    </tr>\n",
       "    <tr>\n",
       "      <th>2</th>\n",
       "      <td>53dc4340ad12874a4a91ebd3</td>\n",
       "      <td>{u'id': u'id:twitter.com:212518723'}</td>\n",
       "    </tr>\n",
       "    <tr>\n",
       "      <th>3</th>\n",
       "      <td>53dc4340ad12874a4a91ebd4</td>\n",
       "      <td>{u'id': u'id:twitter.com:767641584'}</td>\n",
       "    </tr>\n",
       "    <tr>\n",
       "      <th>4</th>\n",
       "      <td>53dc4340ad12874a4a91ebd5</td>\n",
       "      <td>{u'id': u'id:twitter.com:377702853'}</td>\n",
       "    </tr>\n",
       "    <tr>\n",
       "      <th>5</th>\n",
       "      <td>53dc4340ad12874a4a91ebd6</td>\n",
       "      <td>{u'id': u'id:twitter.com:372784422'}</td>\n",
       "    </tr>\n",
       "    <tr>\n",
       "      <th>6</th>\n",
       "      <td>53dc4340ad12874a4a91ebd7</td>\n",
       "      <td>{u'id': u'id:twitter.com:1085370204'}</td>\n",
       "    </tr>\n",
       "    <tr>\n",
       "      <th>7</th>\n",
       "      <td>53dc4340ad12874a4a91ebd8</td>\n",
       "      <td>{u'id': u'id:twitter.com:143810454'}</td>\n",
       "    </tr>\n",
       "    <tr>\n",
       "      <th>8</th>\n",
       "      <td>53dc4340ad12874a4a91ebd9</td>\n",
       "      <td>{u'id': u'id:twitter.com:630840838'}</td>\n",
       "    </tr>\n",
       "    <tr>\n",
       "      <th>9</th>\n",
       "      <td>53dc4340ad12874a4a91ebda</td>\n",
       "      <td>{u'id': u'id:twitter.com:368446882'}</td>\n",
       "    </tr>\n",
       "  </tbody>\n",
       "</table>\n",
       "</div>"
      ],
      "text/plain": [
       "                        _id                                  actor\n",
       "0  53dc4340ad12874a4a91ebd1   {u'id': u'id:twitter.com:258583581'}\n",
       "1  53dc4340ad12874a4a91ebd2   {u'id': u'id:twitter.com:220796708'}\n",
       "2  53dc4340ad12874a4a91ebd3   {u'id': u'id:twitter.com:212518723'}\n",
       "3  53dc4340ad12874a4a91ebd4   {u'id': u'id:twitter.com:767641584'}\n",
       "4  53dc4340ad12874a4a91ebd5   {u'id': u'id:twitter.com:377702853'}\n",
       "5  53dc4340ad12874a4a91ebd6   {u'id': u'id:twitter.com:372784422'}\n",
       "6  53dc4340ad12874a4a91ebd7  {u'id': u'id:twitter.com:1085370204'}\n",
       "7  53dc4340ad12874a4a91ebd8   {u'id': u'id:twitter.com:143810454'}\n",
       "8  53dc4340ad12874a4a91ebd9   {u'id': u'id:twitter.com:630840838'}\n",
       "9  53dc4340ad12874a4a91ebda   {u'id': u'id:twitter.com:368446882'}"
      ]
     },
     "execution_count": 4,
     "metadata": {},
     "output_type": "execute_result"
    }
   ],
   "source": [
    "tmp"
   ]
  },
  {
   "cell_type": "code",
   "execution_count": 6,
   "metadata": {
    "collapsed": false
   },
   "outputs": [
    {
     "name": "stderr",
     "output_type": "stream",
     "text": [
      "/usr/local/lib/python2.7/dist-packages/pandas/core/generic.py:2110: SettingWithCopyWarning: \n",
      "A value is trying to be set on a copy of a slice from a DataFrame.\n",
      "Try using .loc[row_indexer,col_indexer] = value instead\n",
      "\n",
      "See the the caveats in the documentation: http://pandas.pydata.org/pandas-docs/stable/indexing.html#indexing-view-versus-copy\n",
      "  self[name] = value\n"
     ]
    }
   ],
   "source": [
    "tmp.actor = tmp.actor.map(lambda x: x.lstrip(\"{u'id': u'id:twitter.com:\").rstrip(\"'}\"))"
   ]
  },
  {
   "cell_type": "code",
   "execution_count": 7,
   "metadata": {
    "collapsed": false
   },
   "outputs": [
    {
     "data": {
      "text/html": [
       "<div style=\"max-height:1000px;max-width:1500px;overflow:auto;\">\n",
       "<table border=\"1\" class=\"dataframe\">\n",
       "  <thead>\n",
       "    <tr style=\"text-align: right;\">\n",
       "      <th></th>\n",
       "      <th>_id</th>\n",
       "      <th>actor</th>\n",
       "    </tr>\n",
       "  </thead>\n",
       "  <tbody>\n",
       "    <tr>\n",
       "      <th>0</th>\n",
       "      <td>53dc4340ad12874a4a91ebd1</td>\n",
       "      <td>258583581</td>\n",
       "    </tr>\n",
       "    <tr>\n",
       "      <th>1</th>\n",
       "      <td>53dc4340ad12874a4a91ebd2</td>\n",
       "      <td>220796708</td>\n",
       "    </tr>\n",
       "    <tr>\n",
       "      <th>2</th>\n",
       "      <td>53dc4340ad12874a4a91ebd3</td>\n",
       "      <td>212518723</td>\n",
       "    </tr>\n",
       "    <tr>\n",
       "      <th>3</th>\n",
       "      <td>53dc4340ad12874a4a91ebd4</td>\n",
       "      <td>767641584</td>\n",
       "    </tr>\n",
       "    <tr>\n",
       "      <th>4</th>\n",
       "      <td>53dc4340ad12874a4a91ebd5</td>\n",
       "      <td>377702853</td>\n",
       "    </tr>\n",
       "    <tr>\n",
       "      <th>5</th>\n",
       "      <td>53dc4340ad12874a4a91ebd6</td>\n",
       "      <td>372784422</td>\n",
       "    </tr>\n",
       "    <tr>\n",
       "      <th>6</th>\n",
       "      <td>53dc4340ad12874a4a91ebd7</td>\n",
       "      <td>1085370204</td>\n",
       "    </tr>\n",
       "    <tr>\n",
       "      <th>7</th>\n",
       "      <td>53dc4340ad12874a4a91ebd8</td>\n",
       "      <td>143810454</td>\n",
       "    </tr>\n",
       "    <tr>\n",
       "      <th>8</th>\n",
       "      <td>53dc4340ad12874a4a91ebd9</td>\n",
       "      <td>630840838</td>\n",
       "    </tr>\n",
       "    <tr>\n",
       "      <th>9</th>\n",
       "      <td>53dc4340ad12874a4a91ebda</td>\n",
       "      <td>368446882</td>\n",
       "    </tr>\n",
       "  </tbody>\n",
       "</table>\n",
       "</div>"
      ],
      "text/plain": [
       "                        _id       actor\n",
       "0  53dc4340ad12874a4a91ebd1   258583581\n",
       "1  53dc4340ad12874a4a91ebd2   220796708\n",
       "2  53dc4340ad12874a4a91ebd3   212518723\n",
       "3  53dc4340ad12874a4a91ebd4   767641584\n",
       "4  53dc4340ad12874a4a91ebd5   377702853\n",
       "5  53dc4340ad12874a4a91ebd6   372784422\n",
       "6  53dc4340ad12874a4a91ebd7  1085370204\n",
       "7  53dc4340ad12874a4a91ebd8   143810454\n",
       "8  53dc4340ad12874a4a91ebd9   630840838\n",
       "9  53dc4340ad12874a4a91ebda   368446882"
      ]
     },
     "execution_count": 7,
     "metadata": {},
     "output_type": "execute_result"
    }
   ],
   "source": [
    "tmp"
   ]
  },
  {
   "cell_type": "code",
   "execution_count": 8,
   "metadata": {
    "collapsed": true
   },
   "outputs": [],
   "source": [
    "df.actor = df.actor.map(lambda x: x.lstrip(\"{u'id': u'id:twitter.com:\").rstrip(\"'}\"))"
   ]
  },
  {
   "cell_type": "code",
   "execution_count": 10,
   "metadata": {
    "collapsed": false
   },
   "outputs": [
    {
     "data": {
      "text/html": [
       "<div style=\"max-height:1000px;max-width:1500px;overflow:auto;\">\n",
       "<table border=\"1\" class=\"dataframe\">\n",
       "  <thead>\n",
       "    <tr style=\"text-align: right;\">\n",
       "      <th></th>\n",
       "      <th>_id</th>\n",
       "      <th>actor</th>\n",
       "    </tr>\n",
       "  </thead>\n",
       "  <tbody>\n",
       "    <tr>\n",
       "      <th>0</th>\n",
       "      <td>53dc4340ad12874a4a91ebd1</td>\n",
       "      <td>258583581</td>\n",
       "    </tr>\n",
       "    <tr>\n",
       "      <th>1</th>\n",
       "      <td>53dc4340ad12874a4a91ebd2</td>\n",
       "      <td>220796708</td>\n",
       "    </tr>\n",
       "    <tr>\n",
       "      <th>2</th>\n",
       "      <td>53dc4340ad12874a4a91ebd3</td>\n",
       "      <td>212518723</td>\n",
       "    </tr>\n",
       "    <tr>\n",
       "      <th>3</th>\n",
       "      <td>53dc4340ad12874a4a91ebd4</td>\n",
       "      <td>767641584</td>\n",
       "    </tr>\n",
       "  </tbody>\n",
       "</table>\n",
       "</div>"
      ],
      "text/plain": [
       "                        _id      actor\n",
       "0  53dc4340ad12874a4a91ebd1  258583581\n",
       "1  53dc4340ad12874a4a91ebd2  220796708\n",
       "2  53dc4340ad12874a4a91ebd3  212518723\n",
       "3  53dc4340ad12874a4a91ebd4  767641584"
      ]
     },
     "execution_count": 10,
     "metadata": {},
     "output_type": "execute_result"
    }
   ],
   "source": [
    "df.head(4)"
   ]
  },
  {
   "cell_type": "code",
   "execution_count": 11,
   "metadata": {
    "collapsed": false
   },
   "outputs": [
    {
     "name": "stderr",
     "output_type": "stream",
     "text": [
      "/usr/local/lib/python2.7/dist-packages/pandas/io/parsers.py:1170: DtypeWarning: Columns (23) have mixed types. Specify dtype option on import or set low_memory=False.\n",
      "  data = self._reader.read(nrows)\n"
     ]
    }
   ],
   "source": [
    "t = pd.read_csv('/data/damoncrockett/US_HSV_modes_top60_cities_weather.csv')"
   ]
  },
  {
   "cell_type": "code",
   "execution_count": 12,
   "metadata": {
    "collapsed": false
   },
   "outputs": [
    {
     "name": "stdout",
     "output_type": "stream",
     "text": [
      "<class 'pandas.core.frame.DataFrame'>\n",
      "Int64Index: 7588558 entries, 0 to 7588557\n",
      "Data columns (total 27 columns):\n",
      "image.path    object\n",
      "filename      object\n",
      "img_url       object\n",
      "size_h        int64\n",
      "size_w        int64\n",
      "lat           float64\n",
      "lon           float64\n",
      "postedTime    object\n",
      "mongo_id      object\n",
      "location      object\n",
      "R.mode        int64\n",
      "G.mode        int64\n",
      "B.mode        int64\n",
      "R.entropy     float64\n",
      "G.entropy     float64\n",
      "B.entropy     float64\n",
      "city          object\n",
      "H.mode        int64\n",
      "S.mode        int64\n",
      "V.mode        int64\n",
      "hour          int64\n",
      "local_date    object\n",
      "temp          float64\n",
      "humidity      object\n",
      "wind          float64\n",
      "rain          float64\n",
      "sky           float64\n",
      "dtypes: float64(9), int64(9), object(9)\n",
      "memory usage: 1.6+ GB\n"
     ]
    }
   ],
   "source": [
    "t.info()"
   ]
  },
  {
   "cell_type": "code",
   "execution_count": 13,
   "metadata": {
    "collapsed": true
   },
   "outputs": [],
   "source": [
    "df.rename(columns={'_id':'mongo_id'},inplace=True)"
   ]
  },
  {
   "cell_type": "code",
   "execution_count": 14,
   "metadata": {
    "collapsed": true
   },
   "outputs": [],
   "source": [
    "df.set_index('mongo_id',inplace=True)"
   ]
  },
  {
   "cell_type": "code",
   "execution_count": 15,
   "metadata": {
    "collapsed": false
   },
   "outputs": [
    {
     "name": "stdout",
     "output_type": "stream",
     "text": [
      "<class 'pandas.core.frame.DataFrame'>\n",
      "Index: 117022828 entries, 53dc4340ad12874a4a91ebd1 to 53dced8dad12874a4a8b8c44\n",
      "Data columns (total 1 columns):\n",
      "actor    object\n",
      "dtypes: object(1)\n",
      "memory usage: 1.7+ GB\n"
     ]
    }
   ],
   "source": [
    "df.info()"
   ]
  },
  {
   "cell_type": "code",
   "execution_count": 16,
   "metadata": {
    "collapsed": false
   },
   "outputs": [
    {
     "data": {
      "text/html": [
       "<div style=\"max-height:1000px;max-width:1500px;overflow:auto;\">\n",
       "<table border=\"1\" class=\"dataframe\">\n",
       "  <thead>\n",
       "    <tr style=\"text-align: right;\">\n",
       "      <th></th>\n",
       "      <th>actor</th>\n",
       "    </tr>\n",
       "    <tr>\n",
       "      <th>mongo_id</th>\n",
       "      <th></th>\n",
       "    </tr>\n",
       "  </thead>\n",
       "  <tbody>\n",
       "    <tr>\n",
       "      <th>53dc4340ad12874a4a91ebd1</th>\n",
       "      <td>258583581</td>\n",
       "    </tr>\n",
       "    <tr>\n",
       "      <th>53dc4340ad12874a4a91ebd2</th>\n",
       "      <td>220796708</td>\n",
       "    </tr>\n",
       "    <tr>\n",
       "      <th>53dc4340ad12874a4a91ebd3</th>\n",
       "      <td>212518723</td>\n",
       "    </tr>\n",
       "    <tr>\n",
       "      <th>53dc4340ad12874a4a91ebd4</th>\n",
       "      <td>767641584</td>\n",
       "    </tr>\n",
       "    <tr>\n",
       "      <th>53dc4340ad12874a4a91ebd5</th>\n",
       "      <td>377702853</td>\n",
       "    </tr>\n",
       "  </tbody>\n",
       "</table>\n",
       "</div>"
      ],
      "text/plain": [
       "                              actor\n",
       "mongo_id                           \n",
       "53dc4340ad12874a4a91ebd1  258583581\n",
       "53dc4340ad12874a4a91ebd2  220796708\n",
       "53dc4340ad12874a4a91ebd3  212518723\n",
       "53dc4340ad12874a4a91ebd4  767641584\n",
       "53dc4340ad12874a4a91ebd5  377702853"
      ]
     },
     "execution_count": 16,
     "metadata": {},
     "output_type": "execute_result"
    }
   ],
   "source": [
    "df.head()"
   ]
  },
  {
   "cell_type": "code",
   "execution_count": 17,
   "metadata": {
    "collapsed": true
   },
   "outputs": [],
   "source": [
    "t = t.join(df,on='mongo_id')\n",
    "t.to_csv('/data/damoncrockett/US_HSV_modes_top60_cities_weather_user.csv',index=False)"
   ]
  },
  {
   "cell_type": "code",
   "execution_count": 19,
   "metadata": {
    "collapsed": false
   },
   "outputs": [
    {
     "data": {
      "text/plain": [
       "0"
      ]
     },
     "execution_count": 19,
     "metadata": {},
     "output_type": "execute_result"
    }
   ],
   "source": [
    "len(t.index[t.actor.isnull()])"
   ]
  },
  {
   "cell_type": "code",
   "execution_count": 20,
   "metadata": {
    "collapsed": false
   },
   "outputs": [
    {
     "data": {
      "text/plain": [
       "7588558"
      ]
     },
     "execution_count": 20,
     "metadata": {},
     "output_type": "execute_result"
    }
   ],
   "source": [
    "len(t.index[t.actor.notnull()])"
   ]
  },
  {
   "cell_type": "code",
   "execution_count": 22,
   "metadata": {
    "collapsed": false
   },
   "outputs": [
    {
     "data": {
      "text/plain": [
       "982810"
      ]
     },
     "execution_count": 22,
     "metadata": {},
     "output_type": "execute_result"
    }
   ],
   "source": [
    "len(t.actor.value_counts())"
   ]
  },
  {
   "cell_type": "code",
   "execution_count": null,
   "metadata": {
    "collapsed": true
   },
   "outputs": [],
   "source": []
  }
 ],
 "metadata": {
  "kernelspec": {
   "display_name": "Python 2",
   "language": "python",
   "name": "python2"
  },
  "language_info": {
   "codemirror_mode": {
    "name": "ipython",
    "version": 2
   },
   "file_extension": ".py",
   "mimetype": "text/x-python",
   "name": "python",
   "nbconvert_exporter": "python",
   "pygments_lexer": "ipython2",
   "version": "2.7.6"
  }
 },
 "nbformat": 4,
 "nbformat_minor": 0
}
