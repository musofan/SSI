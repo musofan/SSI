{
 "cells": [
  {
   "cell_type": "code",
   "execution_count": 1,
   "metadata": {
    "collapsed": true
   },
   "outputs": [],
   "source": [
    "import pymongo"
   ]
  },
  {
   "cell_type": "code",
   "execution_count": 2,
   "metadata": {
    "collapsed": true
   },
   "outputs": [],
   "source": [
    "conn=pymongo.MongoClient()"
   ]
  },
  {
   "cell_type": "code",
   "execution_count": 3,
   "metadata": {
    "collapsed": false
   },
   "outputs": [
    {
     "data": {
      "text/plain": [
       "[u'local', u'admin', u'sample_tweets']"
      ]
     },
     "execution_count": 3,
     "metadata": {},
     "output_type": "execute_result"
    }
   ],
   "source": [
    "conn.database_names()"
   ]
  },
  {
   "cell_type": "code",
   "execution_count": 3,
   "metadata": {
    "collapsed": true
   },
   "outputs": [],
   "source": [
    "db = conn.sample_tweets"
   ]
  },
  {
   "cell_type": "code",
   "execution_count": 5,
   "metadata": {
    "collapsed": false
   },
   "outputs": [
    {
     "data": {
      "text/plain": [
       "[u'sample_tweets_collection', u'system.indexes']"
      ]
     },
     "execution_count": 5,
     "metadata": {},
     "output_type": "execute_result"
    }
   ],
   "source": [
    "db.collection_names()"
   ]
  },
  {
   "cell_type": "code",
   "execution_count": 4,
   "metadata": {
    "collapsed": true
   },
   "outputs": [],
   "source": [
    "coll = db.sample_tweets_collection"
   ]
  },
  {
   "cell_type": "code",
   "execution_count": 7,
   "metadata": {
    "collapsed": false
   },
   "outputs": [
    {
     "data": {
      "text/plain": [
       "139947108"
      ]
     },
     "execution_count": 7,
     "metadata": {},
     "output_type": "execute_result"
    }
   ],
   "source": [
    "coll.count()"
   ]
  },
  {
   "cell_type": "code",
   "execution_count": 156,
   "metadata": {
    "collapsed": false
   },
   "outputs": [],
   "source": [
    "every = coll.find()"
   ]
  },
  {
   "cell_type": "code",
   "execution_count": 243,
   "metadata": {
    "collapsed": false
   },
   "outputs": [],
   "source": [
    "rec = every.next()"
   ]
  },
  {
   "cell_type": "code",
   "execution_count": 265,
   "metadata": {
    "collapsed": false
   },
   "outputs": [
    {
     "data": {
      "text/plain": [
       "Database(MongoClient('localhost', 27017), u'database_path')"
      ]
     },
     "execution_count": 265,
     "metadata": {},
     "output_type": "execute_result"
    }
   ],
   "source": [
    "conn.database_path"
   ]
  },
  {
   "cell_type": "code",
   "execution_count": 250,
   "metadata": {
    "collapsed": false
   },
   "outputs": [
    {
     "data": {
      "text/plain": [
       "{u'_id': ObjectId('53dd0340ad128775b9bd4151'),\n",
       " u'actor': {u'displayName': u'Briley\\u2765',\n",
       "  u'favoritesCount': 3654,\n",
       "  u'followersCount': 495,\n",
       "  u'friendsCount': 1525,\n",
       "  u'id': u'id:twitter.com:1144392324',\n",
       "  u'image': u'https://pbs.twimg.com/profile_images/485444645145837568/UdEVi6PN_normal.jpeg',\n",
       "  u'languages': [u'en'],\n",
       "  u'link': u'http://www.twitter.com/briley_len',\n",
       "  u'links': [{u'href': None, u'rel': u'me'}],\n",
       "  u'listedCount': 0,\n",
       "  u'location': {u'displayName': u'\\u27285-31-14\\u2728',\n",
       "   u'objectType': u'place'},\n",
       "  u'objectType': u'person',\n",
       "  u'postedTime': u'2013-02-03T06:42:54.000Z',\n",
       "  u'preferredUsername': u'briley_len',\n",
       "  u'statusesCount': 10254,\n",
       "  u'summary': u'\\u2764\\ufe0fAaron Frost\\u2764\\ufe0f',\n",
       "  u'twitterTimeZone': None,\n",
       "  u'utcOffset': None,\n",
       "  u'verified': False},\n",
       " u'body': u'My favorite Lawrence County cheerleader!!\\U0001f60a\\U0001f49c\\U0001f49b\\U0001f389\\U0001f43e\\U0001f46f http://t.co/mCAaosc93I',\n",
       " u'favoritesCount': 0,\n",
       " u'generator': {u'displayName': u'Twitter for iPhone',\n",
       "  u'link': u'http://twitter.com/download/iphone'},\n",
       " u'geo': {u'coordinates': [36.3388033, -88.86448641], u'type': u'Point'},\n",
       " u'gnip': {u'language': {u'value': u'fr'},\n",
       "  u'matching_rules': [{u'tag': None, u'value': u'has:geo has:media'}],\n",
       "  u'urls': [{u'expanded_status': 200,\n",
       "    u'expanded_url': u'http://twitter.com/briley_len/status/487448868297396225/photo/1',\n",
       "    u'url': u'http://t.co/mCAaosc93I'}]},\n",
       " u'id': u'tag:search.twitter.com,2005:487448868297396225',\n",
       " u'link': u'http://twitter.com/briley_len/statuses/487448868297396225',\n",
       " u'location': {u'country_code': u'United States',\n",
       "  u'displayName': u'Martin, TN',\n",
       "  u'geo': {u'coordinates': [[[-88.899282, 36.319479],\n",
       "     [-88.899282, 36.3734438],\n",
       "     [-88.804223, 36.3734438],\n",
       "     [-88.804223, 36.319479]]],\n",
       "   u'type': u'Polygon'},\n",
       "  u'link': u'https://api.twitter.com/1.1/geo/id/7a5e97014f09d4fa.json',\n",
       "  u'name': u'Martin',\n",
       "  u'objectType': u'place',\n",
       "  u'twitter_country_code': u'US'},\n",
       " u'object': {u'id': u'object:search.twitter.com,2005:487448868297396225',\n",
       "  u'link': u'http://twitter.com/briley_len/statuses/487448868297396225',\n",
       "  u'objectType': u'note',\n",
       "  u'postedTime': u'2014-07-11T04:10:41.000Z',\n",
       "  u'summary': u'My favorite Lawrence County cheerleader!!\\U0001f60a\\U0001f49c\\U0001f49b\\U0001f389\\U0001f43e\\U0001f46f http://t.co/mCAaosc93I'},\n",
       " u'objectType': u'activity',\n",
       " u'postedTime': u'2014-07-11T04:10:41.000Z',\n",
       " u'provider': {u'displayName': u'Twitter',\n",
       "  u'link': u'http://www.twitter.com',\n",
       "  u'objectType': u'service'},\n",
       " u'retweetCount': 0,\n",
       " u'twitter_entities': {u'hashtags': [],\n",
       "  u'media': [{u'display_url': u'pic.twitter.com/mCAaosc93I',\n",
       "    u'expanded_url': u'http://twitter.com/briley_len/status/487448868297396225/photo/1',\n",
       "    u'id': 487448859560660993L,\n",
       "    u'id_str': u'487448859560660993',\n",
       "    u'indices': [48, 70],\n",
       "    u'media_url': u'http://pbs.twimg.com/media/BsPEJ7hIUAER3UJ.jpg',\n",
       "    u'media_url_https': u'https://pbs.twimg.com/media/BsPEJ7hIUAER3UJ.jpg',\n",
       "    u'sizes': {u'large': {u'h': 1024, u'resize': u'fit', u'w': 768},\n",
       "     u'medium': {u'h': 800, u'resize': u'fit', u'w': 600},\n",
       "     u'small': {u'h': 453, u'resize': u'fit', u'w': 340},\n",
       "     u'thumb': {u'h': 150, u'resize': u'crop', u'w': 150}},\n",
       "    u'type': u'photo',\n",
       "    u'url': u'http://t.co/mCAaosc93I'}],\n",
       "  u'symbols': [],\n",
       "  u'urls': [],\n",
       "  u'user_mentions': []},\n",
       " u'twitter_filter_level': u'medium',\n",
       " u'twitter_lang': u'en',\n",
       " u'verb': u'post'}"
      ]
     },
     "execution_count": 250,
     "metadata": {},
     "output_type": "execute_result"
    }
   ],
   "source": [
    "rec"
   ]
  },
  {
   "cell_type": "code",
   "execution_count": 252,
   "metadata": {
    "collapsed": false
   },
   "outputs": [
    {
     "data": {
      "text/plain": [
       "[u'body',\n",
       " u'retweetCount',\n",
       " u'generator',\n",
       " u'twitter_entities',\n",
       " u'postedTime',\n",
       " u'favoritesCount',\n",
       " u'object',\n",
       " u'actor',\n",
       " u'twitter_lang',\n",
       " u'twitter_filter_level',\n",
       " u'verb',\n",
       " u'link',\n",
       " u'location',\n",
       " u'provider',\n",
       " u'_id',\n",
       " u'geo',\n",
       " u'id',\n",
       " u'gnip',\n",
       " u'objectType']"
      ]
     },
     "execution_count": 252,
     "metadata": {},
     "output_type": "execute_result"
    }
   ],
   "source": [
    "rec.keys()"
   ]
  },
  {
   "cell_type": "code",
   "execution_count": 266,
   "metadata": {
    "collapsed": false
   },
   "outputs": [
    {
     "data": {
      "text/plain": [
       "u'2014-07-11T04:10:41.000Z'"
      ]
     },
     "execution_count": 266,
     "metadata": {},
     "output_type": "execute_result"
    }
   ],
   "source": [
    "rec['postedTime']"
   ]
  },
  {
   "cell_type": "code",
   "execution_count": 263,
   "metadata": {
    "collapsed": false
   },
   "outputs": [
    {
     "data": {
      "text/plain": [
       "{u'displayName': u'\\u27285-31-14\\u2728', u'objectType': u'place'}"
      ]
     },
     "execution_count": 263,
     "metadata": {},
     "output_type": "execute_result"
    }
   ],
   "source": [
    "rec['actor']['location']"
   ]
  },
  {
   "cell_type": "code",
   "execution_count": 267,
   "metadata": {
    "collapsed": false
   },
   "outputs": [
    {
     "data": {
      "text/plain": [
       "{u'coordinates': [36.3388033, -88.86448641], u'type': u'Point'}"
      ]
     },
     "execution_count": 267,
     "metadata": {},
     "output_type": "execute_result"
    }
   ],
   "source": [
    "rec['geo']"
   ]
  },
  {
   "cell_type": "code",
   "execution_count": 262,
   "metadata": {
    "collapsed": false
   },
   "outputs": [
    {
     "data": {
      "text/plain": [
       "{u'country_code': u'United States',\n",
       " u'displayName': u'Martin, TN',\n",
       " u'geo': {u'coordinates': [[[-88.899282, 36.319479],\n",
       "    [-88.899282, 36.3734438],\n",
       "    [-88.804223, 36.3734438],\n",
       "    [-88.804223, 36.319479]]],\n",
       "  u'type': u'Polygon'},\n",
       " u'link': u'https://api.twitter.com/1.1/geo/id/7a5e97014f09d4fa.json',\n",
       " u'name': u'Martin',\n",
       " u'objectType': u'place',\n",
       " u'twitter_country_code': u'US'}"
      ]
     },
     "execution_count": 262,
     "metadata": {},
     "output_type": "execute_result"
    }
   ],
   "source": [
    "rec['location']"
   ]
  },
  {
   "cell_type": "code",
   "execution_count": 264,
   "metadata": {
    "collapsed": false
   },
   "outputs": [
    {
     "data": {
      "text/plain": [
       "{u'displayName': u'Briley\\u2765',\n",
       " u'favoritesCount': 3654,\n",
       " u'followersCount': 495,\n",
       " u'friendsCount': 1525,\n",
       " u'id': u'id:twitter.com:1144392324',\n",
       " u'image': u'https://pbs.twimg.com/profile_images/485444645145837568/UdEVi6PN_normal.jpeg',\n",
       " u'languages': [u'en'],\n",
       " u'link': u'http://www.twitter.com/briley_len',\n",
       " u'links': [{u'href': None, u'rel': u'me'}],\n",
       " u'listedCount': 0,\n",
       " u'location': {u'displayName': u'\\u27285-31-14\\u2728',\n",
       "  u'objectType': u'place'},\n",
       " u'objectType': u'person',\n",
       " u'postedTime': u'2013-02-03T06:42:54.000Z',\n",
       " u'preferredUsername': u'briley_len',\n",
       " u'statusesCount': 10254,\n",
       " u'summary': u'\\u2764\\ufe0fAaron Frost\\u2764\\ufe0f',\n",
       " u'twitterTimeZone': None,\n",
       " u'utcOffset': None,\n",
       " u'verified': False}"
      ]
     },
     "execution_count": 264,
     "metadata": {},
     "output_type": "execute_result"
    }
   ],
   "source": [
    "rec['actor']"
   ]
  },
  {
   "cell_type": "code",
   "execution_count": 317,
   "metadata": {
    "collapsed": false
   },
   "outputs": [],
   "source": [
    "every = coll.find()"
   ]
  },
  {
   "cell_type": "code",
   "execution_count": 353,
   "metadata": {
    "collapsed": false
   },
   "outputs": [
    {
     "data": {
      "text/plain": [
       "u\"I'm at \\u0e02\\u0e19\\u0e21\\u0e08\\u0e35\\u0e19 \\u0e04\\u0e38\\u0e13\\u0e19\\u0e32\\u0e22\\u0e41\\u0e21\\u0e48 http://t.co/XiwOIWVk5h http://t.co/RPtm9VkC2K\""
      ]
     },
     "execution_count": 353,
     "metadata": {},
     "output_type": "execute_result"
    }
   ],
   "source": [
    "every.next()['body']"
   ]
  },
  {
   "cell_type": "code",
   "execution_count": 235,
   "metadata": {
    "collapsed": false
   },
   "outputs": [
    {
     "data": {
      "text/plain": [
       "{u'displayName': u'\\u0438\\u03c5\\u044f \\u03b1l\\u03b1\\u043c \\u0432\\u03b1\\u03c1\\u03c1\\u03b3',\n",
       " u'favoritesCount': 777,\n",
       " u'followersCount': 490,\n",
       " u'friendsCount': 45,\n",
       " u'id': u'id:twitter.com:206789755',\n",
       " u'image': u'https://pbs.twimg.com/profile_images/479839209469906944/-gqKmnhT_normal.jpeg',\n",
       " u'languages': [u'en'],\n",
       " u'link': u'http://www.twitter.com/s60v02',\n",
       " u'links': [{u'href': u'http://facebook.com/s60v02', u'rel': u'me'}],\n",
       " u'listedCount': 2,\n",
       " u'location': {u'displayName': u'Rangamati, Bangladesh.',\n",
       "  u'objectType': u'place'},\n",
       " u'objectType': u'person',\n",
       " u'postedTime': u'2010-10-23T18:38:14.000Z',\n",
       " u'preferredUsername': u's60v02',\n",
       " u'statusesCount': 24743,\n",
       " u'summary': u'If You Are Nice To Me, I Am Nice To You, Too.\\nAs Simple As That.',\n",
       " u'twitterTimeZone': u'Dhaka',\n",
       " u'utcOffset': u'21600',\n",
       " u'verified': False}"
      ]
     },
     "execution_count": 235,
     "metadata": {},
     "output_type": "execute_result"
    }
   ],
   "source": [
    "every.next()['actor']"
   ]
  },
  {
   "cell_type": "code",
   "execution_count": 133,
   "metadata": {
    "collapsed": false
   },
   "outputs": [
    {
     "data": {
      "text/plain": [
       "[{u'display_url': u'pic.twitter.com/fA2Jx4Q7pR',\n",
       "  u'expanded_url': u'http://twitter.com/yagjays/status/487448877050499072/photo/1',\n",
       "  u'id': 487448861808422912L,\n",
       "  u'id_str': u'487448861808422912',\n",
       "  u'indices': [68, 90],\n",
       "  u'media_url': u'http://pbs.twimg.com/media/BsPEKD5CcAAHN2_.jpg',\n",
       "  u'media_url_https': u'https://pbs.twimg.com/media/BsPEKD5CcAAHN2_.jpg',\n",
       "  u'sizes': {u'large': {u'h': 1024, u'resize': u'fit', u'w': 576},\n",
       "   u'medium': {u'h': 1024, u'resize': u'fit', u'w': 576},\n",
       "   u'small': {u'h': 604, u'resize': u'fit', u'w': 340},\n",
       "   u'thumb': {u'h': 150, u'resize': u'crop', u'w': 150}},\n",
       "  u'type': u'photo',\n",
       "  u'url': u'http://t.co/fA2Jx4Q7pR'}]"
      ]
     },
     "execution_count": 133,
     "metadata": {},
     "output_type": "execute_result"
    }
   ],
   "source": [
    "every.next()['twitter_entities']['media']"
   ]
  },
  {
   "cell_type": "code",
   "execution_count": null,
   "metadata": {
    "collapsed": true
   },
   "outputs": [],
   "source": []
  },
  {
   "cell_type": "code",
   "execution_count": 5,
   "metadata": {
    "collapsed": true
   },
   "outputs": [],
   "source": [
    "# test query"
   ]
  },
  {
   "cell_type": "code",
   "execution_count": 15,
   "metadata": {
    "collapsed": true
   },
   "outputs": [],
   "source": [
    "query = {'_id':{\"$exists\":1},\n",
    "         'body':{\"$exists\":1},\n",
    "         'actor.id':{\"$exists\":1}}"
   ]
  },
  {
   "cell_type": "code",
   "execution_count": 39,
   "metadata": {
    "collapsed": true
   },
   "outputs": [],
   "source": [
    "null_query = {'actor.id':None}"
   ]
  },
  {
   "cell_type": "code",
   "execution_count": 16,
   "metadata": {
    "collapsed": true
   },
   "outputs": [],
   "source": [
    "projection = {'_id':1,\n",
    "              'body':1,\n",
    "              'actor.id':1}"
   ]
  },
  {
   "cell_type": "code",
   "execution_count": 17,
   "metadata": {
    "collapsed": true
   },
   "outputs": [],
   "source": [
    "query_iterator = coll.find(query,projection)"
   ]
  },
  {
   "cell_type": "code",
   "execution_count": 41,
   "metadata": {
    "collapsed": true
   },
   "outputs": [],
   "source": [
    "null_it = coll.find(null_query,projection)"
   ]
  },
  {
   "cell_type": "code",
   "execution_count": 18,
   "metadata": {
    "collapsed": false
   },
   "outputs": [],
   "source": [
    "tmp = query_iterator.limit(10)"
   ]
  },
  {
   "cell_type": "code",
   "execution_count": 19,
   "metadata": {
    "collapsed": true
   },
   "outputs": [],
   "source": [
    "import pandas as pd"
   ]
  },
  {
   "cell_type": "code",
   "execution_count": 20,
   "metadata": {
    "collapsed": true
   },
   "outputs": [],
   "source": [
    "tmp_list = []"
   ]
  },
  {
   "cell_type": "code",
   "execution_count": 21,
   "metadata": {
    "collapsed": true
   },
   "outputs": [],
   "source": [
    "for item in tmp:\n",
    "    tmp_list.append(item)"
   ]
  },
  {
   "cell_type": "code",
   "execution_count": 22,
   "metadata": {
    "collapsed": true
   },
   "outputs": [],
   "source": [
    "df = pd.DataFrame(tmp_list)"
   ]
  },
  {
   "cell_type": "code",
   "execution_count": 23,
   "metadata": {
    "collapsed": false
   },
   "outputs": [
    {
     "data": {
      "text/html": [
       "<div style=\"max-height:1000px;max-width:1500px;overflow:auto;\">\n",
       "<table border=\"1\" class=\"dataframe\">\n",
       "  <thead>\n",
       "    <tr style=\"text-align: right;\">\n",
       "      <th></th>\n",
       "      <th>_id</th>\n",
       "      <th>actor</th>\n",
       "      <th>body</th>\n",
       "    </tr>\n",
       "  </thead>\n",
       "  <tbody>\n",
       "    <tr>\n",
       "      <th>0</th>\n",
       "      <td>53dc4340ad12874a4a91ebd1</td>\n",
       "      <td>{u'id': u'id:twitter.com:258583581'}</td>\n",
       "      <td>Ready for a great workout!    #liveoutloud  #i...</td>\n",
       "    </tr>\n",
       "    <tr>\n",
       "      <th>1</th>\n",
       "      <td>53dc4340ad12874a4a91ebd2</td>\n",
       "      <td>{u'id': u'id:twitter.com:220796708'}</td>\n",
       "      <td>DatawkkkkMoment .. @Stetson227 http://t.co/0vA...</td>\n",
       "    </tr>\n",
       "    <tr>\n",
       "      <th>2</th>\n",
       "      <td>53dc4340ad12874a4a91ebd3</td>\n",
       "      <td>{u'id': u'id:twitter.com:212518723'}</td>\n",
       "      <td>Glücklicher Abschluss eines Crowd-Funding-Proj...</td>\n",
       "    </tr>\n",
       "    <tr>\n",
       "      <th>3</th>\n",
       "      <td>53dc4340ad12874a4a91ebd4</td>\n",
       "      <td>{u'id': u'id:twitter.com:767641584'}</td>\n",
       "      <td>met mij moet ge nooit naar de cinema gaan of s...</td>\n",
       "    </tr>\n",
       "    <tr>\n",
       "      <th>4</th>\n",
       "      <td>53dc4340ad12874a4a91ebd5</td>\n",
       "      <td>{u'id': u'id:twitter.com:377702853'}</td>\n",
       "      <td>“@Sarah_hosey: #DescribeYourBestFriendInOneWor...</td>\n",
       "    </tr>\n",
       "    <tr>\n",
       "      <th>5</th>\n",
       "      <td>53dc4340ad12874a4a91ebd6</td>\n",
       "      <td>{u'id': u'id:twitter.com:372784422'}</td>\n",
       "      <td>@BatGab2547 mdrrrrrrrrr http://t.co/TVFB8Uf3Xn</td>\n",
       "    </tr>\n",
       "    <tr>\n",
       "      <th>6</th>\n",
       "      <td>53dc4340ad12874a4a91ebd7</td>\n",
       "      <td>{u'id': u'id:twitter.com:1085370204'}</td>\n",
       "      <td>Bukan selalu hari raya . Selamat selamat hari ...</td>\n",
       "    </tr>\n",
       "    <tr>\n",
       "      <th>7</th>\n",
       "      <td>53dc4340ad12874a4a91ebd8</td>\n",
       "      <td>{u'id': u'id:twitter.com:143810454'}</td>\n",
       "      <td>@achmadkhariri http://t.co/lBaFXiimOE</td>\n",
       "    </tr>\n",
       "    <tr>\n",
       "      <th>8</th>\n",
       "      <td>53dc4340ad12874a4a91ebd9</td>\n",
       "      <td>{u'id': u'id:twitter.com:630840838'}</td>\n",
       "      <td>😊 http://t.co/UaSL3UjhCK</td>\n",
       "    </tr>\n",
       "    <tr>\n",
       "      <th>9</th>\n",
       "      <td>53dc4340ad12874a4a91ebda</td>\n",
       "      <td>{u'id': u'id:twitter.com:368446882'}</td>\n",
       "      <td>Kek pembantu! =D http://t.co/e31Ikhtt2Q</td>\n",
       "    </tr>\n",
       "  </tbody>\n",
       "</table>\n",
       "</div>"
      ],
      "text/plain": [
       "                        _id                                  actor  \\\n",
       "0  53dc4340ad12874a4a91ebd1   {u'id': u'id:twitter.com:258583581'}   \n",
       "1  53dc4340ad12874a4a91ebd2   {u'id': u'id:twitter.com:220796708'}   \n",
       "2  53dc4340ad12874a4a91ebd3   {u'id': u'id:twitter.com:212518723'}   \n",
       "3  53dc4340ad12874a4a91ebd4   {u'id': u'id:twitter.com:767641584'}   \n",
       "4  53dc4340ad12874a4a91ebd5   {u'id': u'id:twitter.com:377702853'}   \n",
       "5  53dc4340ad12874a4a91ebd6   {u'id': u'id:twitter.com:372784422'}   \n",
       "6  53dc4340ad12874a4a91ebd7  {u'id': u'id:twitter.com:1085370204'}   \n",
       "7  53dc4340ad12874a4a91ebd8   {u'id': u'id:twitter.com:143810454'}   \n",
       "8  53dc4340ad12874a4a91ebd9   {u'id': u'id:twitter.com:630840838'}   \n",
       "9  53dc4340ad12874a4a91ebda   {u'id': u'id:twitter.com:368446882'}   \n",
       "\n",
       "                                                body  \n",
       "0  Ready for a great workout!    #liveoutloud  #i...  \n",
       "1  DatawkkkkMoment .. @Stetson227 http://t.co/0vA...  \n",
       "2  Glücklicher Abschluss eines Crowd-Funding-Proj...  \n",
       "3  met mij moet ge nooit naar de cinema gaan of s...  \n",
       "4  “@Sarah_hosey: #DescribeYourBestFriendInOneWor...  \n",
       "5     @BatGab2547 mdrrrrrrrrr http://t.co/TVFB8Uf3Xn  \n",
       "6  Bukan selalu hari raya . Selamat selamat hari ...  \n",
       "7              @achmadkhariri http://t.co/lBaFXiimOE  \n",
       "8                           😊 http://t.co/UaSL3UjhCK  \n",
       "9            Kek pembantu! =D http://t.co/e31Ikhtt2Q  "
      ]
     },
     "execution_count": 23,
     "metadata": {},
     "output_type": "execute_result"
    }
   ],
   "source": [
    "df"
   ]
  },
  {
   "cell_type": "code",
   "execution_count": null,
   "metadata": {
    "collapsed": true
   },
   "outputs": [],
   "source": []
  },
  {
   "cell_type": "code",
   "execution_count": null,
   "metadata": {
    "collapsed": true
   },
   "outputs": [],
   "source": []
  },
  {
   "cell_type": "code",
   "execution_count": null,
   "metadata": {
    "collapsed": true
   },
   "outputs": [],
   "source": [
    "# Question: Do people with more followers post certain sorts of pics?"
   ]
  },
  {
   "cell_type": "code",
   "execution_count": null,
   "metadata": {
    "collapsed": false
   },
   "outputs": [],
   "source": [
    "lengths = []\n",
    "\n",
    "for item in every:\n",
    "    if 'twitter_entities' in item and item['twitter_entities']:\n",
    "        ent = item['twitter_entities']\n",
    "        if 'media' in ent and ent['media']:\n",
    "            med = ent['media']\n",
    "            lengths.append(len(med))"
   ]
  },
  {
   "cell_type": "code",
   "execution_count": null,
   "metadata": {
    "collapsed": true
   },
   "outputs": [],
   "source": [
    "from collections import Counter"
   ]
  },
  {
   "cell_type": "code",
   "execution_count": null,
   "metadata": {
    "collapsed": false
   },
   "outputs": [],
   "source": [
    "Counter(lengths)"
   ]
  },
  {
   "cell_type": "code",
   "execution_count": null,
   "metadata": {
    "collapsed": true
   },
   "outputs": [],
   "source": [
    "def gen(every):\n",
    "    for item in every:\n",
    "        if 'twitter_entities' in item and item['twitter_entities']:\n",
    "            ent = item['twitter_entities']\n",
    "            if 'media' in ent and ent['media']:\n",
    "                med = ent['media'][0]\n",
    "                yield med['media_url']"
   ]
  },
  {
   "cell_type": "code",
   "execution_count": null,
   "metadata": {
    "collapsed": true
   },
   "outputs": [],
   "source": [
    "import pandas as pd"
   ]
  },
  {
   "cell_type": "code",
   "execution_count": null,
   "metadata": {
    "collapsed": false
   },
   "outputs": [],
   "source": [
    "df = pd.DataFrame(gen(coll.find()))"
   ]
  },
  {
   "cell_type": "code",
   "execution_count": null,
   "metadata": {
    "collapsed": false
   },
   "outputs": [],
   "source": [
    "df.to_csv('/data/damoncrockett/img_urls.csv',index=False)"
   ]
  },
  {
   "cell_type": "code",
   "execution_count": null,
   "metadata": {
    "collapsed": true
   },
   "outputs": [],
   "source": [
    "# Question: Are 'power users' more or less diagnostic of a city's image profile?"
   ]
  },
  {
   "cell_type": "code",
   "execution_count": null,
   "metadata": {
    "collapsed": false
   },
   "outputs": [],
   "source": [
    "df.head()"
   ]
  },
  {
   "cell_type": "code",
   "execution_count": null,
   "metadata": {
    "collapsed": false
   },
   "outputs": [],
   "source": [
    "df[0].loc[0].split('/',3)"
   ]
  },
  {
   "cell_type": "code",
   "execution_count": null,
   "metadata": {
    "collapsed": true
   },
   "outputs": [],
   "source": []
  }
 ],
 "metadata": {
  "kernelspec": {
   "display_name": "Python 2",
   "language": "python",
   "name": "python2"
  },
  "language_info": {
   "codemirror_mode": {
    "name": "ipython",
    "version": 2
   },
   "file_extension": ".py",
   "mimetype": "text/x-python",
   "name": "python",
   "nbconvert_exporter": "python",
   "pygments_lexer": "ipython2",
   "version": "2.7.6"
  }
 },
 "nbformat": 4,
 "nbformat_minor": 0
}
