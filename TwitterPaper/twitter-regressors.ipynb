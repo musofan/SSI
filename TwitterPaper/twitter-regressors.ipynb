{
 "cells": [
  {
   "cell_type": "code",
   "execution_count": 23,
   "metadata": {
    "collapsed": true
   },
   "outputs": [],
   "source": [
    "import pandas as pd"
   ]
  },
  {
   "cell_type": "code",
   "execution_count": 24,
   "metadata": {
    "collapsed": false
   },
   "outputs": [],
   "source": [
    "d = pd.read_csv('/Users/damoncrockett/Dropbox/TwitterPaper/data/tweet-aggregates/city_diurnal_entropies.csv')"
   ]
  },
  {
   "cell_type": "code",
   "execution_count": 25,
   "metadata": {
    "collapsed": true
   },
   "outputs": [],
   "source": [
    "f = pd.read_csv('/Users/damoncrockett/Dropbox/TwitterPaper/data/tweet-aggregates/city_diurnal_faces_entropies.csv')"
   ]
  },
  {
   "cell_type": "code",
   "execution_count": 26,
   "metadata": {
    "collapsed": true
   },
   "outputs": [],
   "source": [
    "c = pd.read_csv('/Users/damoncrockett/Dropbox/TwitterPaper/data/tweet-aggregates/city_faces.csv')"
   ]
  },
  {
   "cell_type": "code",
   "execution_count": 27,
   "metadata": {
    "collapsed": false
   },
   "outputs": [
    {
     "data": {
      "text/html": [
       "<div style=\"max-height:1000px;max-width:1500px;overflow:auto;\">\n",
       "<table border=\"1\" class=\"dataframe\">\n",
       "  <thead>\n",
       "    <tr style=\"text-align: right;\">\n",
       "      <th></th>\n",
       "      <th>city</th>\n",
       "      <th>Hbin.00</th>\n",
       "      <th>Hbin.01</th>\n",
       "      <th>Hbin.02</th>\n",
       "      <th>Hbin.03</th>\n",
       "      <th>Hbin.04</th>\n",
       "      <th>Hbin.05</th>\n",
       "      <th>Hbin.06</th>\n",
       "      <th>Hbin.07</th>\n",
       "      <th>Hbin.08</th>\n",
       "      <th>Hbin.09</th>\n",
       "      <th>Hbin.10</th>\n",
       "      <th>Hbin.11</th>\n",
       "      <th>Hbin.12</th>\n",
       "    </tr>\n",
       "  </thead>\n",
       "  <tbody>\n",
       "    <tr>\n",
       "      <th>0</th>\n",
       "      <td>Albuquerque</td>\n",
       "      <td>3.174536</td>\n",
       "      <td>3.171143</td>\n",
       "      <td>3.171114</td>\n",
       "      <td>3.146463</td>\n",
       "      <td>3.129780</td>\n",
       "      <td>3.096393</td>\n",
       "      <td>3.120589</td>\n",
       "      <td>3.154328</td>\n",
       "      <td>3.161968</td>\n",
       "      <td>3.168162</td>\n",
       "      <td>3.106396</td>\n",
       "      <td>3.143148</td>\n",
       "      <td>3.167260</td>\n",
       "    </tr>\n",
       "    <tr>\n",
       "      <th>1</th>\n",
       "      <td>Anaheim</td>\n",
       "      <td>3.174619</td>\n",
       "      <td>3.175742</td>\n",
       "      <td>3.176269</td>\n",
       "      <td>3.173975</td>\n",
       "      <td>3.162000</td>\n",
       "      <td>3.151678</td>\n",
       "      <td>3.134024</td>\n",
       "      <td>3.167103</td>\n",
       "      <td>3.167316</td>\n",
       "      <td>3.163736</td>\n",
       "      <td>3.130400</td>\n",
       "      <td>3.127004</td>\n",
       "      <td>3.173246</td>\n",
       "    </tr>\n",
       "    <tr>\n",
       "      <th>2</th>\n",
       "      <td>Arlington</td>\n",
       "      <td>3.172951</td>\n",
       "      <td>3.174830</td>\n",
       "      <td>3.174406</td>\n",
       "      <td>3.168256</td>\n",
       "      <td>3.158945</td>\n",
       "      <td>3.096553</td>\n",
       "      <td>3.119399</td>\n",
       "      <td>3.155882</td>\n",
       "      <td>3.161463</td>\n",
       "      <td>3.173123</td>\n",
       "      <td>3.075926</td>\n",
       "      <td>3.067374</td>\n",
       "      <td>3.158433</td>\n",
       "    </tr>\n",
       "    <tr>\n",
       "      <th>3</th>\n",
       "      <td>Atlanta</td>\n",
       "      <td>3.172983</td>\n",
       "      <td>3.176935</td>\n",
       "      <td>3.172080</td>\n",
       "      <td>3.170836</td>\n",
       "      <td>3.158604</td>\n",
       "      <td>3.153193</td>\n",
       "      <td>3.147617</td>\n",
       "      <td>3.160579</td>\n",
       "      <td>3.170185</td>\n",
       "      <td>3.169157</td>\n",
       "      <td>3.142176</td>\n",
       "      <td>3.125326</td>\n",
       "      <td>3.170875</td>\n",
       "    </tr>\n",
       "    <tr>\n",
       "      <th>4</th>\n",
       "      <td>Aurora</td>\n",
       "      <td>3.174699</td>\n",
       "      <td>3.165535</td>\n",
       "      <td>3.171735</td>\n",
       "      <td>3.155303</td>\n",
       "      <td>3.112670</td>\n",
       "      <td>2.992058</td>\n",
       "      <td>3.102133</td>\n",
       "      <td>3.145212</td>\n",
       "      <td>3.165323</td>\n",
       "      <td>3.148118</td>\n",
       "      <td>3.096863</td>\n",
       "      <td>3.096600</td>\n",
       "      <td>3.136596</td>\n",
       "    </tr>\n",
       "  </tbody>\n",
       "</table>\n",
       "</div>"
      ],
      "text/plain": [
       "          city   Hbin.00   Hbin.01   Hbin.02   Hbin.03   Hbin.04   Hbin.05  \\\n",
       "0  Albuquerque  3.174536  3.171143  3.171114  3.146463  3.129780  3.096393   \n",
       "1      Anaheim  3.174619  3.175742  3.176269  3.173975  3.162000  3.151678   \n",
       "2    Arlington  3.172951  3.174830  3.174406  3.168256  3.158945  3.096553   \n",
       "3      Atlanta  3.172983  3.176935  3.172080  3.170836  3.158604  3.153193   \n",
       "4       Aurora  3.174699  3.165535  3.171735  3.155303  3.112670  2.992058   \n",
       "\n",
       "    Hbin.06   Hbin.07   Hbin.08   Hbin.09   Hbin.10   Hbin.11   Hbin.12  \n",
       "0  3.120589  3.154328  3.161968  3.168162  3.106396  3.143148  3.167260  \n",
       "1  3.134024  3.167103  3.167316  3.163736  3.130400  3.127004  3.173246  \n",
       "2  3.119399  3.155882  3.161463  3.173123  3.075926  3.067374  3.158433  \n",
       "3  3.147617  3.160579  3.170185  3.169157  3.142176  3.125326  3.170875  \n",
       "4  3.102133  3.145212  3.165323  3.148118  3.096863  3.096600  3.136596  "
      ]
     },
     "execution_count": 27,
     "metadata": {},
     "output_type": "execute_result"
    }
   ],
   "source": [
    "d.head()"
   ]
  },
  {
   "cell_type": "code",
   "execution_count": 28,
   "metadata": {
    "collapsed": false
   },
   "outputs": [
    {
     "data": {
      "text/html": [
       "<div style=\"max-height:1000px;max-width:1500px;overflow:auto;\">\n",
       "<table border=\"1\" class=\"dataframe\">\n",
       "  <thead>\n",
       "    <tr style=\"text-align: right;\">\n",
       "      <th></th>\n",
       "      <th>city</th>\n",
       "      <th>face.present.rate.alt</th>\n",
       "      <th>face.present.rate.alt.tree</th>\n",
       "      <th>solo.face.rate.alt</th>\n",
       "      <th>solo.face.rate.alt.tree</th>\n",
       "      <th>social.face.rate.alt</th>\n",
       "      <th>social.face.rate.alt.tree</th>\n",
       "    </tr>\n",
       "  </thead>\n",
       "  <tbody>\n",
       "    <tr>\n",
       "      <th>0</th>\n",
       "      <td>Albuquerque</td>\n",
       "      <td>3.169897</td>\n",
       "      <td>3.164847</td>\n",
       "      <td>3.169272</td>\n",
       "      <td>3.161659</td>\n",
       "      <td>3.160861</td>\n",
       "      <td>3.043590</td>\n",
       "    </tr>\n",
       "    <tr>\n",
       "      <th>1</th>\n",
       "      <td>Anaheim</td>\n",
       "      <td>3.169842</td>\n",
       "      <td>3.157666</td>\n",
       "      <td>3.170060</td>\n",
       "      <td>3.154757</td>\n",
       "      <td>3.158872</td>\n",
       "      <td>3.116330</td>\n",
       "    </tr>\n",
       "    <tr>\n",
       "      <th>2</th>\n",
       "      <td>Arlington</td>\n",
       "      <td>3.156169</td>\n",
       "      <td>3.147431</td>\n",
       "      <td>3.157859</td>\n",
       "      <td>3.144824</td>\n",
       "      <td>3.130618</td>\n",
       "      <td>3.060159</td>\n",
       "    </tr>\n",
       "    <tr>\n",
       "      <th>3</th>\n",
       "      <td>Atlanta</td>\n",
       "      <td>3.166536</td>\n",
       "      <td>3.163539</td>\n",
       "      <td>3.166684</td>\n",
       "      <td>3.160951</td>\n",
       "      <td>3.158816</td>\n",
       "      <td>3.139089</td>\n",
       "    </tr>\n",
       "    <tr>\n",
       "      <th>4</th>\n",
       "      <td>Aurora</td>\n",
       "      <td>3.171854</td>\n",
       "      <td>3.144805</td>\n",
       "      <td>3.171397</td>\n",
       "      <td>3.149554</td>\n",
       "      <td>3.132546</td>\n",
       "      <td>2.970547</td>\n",
       "    </tr>\n",
       "  </tbody>\n",
       "</table>\n",
       "</div>"
      ],
      "text/plain": [
       "          city  face.present.rate.alt  face.present.rate.alt.tree  \\\n",
       "0  Albuquerque               3.169897                    3.164847   \n",
       "1      Anaheim               3.169842                    3.157666   \n",
       "2    Arlington               3.156169                    3.147431   \n",
       "3      Atlanta               3.166536                    3.163539   \n",
       "4       Aurora               3.171854                    3.144805   \n",
       "\n",
       "   solo.face.rate.alt  solo.face.rate.alt.tree  social.face.rate.alt  \\\n",
       "0            3.169272                 3.161659              3.160861   \n",
       "1            3.170060                 3.154757              3.158872   \n",
       "2            3.157859                 3.144824              3.130618   \n",
       "3            3.166684                 3.160951              3.158816   \n",
       "4            3.171397                 3.149554              3.132546   \n",
       "\n",
       "   social.face.rate.alt.tree  \n",
       "0                   3.043590  \n",
       "1                   3.116330  \n",
       "2                   3.060159  \n",
       "3                   3.139089  \n",
       "4                   2.970547  "
      ]
     },
     "execution_count": 28,
     "metadata": {},
     "output_type": "execute_result"
    }
   ],
   "source": [
    "f.head()"
   ]
  },
  {
   "cell_type": "code",
   "execution_count": 29,
   "metadata": {
    "collapsed": false
   },
   "outputs": [
    {
     "data": {
      "text/html": [
       "<div style=\"max-height:1000px;max-width:1500px;overflow:auto;\">\n",
       "<table border=\"1\" class=\"dataframe\">\n",
       "  <thead>\n",
       "    <tr style=\"text-align: right;\">\n",
       "      <th></th>\n",
       "      <th>city</th>\n",
       "      <th>num.rows</th>\n",
       "      <th>num.faces.alt</th>\n",
       "      <th>face.present.alt</th>\n",
       "      <th>num.people.social.faces.alt</th>\n",
       "      <th>solo.face.alt</th>\n",
       "      <th>social.face.alt</th>\n",
       "      <th>num.faces.alt.tree</th>\n",
       "      <th>face.present.alt.tree</th>\n",
       "      <th>solo.face.alt.tree</th>\n",
       "      <th>social.face.alt.tree</th>\n",
       "      <th>num.people.social.faces.alt.tree</th>\n",
       "      <th>bin.0.count</th>\n",
       "      <th>num.unique.images</th>\n",
       "      <th>num.unique.face.images.alt</th>\n",
       "      <th>num.unique.face.images.alt.tree</th>\n",
       "    </tr>\n",
       "  </thead>\n",
       "  <tbody>\n",
       "    <tr>\n",
       "      <th>0</th>\n",
       "      <td>Albuquerque</td>\n",
       "      <td>40291</td>\n",
       "      <td>10250</td>\n",
       "      <td>8234</td>\n",
       "      <td>3510</td>\n",
       "      <td>6740</td>\n",
       "      <td>1494</td>\n",
       "      <td>1685</td>\n",
       "      <td>1582</td>\n",
       "      <td>1490</td>\n",
       "      <td>92</td>\n",
       "      <td>195</td>\n",
       "      <td>11668</td>\n",
       "      <td>39845</td>\n",
       "      <td>8139</td>\n",
       "      <td>1558</td>\n",
       "    </tr>\n",
       "    <tr>\n",
       "      <th>1</th>\n",
       "      <td>Anaheim</td>\n",
       "      <td>96452</td>\n",
       "      <td>25434</td>\n",
       "      <td>19347</td>\n",
       "      <td>10710</td>\n",
       "      <td>14724</td>\n",
       "      <td>4623</td>\n",
       "      <td>4265</td>\n",
       "      <td>3890</td>\n",
       "      <td>3572</td>\n",
       "      <td>318</td>\n",
       "      <td>693</td>\n",
       "      <td>24992</td>\n",
       "      <td>95855</td>\n",
       "      <td>19232</td>\n",
       "      <td>3873</td>\n",
       "    </tr>\n",
       "    <tr>\n",
       "      <th>2</th>\n",
       "      <td>Arlington</td>\n",
       "      <td>132146</td>\n",
       "      <td>26426</td>\n",
       "      <td>20170</td>\n",
       "      <td>11008</td>\n",
       "      <td>15418</td>\n",
       "      <td>4752</td>\n",
       "      <td>4416</td>\n",
       "      <td>4027</td>\n",
       "      <td>3672</td>\n",
       "      <td>355</td>\n",
       "      <td>744</td>\n",
       "      <td>28612</td>\n",
       "      <td>69496</td>\n",
       "      <td>10747</td>\n",
       "      <td>2142</td>\n",
       "    </tr>\n",
       "    <tr>\n",
       "      <th>3</th>\n",
       "      <td>Atlanta</td>\n",
       "      <td>98322</td>\n",
       "      <td>23390</td>\n",
       "      <td>17871</td>\n",
       "      <td>9753</td>\n",
       "      <td>13637</td>\n",
       "      <td>4234</td>\n",
       "      <td>3535</td>\n",
       "      <td>3197</td>\n",
       "      <td>2898</td>\n",
       "      <td>299</td>\n",
       "      <td>637</td>\n",
       "      <td>25321</td>\n",
       "      <td>97431</td>\n",
       "      <td>17684</td>\n",
       "      <td>3157</td>\n",
       "    </tr>\n",
       "    <tr>\n",
       "      <th>4</th>\n",
       "      <td>Aurora</td>\n",
       "      <td>22048</td>\n",
       "      <td>5801</td>\n",
       "      <td>4609</td>\n",
       "      <td>2056</td>\n",
       "      <td>3745</td>\n",
       "      <td>864</td>\n",
       "      <td>999</td>\n",
       "      <td>901</td>\n",
       "      <td>827</td>\n",
       "      <td>74</td>\n",
       "      <td>172</td>\n",
       "      <td>6843</td>\n",
       "      <td>21675</td>\n",
       "      <td>4531</td>\n",
       "      <td>879</td>\n",
       "    </tr>\n",
       "  </tbody>\n",
       "</table>\n",
       "</div>"
      ],
      "text/plain": [
       "          city  num.rows  num.faces.alt  face.present.alt  \\\n",
       "0  Albuquerque     40291          10250              8234   \n",
       "1      Anaheim     96452          25434             19347   \n",
       "2    Arlington    132146          26426             20170   \n",
       "3      Atlanta     98322          23390             17871   \n",
       "4       Aurora     22048           5801              4609   \n",
       "\n",
       "   num.people.social.faces.alt  solo.face.alt  social.face.alt  \\\n",
       "0                         3510           6740             1494   \n",
       "1                        10710          14724             4623   \n",
       "2                        11008          15418             4752   \n",
       "3                         9753          13637             4234   \n",
       "4                         2056           3745              864   \n",
       "\n",
       "   num.faces.alt.tree  face.present.alt.tree  solo.face.alt.tree  \\\n",
       "0                1685                   1582                1490   \n",
       "1                4265                   3890                3572   \n",
       "2                4416                   4027                3672   \n",
       "3                3535                   3197                2898   \n",
       "4                 999                    901                 827   \n",
       "\n",
       "   social.face.alt.tree  num.people.social.faces.alt.tree  bin.0.count  \\\n",
       "0                    92                               195        11668   \n",
       "1                   318                               693        24992   \n",
       "2                   355                               744        28612   \n",
       "3                   299                               637        25321   \n",
       "4                    74                               172         6843   \n",
       "\n",
       "   num.unique.images  num.unique.face.images.alt  \\\n",
       "0              39845                        8139   \n",
       "1              95855                       19232   \n",
       "2              69496                       10747   \n",
       "3              97431                       17684   \n",
       "4              21675                        4531   \n",
       "\n",
       "   num.unique.face.images.alt.tree  \n",
       "0                             1558  \n",
       "1                             3873  \n",
       "2                             2142  \n",
       "3                             3157  \n",
       "4                              879  "
      ]
     },
     "execution_count": 29,
     "metadata": {},
     "output_type": "execute_result"
    }
   ],
   "source": [
    "c.head()"
   ]
  },
  {
   "cell_type": "code",
   "execution_count": 30,
   "metadata": {
    "collapsed": false
   },
   "outputs": [],
   "source": [
    "f.set_index('city',inplace=True)\n",
    "c.set_index('city',inplace=True)"
   ]
  },
  {
   "cell_type": "code",
   "execution_count": 31,
   "metadata": {
    "collapsed": true
   },
   "outputs": [],
   "source": [
    "d = d.join(f,on='city')"
   ]
  },
  {
   "cell_type": "code",
   "execution_count": 32,
   "metadata": {
    "collapsed": true
   },
   "outputs": [],
   "source": [
    "d = d.join(c,on='city')"
   ]
  },
  {
   "cell_type": "code",
   "execution_count": 33,
   "metadata": {
    "collapsed": false
   },
   "outputs": [
    {
     "name": "stdout",
     "output_type": "stream",
     "text": [
      "<class 'pandas.core.frame.DataFrame'>\n",
      "Int64Index: 60 entries, 0 to 59\n",
      "Data columns (total 35 columns):\n",
      "city                                60 non-null object\n",
      "Hbin.00                             60 non-null float64\n",
      "Hbin.01                             60 non-null float64\n",
      "Hbin.02                             60 non-null float64\n",
      "Hbin.03                             60 non-null float64\n",
      "Hbin.04                             60 non-null float64\n",
      "Hbin.05                             60 non-null float64\n",
      "Hbin.06                             60 non-null float64\n",
      "Hbin.07                             60 non-null float64\n",
      "Hbin.08                             60 non-null float64\n",
      "Hbin.09                             60 non-null float64\n",
      "Hbin.10                             60 non-null float64\n",
      "Hbin.11                             60 non-null float64\n",
      "Hbin.12                             60 non-null float64\n",
      "face.present.rate.alt               60 non-null float64\n",
      "face.present.rate.alt.tree          60 non-null float64\n",
      "solo.face.rate.alt                  60 non-null float64\n",
      "solo.face.rate.alt.tree             60 non-null float64\n",
      "social.face.rate.alt                60 non-null float64\n",
      "social.face.rate.alt.tree           60 non-null float64\n",
      "num.rows                            60 non-null int64\n",
      "num.faces.alt                       60 non-null int64\n",
      "face.present.alt                    60 non-null int64\n",
      "num.people.social.faces.alt         60 non-null int64\n",
      "solo.face.alt                       60 non-null int64\n",
      "social.face.alt                     60 non-null int64\n",
      "num.faces.alt.tree                  60 non-null int64\n",
      "face.present.alt.tree               60 non-null int64\n",
      "solo.face.alt.tree                  60 non-null int64\n",
      "social.face.alt.tree                60 non-null int64\n",
      "num.people.social.faces.alt.tree    60 non-null int64\n",
      "bin.0.count                         60 non-null int64\n",
      "num.unique.images                   60 non-null int64\n",
      "num.unique.face.images.alt          60 non-null int64\n",
      "num.unique.face.images.alt.tree     60 non-null int64\n",
      "dtypes: float64(19), int64(15), object(1)\n",
      "memory usage: 16.9+ KB\n"
     ]
    }
   ],
   "source": [
    "d.info()"
   ]
  },
  {
   "cell_type": "code",
   "execution_count": 34,
   "metadata": {
    "collapsed": true
   },
   "outputs": [],
   "source": [
    "d.drop(['face.present.rate.alt.tree',\n",
    "            'solo.face.rate.alt.tree',\n",
    "            'social.face.rate.alt.tree',\n",
    "            'num.faces.alt.tree',\n",
    "            'face.present.alt.tree',\n",
    "            'solo.face.alt.tree',\n",
    "            'social.face.alt.tree',\n",
    "            'num.people.social.faces.alt.tree',\n",
    "            'num.unique.face.images.alt.tree'],axis=1,inplace=True)"
   ]
  },
  {
   "cell_type": "code",
   "execution_count": 35,
   "metadata": {
    "collapsed": false
   },
   "outputs": [
    {
     "name": "stdout",
     "output_type": "stream",
     "text": [
      "<class 'pandas.core.frame.DataFrame'>\n",
      "Int64Index: 60 entries, 0 to 59\n",
      "Data columns (total 26 columns):\n",
      "city                           60 non-null object\n",
      "Hbin.00                        60 non-null float64\n",
      "Hbin.01                        60 non-null float64\n",
      "Hbin.02                        60 non-null float64\n",
      "Hbin.03                        60 non-null float64\n",
      "Hbin.04                        60 non-null float64\n",
      "Hbin.05                        60 non-null float64\n",
      "Hbin.06                        60 non-null float64\n",
      "Hbin.07                        60 non-null float64\n",
      "Hbin.08                        60 non-null float64\n",
      "Hbin.09                        60 non-null float64\n",
      "Hbin.10                        60 non-null float64\n",
      "Hbin.11                        60 non-null float64\n",
      "Hbin.12                        60 non-null float64\n",
      "face.present.rate.alt          60 non-null float64\n",
      "solo.face.rate.alt             60 non-null float64\n",
      "social.face.rate.alt           60 non-null float64\n",
      "num.rows                       60 non-null int64\n",
      "num.faces.alt                  60 non-null int64\n",
      "face.present.alt               60 non-null int64\n",
      "num.people.social.faces.alt    60 non-null int64\n",
      "solo.face.alt                  60 non-null int64\n",
      "social.face.alt                60 non-null int64\n",
      "bin.0.count                    60 non-null int64\n",
      "num.unique.images              60 non-null int64\n",
      "num.unique.face.images.alt     60 non-null int64\n",
      "dtypes: float64(16), int64(9), object(1)\n",
      "memory usage: 12.7+ KB\n"
     ]
    }
   ],
   "source": [
    "d.info()"
   ]
  },
  {
   "cell_type": "code",
   "execution_count": 36,
   "metadata": {
    "collapsed": false
   },
   "outputs": [],
   "source": [
    "del d['bin.0.count']"
   ]
  },
  {
   "cell_type": "code",
   "execution_count": 37,
   "metadata": {
    "collapsed": false
   },
   "outputs": [
    {
     "data": {
      "text/html": [
       "<div style=\"max-height:1000px;max-width:1500px;overflow:auto;\">\n",
       "<table border=\"1\" class=\"dataframe\">\n",
       "  <thead>\n",
       "    <tr style=\"text-align: right;\">\n",
       "      <th></th>\n",
       "      <th>num.rows</th>\n",
       "      <th>num.faces.alt</th>\n",
       "      <th>face.present.alt</th>\n",
       "      <th>num.people.social.faces.alt</th>\n",
       "      <th>solo.face.alt</th>\n",
       "      <th>social.face.alt</th>\n",
       "      <th>num.unique.images</th>\n",
       "      <th>num.unique.face.images.alt</th>\n",
       "    </tr>\n",
       "  </thead>\n",
       "  <tbody>\n",
       "    <tr>\n",
       "      <th>0</th>\n",
       "      <td>40291</td>\n",
       "      <td>10250</td>\n",
       "      <td>8234</td>\n",
       "      <td>3510</td>\n",
       "      <td>6740</td>\n",
       "      <td>1494</td>\n",
       "      <td>39845</td>\n",
       "      <td>8139</td>\n",
       "    </tr>\n",
       "    <tr>\n",
       "      <th>1</th>\n",
       "      <td>96452</td>\n",
       "      <td>25434</td>\n",
       "      <td>19347</td>\n",
       "      <td>10710</td>\n",
       "      <td>14724</td>\n",
       "      <td>4623</td>\n",
       "      <td>95855</td>\n",
       "      <td>19232</td>\n",
       "    </tr>\n",
       "    <tr>\n",
       "      <th>2</th>\n",
       "      <td>132146</td>\n",
       "      <td>26426</td>\n",
       "      <td>20170</td>\n",
       "      <td>11008</td>\n",
       "      <td>15418</td>\n",
       "      <td>4752</td>\n",
       "      <td>69496</td>\n",
       "      <td>10747</td>\n",
       "    </tr>\n",
       "    <tr>\n",
       "      <th>3</th>\n",
       "      <td>98322</td>\n",
       "      <td>23390</td>\n",
       "      <td>17871</td>\n",
       "      <td>9753</td>\n",
       "      <td>13637</td>\n",
       "      <td>4234</td>\n",
       "      <td>97431</td>\n",
       "      <td>17684</td>\n",
       "    </tr>\n",
       "    <tr>\n",
       "      <th>4</th>\n",
       "      <td>22048</td>\n",
       "      <td>5801</td>\n",
       "      <td>4609</td>\n",
       "      <td>2056</td>\n",
       "      <td>3745</td>\n",
       "      <td>864</td>\n",
       "      <td>21675</td>\n",
       "      <td>4531</td>\n",
       "    </tr>\n",
       "  </tbody>\n",
       "</table>\n",
       "</div>"
      ],
      "text/plain": [
       "   num.rows  num.faces.alt  face.present.alt  num.people.social.faces.alt  \\\n",
       "0     40291          10250              8234                         3510   \n",
       "1     96452          25434             19347                        10710   \n",
       "2    132146          26426             20170                        11008   \n",
       "3     98322          23390             17871                         9753   \n",
       "4     22048           5801              4609                         2056   \n",
       "\n",
       "   solo.face.alt  social.face.alt  num.unique.images  \\\n",
       "0           6740             1494              39845   \n",
       "1          14724             4623              95855   \n",
       "2          15418             4752              69496   \n",
       "3          13637             4234              97431   \n",
       "4           3745              864              21675   \n",
       "\n",
       "   num.unique.face.images.alt  \n",
       "0                        8139  \n",
       "1                       19232  \n",
       "2                       10747  \n",
       "3                       17684  \n",
       "4                        4531  "
      ]
     },
     "execution_count": 37,
     "metadata": {},
     "output_type": "execute_result"
    }
   ],
   "source": [
    "d.iloc[:,17:].head()"
   ]
  },
  {
   "cell_type": "code",
   "execution_count": 38,
   "metadata": {
    "collapsed": true
   },
   "outputs": [],
   "source": [
    "def norm(x):\n",
    "    return x/d['num.rows']"
   ]
  },
  {
   "cell_type": "code",
   "execution_count": 39,
   "metadata": {
    "collapsed": false
   },
   "outputs": [],
   "source": [
    "d.iloc[:,18:] = d.iloc[:,18:].apply(norm,axis=0)"
   ]
  },
  {
   "cell_type": "code",
   "execution_count": 40,
   "metadata": {
    "collapsed": false
   },
   "outputs": [],
   "source": [
    "del d['num.rows']"
   ]
  },
  {
   "cell_type": "code",
   "execution_count": 41,
   "metadata": {
    "collapsed": true
   },
   "outputs": [],
   "source": [
    "d.rename(columns={'city':'RegionName'},inplace=True)"
   ]
  },
  {
   "cell_type": "code",
   "execution_count": 42,
   "metadata": {
    "collapsed": false
   },
   "outputs": [],
   "source": [
    "d.RegionName.loc[53] = 'Saint Louis'"
   ]
  },
  {
   "cell_type": "code",
   "execution_count": 43,
   "metadata": {
    "collapsed": false
   },
   "outputs": [],
   "source": [
    "d.to_csv('/Users/damoncrockett/Desktop/twitter_regressors.csv',index=False)"
   ]
  },
  {
   "cell_type": "code",
   "execution_count": null,
   "metadata": {
    "collapsed": true
   },
   "outputs": [],
   "source": []
  }
 ],
 "metadata": {
  "kernelspec": {
   "display_name": "Python 2",
   "language": "python",
   "name": "python2"
  },
  "language_info": {
   "codemirror_mode": {
    "name": "ipython",
    "version": 2
   },
   "file_extension": ".py",
   "mimetype": "text/x-python",
   "name": "python",
   "nbconvert_exporter": "python",
   "pygments_lexer": "ipython2",
   "version": "2.7.6"
  }
 },
 "nbformat": 4,
 "nbformat_minor": 0
}
