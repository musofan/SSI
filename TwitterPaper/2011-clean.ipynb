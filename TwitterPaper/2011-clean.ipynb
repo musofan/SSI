{
 "cells": [
  {
   "cell_type": "code",
   "execution_count": 1,
   "metadata": {
    "collapsed": true
   },
   "outputs": [],
   "source": [
    "import pandas as pd"
   ]
  },
  {
   "cell_type": "code",
   "execution_count": 2,
   "metadata": {
    "collapsed": true
   },
   "outputs": [],
   "source": [
    "df = pd.read_csv('/data/damoncrockett/2011/output_2011.csv')"
   ]
  },
  {
   "cell_type": "code",
   "execution_count": 4,
   "metadata": {
    "collapsed": false
   },
   "outputs": [],
   "source": [
    "del df['Unnamed: 0']"
   ]
  },
  {
   "cell_type": "code",
   "execution_count": 5,
   "metadata": {
    "collapsed": false
   },
   "outputs": [
    {
     "data": {
      "text/html": [
       "<div style=\"max-height:1000px;max-width:1500px;overflow:auto;\">\n",
       "<table border=\"1\" class=\"dataframe\">\n",
       "  <thead>\n",
       "    <tr style=\"text-align: right;\">\n",
       "      <th></th>\n",
       "      <th>_id</th>\n",
       "      <th>actor</th>\n",
       "      <th>geo</th>\n",
       "      <th>location</th>\n",
       "      <th>postedTime</th>\n",
       "      <th>twitter_entities</th>\n",
       "    </tr>\n",
       "  </thead>\n",
       "  <tbody>\n",
       "    <tr>\n",
       "      <th>0</th>\n",
       "      <td>53dbe4d7ad128774638cb9d5</td>\n",
       "      <td>{u'friendsCount': 23, u'favoritesCount': 1, u'...</td>\n",
       "      <td>{u'coordinates': [13.818722, 100.621402]}</td>\n",
       "      <td>NaN</td>\n",
       "      <td>2011-10-06T08:12:28.000Z</td>\n",
       "      <td>{u'media': [{u'media_url': u'http://p.twimg.co...</td>\n",
       "    </tr>\n",
       "    <tr>\n",
       "      <th>1</th>\n",
       "      <td>53dbe4d6ad128774638cb626</td>\n",
       "      <td>{u'friendsCount': 95, u'favoritesCount': 1999,...</td>\n",
       "      <td>{u'coordinates': [40.21968323, -74.75245982]}</td>\n",
       "      <td>{u'name': u'Trenton', u'country_code': u'Unite...</td>\n",
       "      <td>2011-10-06T11:22:35.000Z</td>\n",
       "      <td>{u'media': [{u'media_url': u'http://p.twimg.co...</td>\n",
       "    </tr>\n",
       "    <tr>\n",
       "      <th>2</th>\n",
       "      <td>53dbe4d6ad128774638cb62e</td>\n",
       "      <td>{u'friendsCount': 43, u'favoritesCount': 8, u'...</td>\n",
       "      <td>{u'coordinates': [37.004502, 127.227532]}</td>\n",
       "      <td>NaN</td>\n",
       "      <td>2011-10-06T11:23:40.000Z</td>\n",
       "      <td>{u'media': [{u'media_url': u'http://p.twimg.co...</td>\n",
       "    </tr>\n",
       "    <tr>\n",
       "      <th>3</th>\n",
       "      <td>53dbe4d6ad128774638cb62f</td>\n",
       "      <td>{u'friendsCount': 717, u'favoritesCount': 7, u...</td>\n",
       "      <td>{u'coordinates': [62.03440544, 129.72807488]}</td>\n",
       "      <td>{u'name': u'\\u042f\\u043a\\u0443\\u0442\\u0441\\u04...</td>\n",
       "      <td>2011-10-06T11:23:41.000Z</td>\n",
       "      <td>{u'media': [{u'media_url': u'http://p.twimg.co...</td>\n",
       "    </tr>\n",
       "    <tr>\n",
       "      <th>4</th>\n",
       "      <td>53dbe4d6ad128774638cb637</td>\n",
       "      <td>{u'friendsCount': 373, u'favoritesCount': 1181...</td>\n",
       "      <td>{u'coordinates': [36.315321, -119.33635]}</td>\n",
       "      <td>{u'name': u'Visalia', u'country_code': u'Unite...</td>\n",
       "      <td>2011-10-06T11:24:21.000Z</td>\n",
       "      <td>{u'media': [{u'media_url': u'http://p.twimg.co...</td>\n",
       "    </tr>\n",
       "  </tbody>\n",
       "</table>\n",
       "</div>"
      ],
      "text/plain": [
       "                        _id  \\\n",
       "0  53dbe4d7ad128774638cb9d5   \n",
       "1  53dbe4d6ad128774638cb626   \n",
       "2  53dbe4d6ad128774638cb62e   \n",
       "3  53dbe4d6ad128774638cb62f   \n",
       "4  53dbe4d6ad128774638cb637   \n",
       "\n",
       "                                               actor  \\\n",
       "0  {u'friendsCount': 23, u'favoritesCount': 1, u'...   \n",
       "1  {u'friendsCount': 95, u'favoritesCount': 1999,...   \n",
       "2  {u'friendsCount': 43, u'favoritesCount': 8, u'...   \n",
       "3  {u'friendsCount': 717, u'favoritesCount': 7, u...   \n",
       "4  {u'friendsCount': 373, u'favoritesCount': 1181...   \n",
       "\n",
       "                                             geo  \\\n",
       "0      {u'coordinates': [13.818722, 100.621402]}   \n",
       "1  {u'coordinates': [40.21968323, -74.75245982]}   \n",
       "2      {u'coordinates': [37.004502, 127.227532]}   \n",
       "3  {u'coordinates': [62.03440544, 129.72807488]}   \n",
       "4      {u'coordinates': [36.315321, -119.33635]}   \n",
       "\n",
       "                                            location  \\\n",
       "0                                                NaN   \n",
       "1  {u'name': u'Trenton', u'country_code': u'Unite...   \n",
       "2                                                NaN   \n",
       "3  {u'name': u'\\u042f\\u043a\\u0443\\u0442\\u0441\\u04...   \n",
       "4  {u'name': u'Visalia', u'country_code': u'Unite...   \n",
       "\n",
       "                 postedTime                                   twitter_entities  \n",
       "0  2011-10-06T08:12:28.000Z  {u'media': [{u'media_url': u'http://p.twimg.co...  \n",
       "1  2011-10-06T11:22:35.000Z  {u'media': [{u'media_url': u'http://p.twimg.co...  \n",
       "2  2011-10-06T11:23:40.000Z  {u'media': [{u'media_url': u'http://p.twimg.co...  \n",
       "3  2011-10-06T11:23:41.000Z  {u'media': [{u'media_url': u'http://p.twimg.co...  \n",
       "4  2011-10-06T11:24:21.000Z  {u'media': [{u'media_url': u'http://p.twimg.co...  "
      ]
     },
     "execution_count": 5,
     "metadata": {},
     "output_type": "execute_result"
    }
   ],
   "source": [
    "df.head()"
   ]
  },
  {
   "cell_type": "code",
   "execution_count": 6,
   "metadata": {
    "collapsed": false
   },
   "outputs": [
    {
     "data": {
      "text/plain": [
       "str"
      ]
     },
     "execution_count": 6,
     "metadata": {},
     "output_type": "execute_result"
    }
   ],
   "source": [
    "type(df.actor.loc[0])"
   ]
  },
  {
   "cell_type": "code",
   "execution_count": 7,
   "metadata": {
    "collapsed": false
   },
   "outputs": [
    {
     "data": {
      "text/plain": [
       "\"{u'name': u'Trenton', u'country_code': u'United States'}\""
      ]
     },
     "execution_count": 7,
     "metadata": {},
     "output_type": "execute_result"
    }
   ],
   "source": [
    "df.location.loc[1]"
   ]
  },
  {
   "cell_type": "code",
   "execution_count": 8,
   "metadata": {
    "collapsed": true
   },
   "outputs": [],
   "source": [
    "tmp = df[['location']]"
   ]
  },
  {
   "cell_type": "code",
   "execution_count": 9,
   "metadata": {
    "collapsed": true
   },
   "outputs": [],
   "source": [
    "tmp = tmp[tmp.location.notnull()]"
   ]
  },
  {
   "cell_type": "code",
   "execution_count": 10,
   "metadata": {
    "collapsed": false
   },
   "outputs": [
    {
     "data": {
      "text/html": [
       "<div style=\"max-height:1000px;max-width:1500px;overflow:auto;\">\n",
       "<table border=\"1\" class=\"dataframe\">\n",
       "  <thead>\n",
       "    <tr style=\"text-align: right;\">\n",
       "      <th></th>\n",
       "      <th>location</th>\n",
       "    </tr>\n",
       "  </thead>\n",
       "  <tbody>\n",
       "    <tr>\n",
       "      <th>1</th>\n",
       "      <td>{u'name': u'Trenton', u'country_code': u'Unite...</td>\n",
       "    </tr>\n",
       "    <tr>\n",
       "      <th>3</th>\n",
       "      <td>{u'name': u'\\u042f\\u043a\\u0443\\u0442\\u0441\\u04...</td>\n",
       "    </tr>\n",
       "    <tr>\n",
       "      <th>4</th>\n",
       "      <td>{u'name': u'Visalia', u'country_code': u'Unite...</td>\n",
       "    </tr>\n",
       "    <tr>\n",
       "      <th>5</th>\n",
       "      <td>{u'name': u'Madrid', u'country_code': u'Spain'}</td>\n",
       "    </tr>\n",
       "    <tr>\n",
       "      <th>6</th>\n",
       "      <td>{u'name': u'Madrid', u'country_code': u'Spain'}</td>\n",
       "    </tr>\n",
       "  </tbody>\n",
       "</table>\n",
       "</div>"
      ],
      "text/plain": [
       "                                            location\n",
       "1  {u'name': u'Trenton', u'country_code': u'Unite...\n",
       "3  {u'name': u'\\u042f\\u043a\\u0443\\u0442\\u0441\\u04...\n",
       "4  {u'name': u'Visalia', u'country_code': u'Unite...\n",
       "5    {u'name': u'Madrid', u'country_code': u'Spain'}\n",
       "6    {u'name': u'Madrid', u'country_code': u'Spain'}"
      ]
     },
     "execution_count": 10,
     "metadata": {},
     "output_type": "execute_result"
    }
   ],
   "source": [
    "tmp.head()"
   ]
  },
  {
   "cell_type": "code",
   "execution_count": 11,
   "metadata": {
    "collapsed": false
   },
   "outputs": [
    {
     "data": {
      "text/plain": [
       "\"{u'name': u'Trenton', u'country_code': u'United States'}\""
      ]
     },
     "execution_count": 11,
     "metadata": {},
     "output_type": "execute_result"
    }
   ],
   "source": [
    "tmp.location.loc[1]"
   ]
  },
  {
   "cell_type": "code",
   "execution_count": 13,
   "metadata": {
    "collapsed": false
   },
   "outputs": [
    {
     "data": {
      "text/plain": [
       "'u'"
      ]
     },
     "execution_count": 13,
     "metadata": {},
     "output_type": "execute_result"
    }
   ],
   "source": [
    "tmp.location.loc[1][1]"
   ]
  },
  {
   "cell_type": "code",
   "execution_count": null,
   "metadata": {
    "collapsed": true
   },
   "outputs": [],
   "source": []
  }
 ],
 "metadata": {
  "kernelspec": {
   "display_name": "Python 2",
   "language": "python",
   "name": "python2"
  },
  "language_info": {
   "codemirror_mode": {
    "name": "ipython",
    "version": 2
   },
   "file_extension": ".py",
   "mimetype": "text/x-python",
   "name": "python",
   "nbconvert_exporter": "python",
   "pygments_lexer": "ipython2",
   "version": "2.7.6"
  }
 },
 "nbformat": 4,
 "nbformat_minor": 0
}
