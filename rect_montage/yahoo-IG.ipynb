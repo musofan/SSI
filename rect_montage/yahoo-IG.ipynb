{
 "cells": [
  {
   "cell_type": "code",
   "execution_count": 1,
   "metadata": {
    "collapsed": true
   },
   "outputs": [],
   "source": [
    "import pandas as pd\n",
    "import os"
   ]
  },
  {
   "cell_type": "markdown",
   "metadata": {},
   "source": [
    "#### Add local paths to cluster data"
   ]
  },
  {
   "cell_type": "code",
   "execution_count": 15,
   "metadata": {
    "collapsed": true
   },
   "outputs": [],
   "source": [
    "PRE = \"/Users/damoncrockett/Desktop/cities_20k/\""
   ]
  },
  {
   "cell_type": "code",
   "execution_count": 16,
   "metadata": {
    "collapsed": true
   },
   "outputs": [],
   "source": [
    "DB = \"/Users/damoncrockett/Desktop/cities_20k/yahoo/NEW_Clusters/Clusters_Hierarchical/Hierarchical_Cluster_Labels/\""
   ]
  },
  {
   "cell_type": "code",
   "execution_count": 17,
   "metadata": {
    "collapsed": false
   },
   "outputs": [],
   "source": [
    "data_files = []\n",
    "for root,dirs,files in os.walk(DB):\n",
    "    for name in files:\n",
    "        data_files.append(os.path.join(root,name))"
   ]
  },
  {
   "cell_type": "code",
   "execution_count": 18,
   "metadata": {
    "collapsed": true
   },
   "outputs": [],
   "source": [
    "# takes a few minutes to run\n",
    "\n",
    "for item in data_files:\n",
    "    tmp = pd.read_csv(item)\n",
    "    n = len(tmp.index)\n",
    "    local_path = []\n",
    "    for i in range(n):\n",
    "        local_path.append(PRE+tmp.city.loc[i]+\"_20k/\"+tmp.image_id.loc[i]+\".jpg\")\n",
    "    tmp['local_path'] = local_path\n",
    "    tmp.to_csv(item,index=False)"
   ]
  },
  {
   "cell_type": "markdown",
   "metadata": {},
   "source": [
    "#### plan histograms"
   ]
  },
  {
   "cell_type": "code",
   "execution_count": 19,
   "metadata": {
    "collapsed": false
   },
   "outputs": [
    {
     "data": {
      "text/plain": [
       "Counter({577: 5, 1794: 5, 2155: 5, 4391: 5, 2440: 5, 1020: 5, 8523: 5, 5391: 5, 168: 5, 1013: 5, 24662: 5, 4121: 5, 1498: 5, 219: 5, 1084: 5, 318: 5})"
      ]
     },
     "execution_count": 19,
     "metadata": {},
     "output_type": "execute_result"
    }
   ],
   "source": [
    "lengths = []\n",
    "\n",
    "for item in data_files:\n",
    "    tmp = pd.read_csv(item)\n",
    "    n = len(tmp.index)\n",
    "    lengths.append(n)\n",
    "    \n",
    "from collections import Counter\n",
    "Counter(lengths)"
   ]
  },
  {
   "cell_type": "code",
   "execution_count": 20,
   "metadata": {
    "collapsed": true
   },
   "outputs": [],
   "source": [
    "# So each cluster category has its own particular data length - why?\n",
    "# 16 cluster categories\n",
    "# 5 levels of cluster granularity (from 2 to 50)"
   ]
  },
  {
   "cell_type": "markdown",
   "metadata": {},
   "source": [
    "#### first look: 25x25 histograms with cluster_id on x, max height of 25"
   ]
  },
  {
   "cell_type": "code",
   "execution_count": 21,
   "metadata": {
    "collapsed": true
   },
   "outputs": [],
   "source": [
    "import glob\n",
    "from PIL import Image"
   ]
  },
  {
   "cell_type": "code",
   "execution_count": 22,
   "metadata": {
    "collapsed": true
   },
   "outputs": [],
   "source": [
    "num_clusters = 25"
   ]
  },
  {
   "cell_type": "code",
   "execution_count": 23,
   "metadata": {
    "collapsed": true
   },
   "outputs": [],
   "source": [
    "thumb_side = 64"
   ]
  },
  {
   "cell_type": "code",
   "execution_count": 24,
   "metadata": {
    "collapsed": true
   },
   "outputs": [],
   "source": [
    "#sort_var = \"city\""
   ]
  },
  {
   "cell_type": "code",
   "execution_count": 25,
   "metadata": {
    "collapsed": true
   },
   "outputs": [],
   "source": [
    "max_height = num_clusters\n",
    "px_w = num_clusters * thumb_side\n",
    "px_h = max_height * thumb_side"
   ]
  },
  {
   "cell_type": "code",
   "execution_count": 26,
   "metadata": {
    "collapsed": true
   },
   "outputs": [],
   "source": [
    "DIR = DB+\"25/\""
   ]
  },
  {
   "cell_type": "code",
   "execution_count": 27,
   "metadata": {
    "collapsed": false
   },
   "outputs": [],
   "source": [
    "for csv in glob.glob(os.path.join(DIR,\"*.csv\")):\n",
    "    canvas = Image.new('RGB',(px_w,px_h),(50,50,50))\n",
    "    outfile = PRE+\"viz/hierarchical/cluster_comparisons/\"+os.path.basename(csv)+\"_25.png\"\n",
    "    df = pd.read_csv(csv)\n",
    "    bins = list(set(list(df.cluster_id)))\n",
    "    \n",
    "    for item in bins:\n",
    "        # select rows of df in bin\n",
    "        tmp = df[df.cluster_id==item]\n",
    "        if len(tmp.index) > 25:\n",
    "            tmp = tmp.sample(n=25)\n",
    "\n",
    "        # sort the resulting DataFrame (tmp) by the sorting variable\n",
    "        #tmp = tmp.sort(sort_var)\n",
    "\n",
    "        # reset index because we'll use the index in a loop\n",
    "        tmp.reset_index(drop=True,inplace=True)\n",
    "\n",
    "        # define x and y coordinates for pasting\n",
    "        y_coord = px_h - thumb_side\n",
    "        x_coord = thumb_side * (item - 1)\n",
    "\n",
    "        # loop over rows in tmp\n",
    "        n = len(tmp.index)\n",
    "        for i in range(n):\n",
    "            thumb = Image.open(tmp.local_path.loc[i])\n",
    "            thumb.thumbnail((thumb_side,thumb_side),Image.ANTIALIAS)\n",
    "            canvas.paste(thumb,(x_coord,y_coord))\n",
    "            y_coord = y_coord - thumb_side\n",
    "    \n",
    "    canvas.save(outfile)"
   ]
  },
  {
   "cell_type": "markdown",
   "metadata": {},
   "source": [
    "#### now 50x50"
   ]
  },
  {
   "cell_type": "code",
   "execution_count": 28,
   "metadata": {
    "collapsed": true
   },
   "outputs": [],
   "source": [
    "num_clusters = 50"
   ]
  },
  {
   "cell_type": "code",
   "execution_count": 29,
   "metadata": {
    "collapsed": true
   },
   "outputs": [],
   "source": [
    "thumb_side = 64"
   ]
  },
  {
   "cell_type": "code",
   "execution_count": 30,
   "metadata": {
    "collapsed": true
   },
   "outputs": [],
   "source": [
    "max_height = num_clusters\n",
    "px_w = num_clusters * thumb_side\n",
    "px_h = max_height * thumb_side"
   ]
  },
  {
   "cell_type": "code",
   "execution_count": 31,
   "metadata": {
    "collapsed": true
   },
   "outputs": [],
   "source": [
    "DIR = DB+\"50/\""
   ]
  },
  {
   "cell_type": "code",
   "execution_count": 32,
   "metadata": {
    "collapsed": true
   },
   "outputs": [],
   "source": [
    "for csv in glob.glob(os.path.join(DIR,\"*.csv\")):\n",
    "    canvas = Image.new('RGB',(px_w,px_h),(50,50,50))\n",
    "    outfile = PRE+\"viz/hierarchical/cluster_comparisons/\"+os.path.basename(csv)+\"_50.png\"\n",
    "    df = pd.read_csv(csv)\n",
    "    bins = list(set(list(df.cluster_id)))\n",
    "    \n",
    "    for item in bins:\n",
    "        # select rows of df in bin\n",
    "        tmp = df[df.cluster_id==item]\n",
    "        if len(tmp.index) > 50:\n",
    "            tmp = tmp.sample(n=50)\n",
    "\n",
    "        # sort the resulting DataFrame (tmp) by the sorting variable\n",
    "        #tmp = tmp.sort(sort_var)\n",
    "\n",
    "        # reset index because we'll use the index in a loop\n",
    "        tmp.reset_index(drop=True,inplace=True)\n",
    "\n",
    "        # define x and y coordinates for pasting\n",
    "        y_coord = px_h - thumb_side\n",
    "        x_coord = thumb_side * (item - 1)\n",
    "\n",
    "        # loop over rows in tmp\n",
    "        n = len(tmp.index)\n",
    "        for i in range(n):\n",
    "            thumb = Image.open(tmp.local_path.loc[i])\n",
    "            thumb.thumbnail((thumb_side,thumb_side),Image.ANTIALIAS)\n",
    "            canvas.paste(thumb,(x_coord,y_coord))\n",
    "            y_coord = y_coord - thumb_side\n",
    "    \n",
    "    canvas.save(outfile)"
   ]
  },
  {
   "cell_type": "markdown",
   "metadata": {},
   "source": [
    "#### 10x25"
   ]
  },
  {
   "cell_type": "code",
   "execution_count": 33,
   "metadata": {
    "collapsed": true
   },
   "outputs": [],
   "source": [
    "num_clusters = 10"
   ]
  },
  {
   "cell_type": "code",
   "execution_count": 34,
   "metadata": {
    "collapsed": true
   },
   "outputs": [],
   "source": [
    "thumb_side = 64"
   ]
  },
  {
   "cell_type": "code",
   "execution_count": 35,
   "metadata": {
    "collapsed": true
   },
   "outputs": [],
   "source": [
    "max_height = num_clusters\n",
    "px_w = num_clusters * thumb_side\n",
    "px_h = 1600"
   ]
  },
  {
   "cell_type": "code",
   "execution_count": 36,
   "metadata": {
    "collapsed": true
   },
   "outputs": [],
   "source": [
    "DIR = DB+\"10/\""
   ]
  },
  {
   "cell_type": "code",
   "execution_count": 37,
   "metadata": {
    "collapsed": true
   },
   "outputs": [],
   "source": [
    "for csv in glob.glob(os.path.join(DIR,\"*.csv\")):\n",
    "    canvas = Image.new('RGB',(px_w,px_h),(50,50,50))\n",
    "    outfile = PRE+\"viz/hierarchical/cluster_comparisons/\"+os.path.basename(csv)+\"_10.png\"\n",
    "    df = pd.read_csv(csv)\n",
    "    bins = list(set(list(df.cluster_id)))\n",
    "    \n",
    "    for item in bins:\n",
    "        # select rows of df in bin\n",
    "        tmp = df[df.cluster_id==item]\n",
    "        if len(tmp.index) > 25:\n",
    "            tmp = tmp.sample(n=25)\n",
    "\n",
    "        # sort the resulting DataFrame (tmp) by the sorting variable\n",
    "        #tmp = tmp.sort(sort_var)\n",
    "\n",
    "        # reset index because we'll use the index in a loop\n",
    "        tmp.reset_index(drop=True,inplace=True)\n",
    "\n",
    "        # define x and y coordinates for pasting\n",
    "        y_coord = px_h - thumb_side\n",
    "        x_coord = thumb_side * (item - 1)\n",
    "\n",
    "        # loop over rows in tmp\n",
    "        n = len(tmp.index)\n",
    "        for i in range(n):\n",
    "            thumb = Image.open(tmp.local_path.loc[i])\n",
    "            thumb.thumbnail((thumb_side,thumb_side),Image.ANTIALIAS)\n",
    "            canvas.paste(thumb,(x_coord,y_coord))\n",
    "            y_coord = y_coord - thumb_side\n",
    "    \n",
    "    canvas.save(outfile)"
   ]
  },
  {
   "cell_type": "markdown",
   "metadata": {},
   "source": [
    "#### 5x25"
   ]
  },
  {
   "cell_type": "code",
   "execution_count": 38,
   "metadata": {
    "collapsed": true
   },
   "outputs": [],
   "source": [
    "num_clusters = 5\n",
    "thumb_side = 64\n",
    "max_height = num_clusters\n",
    "px_w = num_clusters * thumb_side\n",
    "px_h = 1600\n",
    "DIR = DB+\"5/\""
   ]
  },
  {
   "cell_type": "code",
   "execution_count": 39,
   "metadata": {
    "collapsed": true
   },
   "outputs": [],
   "source": [
    "for csv in glob.glob(os.path.join(DIR,\"*.csv\")):\n",
    "    canvas = Image.new('RGB',(px_w,px_h),(50,50,50))\n",
    "    outfile = PRE+\"viz/hierarchical/cluster_comparisons/\"+os.path.basename(csv)+\"_5.png\"\n",
    "    df = pd.read_csv(csv)\n",
    "    bins = list(set(list(df.cluster_id)))\n",
    "    \n",
    "    for item in bins:\n",
    "        # select rows of df in bin\n",
    "        tmp = df[df.cluster_id==item]\n",
    "        if len(tmp.index) > 25:\n",
    "            tmp = tmp.sample(n=25)\n",
    "\n",
    "        # sort the resulting DataFrame (tmp) by the sorting variable\n",
    "        #tmp = tmp.sort(sort_var)\n",
    "\n",
    "        # reset index because we'll use the index in a loop\n",
    "        tmp.reset_index(drop=True,inplace=True)\n",
    "\n",
    "        # define x and y coordinates for pasting\n",
    "        y_coord = px_h - thumb_side\n",
    "        x_coord = thumb_side * (item - 1)\n",
    "\n",
    "        # loop over rows in tmp\n",
    "        n = len(tmp.index)\n",
    "        for i in range(n):\n",
    "            thumb = Image.open(tmp.local_path.loc[i])\n",
    "            thumb.thumbnail((thumb_side,thumb_side),Image.ANTIALIAS)\n",
    "            canvas.paste(thumb,(x_coord,y_coord))\n",
    "            y_coord = y_coord - thumb_side\n",
    "    \n",
    "    canvas.save(outfile)"
   ]
  },
  {
   "cell_type": "markdown",
   "metadata": {},
   "source": [
    "#### 2x25"
   ]
  },
  {
   "cell_type": "code",
   "execution_count": 40,
   "metadata": {
    "collapsed": true
   },
   "outputs": [],
   "source": [
    "num_clusters = 2\n",
    "thumb_side = 64\n",
    "max_height = num_clusters\n",
    "px_w = num_clusters * thumb_side\n",
    "px_h = 1600\n",
    "DIR = DB+\"2/\""
   ]
  },
  {
   "cell_type": "code",
   "execution_count": 41,
   "metadata": {
    "collapsed": true
   },
   "outputs": [],
   "source": [
    "for csv in glob.glob(os.path.join(DIR,\"*.csv\")):\n",
    "    canvas = Image.new('RGB',(px_w,px_h),(50,50,50))\n",
    "    outfile = PRE+\"viz/hierarchical/cluster_comparisons/\"+os.path.basename(csv)+\"_2.png\"\n",
    "    df = pd.read_csv(csv)\n",
    "    bins = list(set(list(df.cluster_id)))\n",
    "    \n",
    "    for item in bins:\n",
    "        # select rows of df in bin\n",
    "        tmp = df[df.cluster_id==item]\n",
    "        if len(tmp.index) > 25:\n",
    "            tmp = tmp.sample(n=25)\n",
    "\n",
    "        # sort the resulting DataFrame (tmp) by the sorting variable\n",
    "        #tmp = tmp.sort(sort_var)\n",
    "\n",
    "        # reset index because we'll use the index in a loop\n",
    "        tmp.reset_index(drop=True,inplace=True)\n",
    "\n",
    "        # define x and y coordinates for pasting\n",
    "        y_coord = px_h - thumb_side\n",
    "        x_coord = thumb_side * (item - 1)\n",
    "\n",
    "        # loop over rows in tmp\n",
    "        n = len(tmp.index)\n",
    "        for i in range(n):\n",
    "            thumb = Image.open(tmp.local_path.loc[i])\n",
    "            thumb.thumbnail((thumb_side,thumb_side),Image.ANTIALIAS)\n",
    "            canvas.paste(thumb,(x_coord,y_coord))\n",
    "            y_coord = y_coord - thumb_side\n",
    "    \n",
    "    canvas.save(outfile)"
   ]
  },
  {
   "cell_type": "markdown",
   "metadata": {},
   "source": [
    "#### Now making square montage of every cluster (there should be 92)"
   ]
  },
  {
   "cell_type": "code",
   "execution_count": 42,
   "metadata": {
    "collapsed": true
   },
   "outputs": [],
   "source": [
    "import numpy as np"
   ]
  },
  {
   "cell_type": "code",
   "execution_count": 43,
   "metadata": {
    "collapsed": true
   },
   "outputs": [],
   "source": [
    "thumb_side = 64"
   ]
  },
  {
   "cell_type": "code",
   "execution_count": 44,
   "metadata": {
    "collapsed": false
   },
   "outputs": [],
   "source": [
    "for item in data_files:\n",
    "    category = os.path.basename(item).rstrip(\"csv\").rstrip(\".\")\n",
    "    folder = item.split(\"/\")[8]\n",
    "    df = pd.read_csv(item)\n",
    "    bins = list(set(list(df.cluster_id)))\n",
    "    \n",
    "    for member in bins:\n",
    "        outfile = PRE+\"viz/hierarchical/full_clusters/\"+\"all_\"+category+\"_\"+folder+\"_\"+str(member)+\".png\"\n",
    "        \n",
    "        tmp = df[df.cluster_id==member]\n",
    "        n = len(tmp.index)\n",
    "        \n",
    "        side = int(round(np.sqrt(n)) - 1)\n",
    "        if side > 0:\n",
    "            m = side * side\n",
    "            tmp = tmp[:m]\n",
    "            n = len(tmp.index)\n",
    "            tmp.reset_index(drop=True,inplace=True)\n",
    "        \n",
    "            tmp[\"y_coord\"] = list(np.repeat(range(side),side) * thumb_side)\n",
    "            exes = list(range(side)) * side\n",
    "            tmp[\"x_coord\"] = [thumb_side * item for item in exes]\n",
    "        \n",
    "            canvas = Image.new('RGB',(side * thumb_side, side * thumb_side),(50,50,50))\n",
    "            for i in range(n):\n",
    "                thumb = Image.open(tmp.local_path.loc[i])\n",
    "                thumb.thumbnail((thumb_side,thumb_side),Image.ANTIALIAS)\n",
    "                canvas.paste(thumb,(tmp.x_coord.loc[i],tmp.y_coord.loc[i]))\n",
    "    \n",
    "            canvas.save(outfile)"
   ]
  }
 ],
 "metadata": {
  "kernelspec": {
   "display_name": "Python 2",
   "language": "python",
   "name": "python2"
  },
  "language_info": {
   "codemirror_mode": {
    "name": "ipython",
    "version": 2
   },
   "file_extension": ".py",
   "mimetype": "text/x-python",
   "name": "python",
   "nbconvert_exporter": "python",
   "pygments_lexer": "ipython2",
   "version": "2.7.6"
  }
 },
 "nbformat": 4,
 "nbformat_minor": 0
}
